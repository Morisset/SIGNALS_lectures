{
 "cells": [
  {
   "cell_type": "code",
   "execution_count": null,
   "metadata": {},
   "outputs": [],
   "source": [
    "import numpy as np\n",
    "import matplotlib.pyplot as plt\n",
    "import pyCloudy as pc"
   ]
  },
  {
   "cell_type": "code",
   "execution_count": null,
   "metadata": {},
   "outputs": [],
   "source": [
    "import os\n",
    "dir_ = os.environ['HOME'] + '/SIGNALS_models'\n",
    "pc.print_make_file(dir_)"
   ]
  },
  {
   "cell_type": "markdown",
   "metadata": {},
   "source": [
    "# Using Popstar models"
   ]
  },
  {
   "cell_type": "markdown",
   "metadata": {},
   "source": [
    "`mkdir Popstar\n",
    "cd Popstar\n",
    "wget https://www.fractal-es.com/PopStar/docs/sp-cha-z0001.zip\n",
    "wget https://www.fractal-es.com/PopStar/docs/sp-cha-z0004.zip\n",
    "wget https://www.fractal-es.com/PopStar/docs/sp-cha-z0040.zip\n",
    "wget https://www.fractal-es.com/PopStar/docs/sp-cha-z0080.zip\n",
    "wget https://www.fractal-es.com/PopStar/docs/sp-cha-z0200.zip\n",
    "wget https://www.fractal-es.com/PopStar/docs/sp-cha-z0500.zip\n",
    "unzip sp-cha-z0001.zip\n",
    "unzip sp-cha-z0004.zip \n",
    "unzip sp-cha-z0040.zip \n",
    "unzip sp-cha-z0080.zip \n",
    "unzip sp-cha-z0200.zip \n",
    "unzip sp-cha-z0500.zip\n",
    "wget https://data.nublado.org/stars/convert_popstar.pl\n",
    "chmod a+x convert_popstar.pl \n",
    "./convert_popstar.pl > spneb_cha.ascii\n",
    "echo 'compile stars \"spneb_cha.ascii\"' | cloudy.exe\n",
    "`"
   ]
  },
  {
   "cell_type": "markdown",
   "metadata": {},
   "source": [
    "Copy the `spneb_cha.mod` file to your models directory. From this directory, you can explore the list of available parameters:"
   ]
  },
  {
   "cell_type": "code",
   "execution_count": null,
   "metadata": {},
   "outputs": [],
   "source": [
    "!cd ~/SIGNALS_models/; echo 'table star \"spneb_cha.mod\" list' | cloudy.exe"
   ]
  },
  {
   "cell_type": "code",
   "execution_count": null,
   "metadata": {},
   "outputs": [],
   "source": [
    "# \n",
    "10**(np.array((-4, -3.4, -2.4, -2.1, -1.7, -1.3))+2.1)"
   ]
  },
  {
   "cell_type": "code",
   "execution_count": null,
   "metadata": {},
   "outputs": [],
   "source": [
    "options = ('no molecules',\n",
    "           'no level2 lines',\n",
    "           'no fine opacities',\n",
    "           'atom h-like levels small',\n",
    "           'atom he-like levels small',\n",
    "           'element limit off -7',\n",
    "            )\n",
    "\n",
    "from pyCloudy.utils.physics import abund_Nicholls_GC_2017_0020, abund_Nicholls_GC_2017_0200, \\\n",
    "                                   abund_Nicholls_GC_2017_0400, abund_Nicholls_GC_2017_1000, \\\n",
    "                                   abund_Nicholls_GC_2017_2100, abund_Nicholls_GC_2017_3000\n",
    "\n",
    "def get_R_in_Q0(logU, fr, NH=100, ff=1.0): # fr is a form factor. see Sec 4.1 of  http://adsabs.harvard.edu/abs/2015A%26A...576A..83S\n",
    "    c = pc.CST.CLIGHT\n",
    "    U_mean = 10**logU\n",
    "    w = (1 + fr**3.)**(1./3) - fr\n",
    "    alpha_B = 2.6e-13\n",
    "    Q0 = 4. * np.pi * c**3 * U_mean**3 / (3. * NH * ff**2 * alpha_B**2 * w**3)\n",
    "    R_str = (3. * Q0 / (4 * np.pi * NH**2 * alpha_B * ff))**(1./3)\n",
    "    R_in = fr * R_str\n",
    "    return R_in, Q0\n",
    "\n",
    "def make_mod(models_dir, generic_name, logU, Z, age):\n",
    "    \n",
    "    if Z not in ('0020', '0200', '0400', '1000', '2100', '3000'):\n",
    "        raise ValueError('Wrong Z : {}'.format(Z))\n",
    "    name = '{}_{:4.1f}_{}_{:3.1f}'.format(generic_name, logU, Z, age/1e6)\n",
    "    NH = 100\n",
    "    ff = 0.1\n",
    "    fr = 3.00\n",
    "    R_in, Q0 = get_R_in_Q0(logU, fr=fr, NH=NH, ff=ff)\n",
    "    c_input = pc.CloudyInput('{0}/{1}'.format(models_dir, name))\n",
    "    c_input.set_star(SED='table star \"spneb_cha.mod\"', \n",
    "                     SED_params=(age, -2.1),\n",
    "                     lumi_unit = 'q(H)', lumi_value = np.log10(Q0))\n",
    "    c_input.set_cste_density(np.log10(NH), ff = ff)\n",
    "    c_input.set_radius(r_in = np.log10(R_in))\n",
    "    ab_dict = eval(\"abund_Nicholls_GC_2017_{}\".format(Z))\n",
    "    c_input.set_abund(ab_dict = ab_dict)\n",
    "    c_input.set_grains('ism {} '.format(ab_dict['O']-ab_dict_sol['O'])) # Not totally coherent...\n",
    "    c_input.set_distance(dist=1., unit='kpc', linear=True)\n",
    "    c_input.set_other(options)\n",
    "    c_input.set_stop(('temperature off', 'pfrac 0.02'))\n",
    "    # list of emission lines see: https://sites.google.com/site/mexicanmillionmodels/the-different-tables/lines\n",
    "    c_input.set_emis_tab(['H  1 4861.33A', \n",
    "                          'H  1 6562.81A', \n",
    "                          'N  2 6583.45A', \n",
    "                          'O  2 3726.03A',\n",
    "                          'O  2 3728.81A',                          \n",
    "                          'O  3 5006.84A',\n",
    "                          'S  2 6730.82A',\n",
    "                          'S  2 6716.44A'])\n",
    "    c_input.print_input()"
   ]
  },
  {
   "cell_type": "code",
   "execution_count": null,
   "metadata": {},
   "outputs": [],
   "source": [
    "generic_name = 'M6'"
   ]
  },
  {
   "cell_type": "code",
   "execution_count": null,
   "metadata": {},
   "outputs": [],
   "source": [
    "for age in (1e6, 2e6, 3e6, 4e6, 5e6):\n",
    "    for logU in np.arange(-3.5, -1.49, 0.5):\n",
    "        for Z in ('0020', '0200', '0400', '1000', '2100', '3000'):\n",
    "            make_mod(dir_, generic_name, logU, Z, age)"
   ]
  },
  {
   "cell_type": "code",
   "execution_count": null,
   "metadata": {},
   "outputs": [],
   "source": [
    "# This will run 150 models, take care of this ;-)\n",
    "#pc.run_cloudy(dir_=dir_, n_proc=12, use_make=True, model_name=generic_name)"
   ]
  },
  {
   "cell_type": "markdown",
   "metadata": {},
   "source": [
    "## Read all the models in asingle list"
   ]
  },
  {
   "cell_type": "code",
   "execution_count": null,
   "metadata": {},
   "outputs": [],
   "source": [
    "Ms = pc.load_models('{}/{}'.format(dir_, generic_name))"
   ]
  },
  {
   "cell_type": "markdown",
   "metadata": {},
   "source": [
    "## Extract the first model to have a look at it"
   ]
  },
  {
   "cell_type": "code",
   "execution_count": null,
   "metadata": {},
   "outputs": [],
   "source": [
    "M = Ms[0]"
   ]
  },
  {
   "cell_type": "code",
   "execution_count": null,
   "metadata": {},
   "outputs": [],
   "source": [
    "M.print_stats()"
   ]
  },
  {
   "cell_type": "code",
   "execution_count": null,
   "metadata": {},
   "outputs": [],
   "source": [
    "f, ax = plt.subplots(figsize=(8, 6))\n",
    "M.plot_spectrum(xunit='Ang',cont='ntrans',yunit='esA', ax=ax)\n",
    "M.plot_spectrum(xunit='Ang',cont='incid',yunit='esA', ax=ax)\n",
    "ax.set_xlim((100, 1e7))\n",
    "ax.set_ylim((1e28, 1e44));"
   ]
  },
  {
   "cell_type": "code",
   "execution_count": null,
   "metadata": {},
   "outputs": [],
   "source": [
    "M.emis_labels"
   ]
  },
  {
   "cell_type": "markdown",
   "metadata": {},
   "source": [
    "## BPT diagram"
   ]
  },
  {
   "cell_type": "code",
   "execution_count": null,
   "metadata": {},
   "outputs": [],
   "source": [
    "Has = np.array([M.get_emis_vol('H__1_656281A') for M in Ms])\n",
    "Hbs = np.array([M.get_emis_vol('H__1_486133A') for M in Ms])    \n",
    "N2s = np.array([M.get_emis_vol('N__2_658345A') for M in Ms])\n",
    "O3s = np.array([M.get_emis_vol('O__3_500684A') for M in Ms])\n",
    "T0s = np.array([M.T0 for M in Ms])\n",
    "OoHs = np.array([M.abund['O'] for M in Ms])\n",
    "logUs = np.array([M.log_U_mean_ne for M in Ms])\n",
    "                             \n",
    "f, ax = plt.subplots(figsize=(8, 6))\n",
    "sc = ax.scatter(np.log10(N2s/Has), np.log10(O3s/Hbs), c=12+OoHs, s=150+40*logUs)\n",
    "cb = f.colorbar(sc, ax=ax)\n",
    "ax.set_xlabel('log [OIII]/Hb')\n",
    "ax.set_ylabel('log [NII]/Ha');"
   ]
  },
  {
   "cell_type": "markdown",
   "metadata": {},
   "source": [
    "## building a dictionnary that holds all the models"
   ]
  },
  {
   "cell_type": "code",
   "execution_count": null,
   "metadata": {},
   "outputs": [],
   "source": [
    "models_dic = {M.model_name_s[3:]:M  for M in Ms}"
   ]
  },
  {
   "cell_type": "markdown",
   "metadata": {},
   "source": [
    "## Effect of changing logU"
   ]
  },
  {
   "cell_type": "code",
   "execution_count": null,
   "metadata": {},
   "outputs": [],
   "source": [
    "f, ax = plt.subplots(figsize=(8, 6))\n",
    "names = ('-1.5_1000_1.0',\n",
    "         '-2.5_1000_1.0',\n",
    "         '-3.5_1000_1.0')\n",
    "for name in names:\n",
    "    M = models_dic[name]\n",
    "    ax.plot(M.depth/M.depth[-1], M.te, label=M.model_name_s)\n",
    "ax.legend()\n",
    "ax.set_xlabel('Normalized depth')\n",
    "ax.set_ylabel('Te [K]');"
   ]
  },
  {
   "cell_type": "markdown",
   "metadata": {},
   "source": [
    "## Effect of changing age"
   ]
  },
  {
   "cell_type": "code",
   "execution_count": null,
   "metadata": {},
   "outputs": [],
   "source": [
    "f, ax = plt.subplots(figsize=(8, 6))\n",
    "names = ('-2.5_1000_1.0',\n",
    "         '-2.5_1000_2.0',\n",
    "         '-2.5_1000_3.0',\n",
    "         '-2.5_1000_4.0',\n",
    "         '-2.5_1000_5.0')\n",
    "for name in names:\n",
    "    M = models_dic[name]\n",
    "    ax.plot(M.depth/M.depth[-1], M.te, label=M.model_name_s)\n",
    "ax.legend()\n",
    "ax.set_xlabel('Normalized depth')\n",
    "ax.set_ylabel('Te [K]');"
   ]
  },
  {
   "cell_type": "markdown",
   "metadata": {},
   "source": [
    "## Effect of changing metallicity"
   ]
  },
  {
   "cell_type": "code",
   "execution_count": null,
   "metadata": {},
   "outputs": [],
   "source": [
    "f, ax = plt.subplots(figsize=(8, 6))\n",
    "names = ('-2.5_0020_1.0',\n",
    "         '-2.5_0200_1.0',\n",
    "         '-2.5_0400_1.0',\n",
    "         '-2.5_1000_1.0',\n",
    "         '-2.5_2100_1.0', \n",
    "         '-2.5_3000_1.0')\n",
    "for name in names:\n",
    "    M = models_dic[name]\n",
    "    ax.plot(M.depth/M.depth[-1], M.te, label=M.model_name_s)\n",
    "ax.legend()\n",
    "ax.set_xlabel('Normalized depth')\n",
    "ax.set_ylabel('Te [K]');"
   ]
  },
  {
   "cell_type": "code",
   "execution_count": null,
   "metadata": {},
   "outputs": [],
   "source": []
  }
 ],
 "metadata": {
  "kernelspec": {
   "display_name": "Python 3",
   "language": "python",
   "name": "python3"
  },
  "language_info": {
   "codemirror_mode": {
    "name": "ipython",
    "version": 3
   },
   "file_extension": ".py",
   "mimetype": "text/x-python",
   "name": "python",
   "nbconvert_exporter": "python",
   "pygments_lexer": "ipython3",
   "version": "3.7.6"
  }
 },
 "nbformat": 4,
 "nbformat_minor": 4
}
