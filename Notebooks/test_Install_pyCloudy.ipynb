{
 "cells": [
  {
   "cell_type": "code",
   "execution_count": null,
   "metadata": {},
   "outputs": [],
   "source": [
    "import os\n",
    "import numpy as np\n",
    "import matplotlib.pyplot as plt\n",
    "import pyCloudy as pc"
   ]
  },
  {
   "cell_type": "code",
   "execution_count": null,
   "metadata": {},
   "outputs": [],
   "source": [
    "pc.config.cloudy_exe = 'cloudy.exe'"
   ]
  },
  {
   "cell_type": "code",
   "execution_count": null,
   "metadata": {},
   "outputs": [],
   "source": [
    "# Create the directory \n",
    "models_dir = \"../../SIGNALS_Models\"\n",
    "try: \n",
    "    os.makedirs(models_dir)\n",
    "except OSError:\n",
    "    if not os.path.isdir(models_dir):\n",
    "        raise"
   ]
  },
  {
   "cell_type": "code",
   "execution_count": null,
   "metadata": {},
   "outputs": [],
   "source": [
    "pc.print_make_file(models_dir)"
   ]
  },
  {
   "cell_type": "code",
   "execution_count": null,
   "metadata": {},
   "outputs": [],
   "source": [
    "name = 'M1'\n",
    "c_input = pc.CloudyInput('{0}/{1}'.format(models_dir, name))\n",
    "c_input.set_BB(Teff = 50000., lumi_unit = 'q(H)', lumi_value = 48)\n",
    "c_input.set_cste_density(2., ff = 1.)\n",
    "c_input.set_radius(r_in = 15.)\n",
    "c_input.set_abund(predef = 'ism')\n",
    "c_input.set_distance(dist=1., unit='kpc', linear=True)\n",
    "options = ('no molecules',\n",
    "           'no level2 lines',\n",
    "           'no fine opacities',\n",
    "           'atom h-like levels small',\n",
    "           'atom he-like levels small',\n",
    "           'element limit off -7',\n",
    "            )\n",
    "c_input.set_other(options)\n",
    "c_input.print_input()"
   ]
  },
  {
   "cell_type": "code",
   "execution_count": null,
   "metadata": {},
   "outputs": [],
   "source": [
    "!cat ../../SIGNALS_Models/M1.in"
   ]
  },
  {
   "cell_type": "code",
   "execution_count": null,
   "metadata": {},
   "outputs": [],
   "source": [
    "c_input.run_cloudy()"
   ]
  },
  {
   "cell_type": "code",
   "execution_count": null,
   "metadata": {},
   "outputs": [],
   "source": [
    "pc.log_.level=3\n",
    "M1 = pc.CloudyModel('{0}/{1}'.format(models_dir, name))\n",
    "# A warning is issued because no emission line file is found. \n",
    "# This is a normal behaviour, we didn't set it."
   ]
  },
  {
   "cell_type": "code",
   "execution_count": null,
   "metadata": {},
   "outputs": [],
   "source": [
    "M1.print_stats()"
   ]
  },
  {
   "cell_type": "code",
   "execution_count": null,
   "metadata": {},
   "outputs": [],
   "source": [
    "f, axes = plt.subplots(1, 3, figsize=(12,4))\n",
    "x = M1.depth/np.max(M1.depth)\n",
    "axes[0].plot(x, M1.te)\n",
    "axes[0].set_ylabel('Te [K]')\n",
    "axes[1].plot(x, M1.get_ionic('O', 1))\n",
    "axes[1].set_ylabel('O+/O')\n",
    "axes[1].set_ylim(0,1)\n",
    "axes[2].plot(x, M1.get_ionic('O', 2))\n",
    "axes[2].set_ylabel('O++/O')\n",
    "axes[2].set_ylim(0,1)\n",
    "f.tight_layout()"
   ]
  },
  {
   "cell_type": "code",
   "execution_count": null,
   "metadata": {},
   "outputs": [],
   "source": [
    "options = ('no molecules',\n",
    "           'no level2 lines',\n",
    "           'no fine opacities',\n",
    "           'atom h-like levels small',\n",
    "           'atom he-like levels small',\n",
    "           'element limit off -7',\n",
    "            )\n",
    "from pyCloudy.utils.physics import abund_Asplund_2009\n",
    "\n",
    "def get_R_in_Q0(logU, fr, NH=100, ff=1.0):\n",
    "    c = pc.CST.CLIGHT\n",
    "    U_mean = 10**logU\n",
    "    w = (1 + fr**3.)**(1./3) - fr\n",
    "    alpha_B = 2.6e-13\n",
    "    Q0 = 4. * np.pi * c**3 * U_mean**3 / (3. * NH * ff**2 * alpha_B**2 * w**3)\n",
    "    R_str = (3. * Q0 / (4 * np.pi * NH**2 * alpha_B * ff))**(1./3)\n",
    "    R_in = fr * R_str\n",
    "    return R_in, Q0\n",
    "\n",
    "def make_mod(name, logU, ab_O):\n",
    "    NH = 100\n",
    "    ff = 0.1\n",
    "    fr = 3.00\n",
    "    R_in, Q0 = get_R_in_Q0(logU, fr=fr, NH=NH, ff=ff)\n",
    "    c_input = pc.CloudyInput('{0}/{1}'.format(models_dir, name))\n",
    "    c_input.set_BB(Teff = 50000., lumi_unit = 'q(H)', lumi_value = np.log10(Q0))\n",
    "    c_input.set_cste_density(np.log10(NH), ff = ff)\n",
    "    c_input.set_radius(r_in = np.log10(R_in))\n",
    "    abund = abund_Asplund_2009.copy()\n",
    "    delta_O = ab_O - 12 - abund['O']\n",
    "    for elem in abund:\n",
    "        if elem != 'He':\n",
    "            abund[elem] += delta_O\n",
    "    c_input.set_abund(ab_dict = abund)\n",
    "    #c_input.set_grains('Orion {}'.format(10**delta_O))\n",
    "    c_input.set_distance(dist=1., unit='kpc', linear=True)\n",
    "    c_input.set_other(options)\n",
    "    c_input.set_stop(('temperature off', 'pfrac 0.02'))\n",
    "    c_input.set_emis_tab(['H  1  4861.33A', 'H  1  6562.81A', \n",
    "                          'N  2  6583.45A', 'O  3  5006.84A'])\n",
    "    c_input.print_input()"
   ]
  },
  {
   "cell_type": "code",
   "execution_count": null,
   "metadata": {},
   "outputs": [],
   "source": [
    "generic_name = 'M2_'"
   ]
  },
  {
   "cell_type": "code",
   "execution_count": null,
   "metadata": {},
   "outputs": [],
   "source": [
    "for logU in np.arange(-3.5, -1.49, 0.5):\n",
    "    for ab_O in np.arange(7, 9.1, 0.5):\n",
    "        name = '{}{:.1f}_{:.1f}'.format(generic_name, logU, ab_O)\n",
    "        make_mod(name, logU, ab_O)"
   ]
  },
  {
   "cell_type": "code",
   "execution_count": null,
   "metadata": {},
   "outputs": [],
   "source": [
    "pc.run_cloudy(dir_=models_dir, n_proc=8, model_name=generic_name)"
   ]
  },
  {
   "cell_type": "code",
   "execution_count": null,
   "metadata": {},
   "outputs": [],
   "source": [
    "pc.log_.level=2\n",
    "Ms = pc.load_models('{}/{}'.format(models_dir, generic_name))\n",
    "M = Ms[0]"
   ]
  },
  {
   "cell_type": "code",
   "execution_count": null,
   "metadata": {},
   "outputs": [],
   "source": [
    "x = np.array([M.log_U_mean for M in Ms])\n",
    "logHb = np.log10(np.array([M.get_emis_vol('H__1_486133A') for M in Ms]))\n",
    "logQ = np.log10(np.array([M.Q.sum() for M in Ms]))\n",
    "y = logHb - logQ\n",
    "c = 12+np.array([M.abund['O'] for M in Ms])"
   ]
  },
  {
   "cell_type": "code",
   "execution_count": null,
   "metadata": {},
   "outputs": [],
   "source": [
    "f, ax = plt.subplots(figsize=(9, 9))\n",
    "sc = ax.scatter(x, y, c=c, edgecolor='none', s=50)\n",
    "ax.set_xlabel('<logU>')\n",
    "ax.set_ylabel(r'log L(H$\\beta$)/Q$_ H$')\n",
    "cb = f.colorbar(sc)\n",
    "cb.set_label(r'12+log(O/H)')"
   ]
  },
  {
   "cell_type": "code",
   "execution_count": null,
   "metadata": {},
   "outputs": [],
   "source": [
    "from pyCloudy.utils.astro import conv_arc"
   ]
  },
  {
   "cell_type": "code",
   "execution_count": null,
   "metadata": {},
   "outputs": [],
   "source": [
    "# Define some parameters of the model:\n",
    "model_name = 'model_4'\n",
    "full_model_name = '{0}/{1}'.format(models_dir, model_name)\n",
    "dens = 4. #log cm-3\n",
    "Teff = 45000. #K\n",
    "qH = 47. #s-1\n",
    "r_min = 5e16 #cm\n",
    "dist = 1.26 #kpc\n",
    "# these are the commands common to all the models (here only one ...)\n",
    "options = ('no molecules',\n",
    "            'COSMIC RAY BACKGROUND',\n",
    "            )\n",
    "emis_tab = ['H  1  4861.33A',\n",
    "            'H  1  6562.81A',\n",
    "            'Ca B  5875.64A',\n",
    "            'N  2  6583.45A',\n",
    "            'O  1  6300.30A',\n",
    "            'O  2  3726.03A',\n",
    "            'O  2  3728.81A',\n",
    "            'O  3  5006.84A',\n",
    "            'BLND  4363.00A']\n",
    "abund = {'He' : -0.92, 'C' : 6.85 - 12, 'N' : -4.0, 'O' : -3.40, 'Ne' : -4.00, \n",
    "         'S' : -5.35, 'Ar' : -5.80, 'Fe' : -7.4, 'Cl' : -7.00}\n",
    "c_input = pc.CloudyInput(full_model_name)\n",
    "c_input.set_BB(Teff = Teff, lumi_unit = 'q(H)', lumi_value = qH)\n",
    "c_input.set_cste_density(dens)\n",
    "# Defining the inner radius. A second parameter would be the outer radius (matter-bounded nebula).\n",
    "c_input.set_radius(r_in=np.log10(r_min))\n",
    "c_input.set_abund(ab_dict = abund, nograins = True)\n",
    "c_input.set_other(options)\n",
    "c_input.set_iterate() # (0) for no iteration, () for one iteration, (N) for N iterations.\n",
    "c_input.set_sphere() # () or (True) : closed geometry, or (False): open geometry.\n",
    "c_input.set_emis_tab(emis_tab) # better use read_emis_file(file) for long list of lines, where file is an external file.\n",
    "c_input.set_distance(dist=dist, unit='kpc', linear=True) # unit can be 'kpc', 'Mpc', 'parsecs', 'cm'. If linear=False, the distance is in log.\n",
    "c_input.print_input(to_file = True, verbose = False)\n"
   ]
  },
  {
   "cell_type": "code",
   "execution_count": null,
   "metadata": {},
   "outputs": [],
   "source": [
    "# Running Cloudy with a timer. Here we reset it to 0.\n",
    "pc.log_.timer('Starting Cloudy', quiet = True, calling = 'test1')\n",
    "c_input.run_cloudy()\n",
    "pc.log_.timer('Cloudy ended after seconds:', calling = 'test1')"
   ]
  },
  {
   "cell_type": "code",
   "execution_count": null,
   "metadata": {},
   "outputs": [],
   "source": [
    "c_output = pc.CloudyModel(full_model_name)\n",
    "c_output.print_stats()"
   ]
  },
  {
   "cell_type": "code",
   "execution_count": null,
   "metadata": {},
   "outputs": [],
   "source": [
    "# define the size of the 3D cube and instanciate the object that manage it.\n",
    "cube_size = 201\n",
    "M_sphere = pc.C3D(c_output, dims=cube_size, center=True, n_dim=1)"
   ]
  },
  {
   "cell_type": "code",
   "execution_count": null,
   "metadata": {},
   "outputs": [],
   "source": [
    "# plot the image of the OIII emission\n",
    "f, ax = plt.subplots(figsize=(6,6))\n",
    "ax.imshow(M_sphere.get_emis('O__3_500684A').sum(0));"
   ]
  },
  {
   "cell_type": "code",
   "execution_count": null,
   "metadata": {},
   "outputs": [],
   "source": [
    "arcsec = lambda cm: conv_arc(dist=dist, dist_proj=cm)"
   ]
  },
  {
   "cell_type": "code",
   "execution_count": null,
   "metadata": {},
   "outputs": [],
   "source": [
    "def make_mask(ap_center=[0., 0.], ap_size=[1., 1.]):\n",
    "    \"\"\"\n",
    "    This returns a mask (values between 0. and 1.) to be multiplied to the image to take the flux passing through an aperture.\n",
    "    An pc.C3D object named M_sphere must exist outside theis function\n",
    "    \"\"\"\n",
    "    x_arc = arcsec(M_sphere.cub_coord.x_vec)\n",
    "    y_arc = arcsec(M_sphere.cub_coord.y_vec)\n",
    "    z_arc = arcsec(M_sphere.cub_coord.z_vec)\n",
    "    X, Y = np.meshgrid(y_arc, x_arc)\n",
    "    bool_mask = ((X > ap_center[0] - ap_size[0]/2.) & \n",
    "            (X <= ap_center[0] + ap_size[0]/2.) & \n",
    "            (Y > ap_center[1] - ap_size[1]/2.) & \n",
    "            (Y <= ap_center[1] + ap_size[1]/2.))\n",
    "    mask = np.zeros_like(X)\n",
    "    mask[bool_mask] = 1.0\n",
    "    return mask"
   ]
  },
  {
   "cell_type": "code",
   "execution_count": null,
   "metadata": {},
   "outputs": [],
   "source": [
    "# we define the mask. Can be change to see the effect of the aperture on line intensities\n",
    "mask = make_mask(ap_center=[1.5, 2.3], ap_size=[50, 1.5])"
   ]
  },
  {
   "cell_type": "code",
   "execution_count": null,
   "metadata": {},
   "outputs": [],
   "source": [
    "# Check that the mask is not empty\n",
    "print(mask.size)\n",
    "print(mask.sum())"
   ]
  },
  {
   "cell_type": "code",
   "execution_count": null,
   "metadata": {},
   "outputs": [],
   "source": [
    "# We plot the OIII image and overplot the mask.\n",
    "f, ax = plt.subplots(figsize=(6,6))\n",
    "im = ax.imshow(M_sphere.get_emis('O__3_500684A').sum(0), interpolation='None')\n",
    "f.colorbar(im, ax=ax)\n",
    "ax.contour(mask);"
   ]
  },
  {
   "cell_type": "code",
   "execution_count": null,
   "metadata": {},
   "outputs": [],
   "source": [
    "# Hbeta is computed for the whole object and throught the aperture\n",
    "Hb_tot = (M_sphere.get_emis('H__1_486133A')*M_sphere.cub_coord.cell_size).sum()\n",
    "Hb_slit = ((M_sphere.get_emis('H__1_486133A')*M_sphere.cub_coord.cell_size).sum(1) * mask).sum()\n",
    "print('{:.3e} {:.3e}'.format(Hb_tot, Hb_slit))"
   ]
  },
  {
   "cell_type": "code",
   "execution_count": null,
   "metadata": {},
   "outputs": [],
   "source": [
    "# For every line, we compute the intensity for the whole object and throught the aperture.\n",
    "# We also print out the difference due to the slit.\n",
    "for label in M_sphere.m[0].emis_labels:\n",
    "    I_tot = (M_sphere.get_emis(label).sum()*M_sphere.cub_coord.cell_size) / Hb_tot\n",
    "    I_slit = ((M_sphere.get_emis(label).sum(1) * mask).sum()*M_sphere.cub_coord.cell_size) / Hb_slit\n",
    "    print('line: {0:12s} I/Ib Total: {1:6.4f} I/Ib Slit: {2:6.4f} Delta: {3:4.1f}%'.format(label, I_tot, I_slit, \n",
    "                                                                                           (I_slit-I_tot)/I_tot*100))"
   ]
  }
 ],
 "metadata": {
  "kernelspec": {
   "display_name": "Python 3",
   "language": "python",
   "name": "python3"
  },
  "language_info": {
   "codemirror_mode": {
    "name": "ipython",
    "version": 3
   },
   "file_extension": ".py",
   "mimetype": "text/x-python",
   "name": "python",
   "nbconvert_exporter": "python",
   "pygments_lexer": "ipython3",
   "version": "3.7.6"
  }
 },
 "nbformat": 4,
 "nbformat_minor": 4
}
