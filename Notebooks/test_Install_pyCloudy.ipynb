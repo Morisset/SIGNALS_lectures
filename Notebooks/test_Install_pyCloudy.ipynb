{
 "cells": [
  {
   "cell_type": "code",
   "execution_count": null,
   "metadata": {},
   "outputs": [],
   "source": [
    "import os\n",
    "import numpy as np\n",
    "import matplotlib.pyplot as plt\n",
    "import pyCloudy as pc"
   ]
  },
  {
   "cell_type": "code",
   "execution_count": null,
   "metadata": {},
   "outputs": [],
   "source": [
    "pc.config.cloudy_exe = 'cloudy.exe'"
   ]
  },
  {
   "cell_type": "code",
   "execution_count": null,
   "metadata": {},
   "outputs": [],
   "source": [
    "# Create the directory \n",
    "models_dir = \"../SIGNALS_Models\"\n",
    "try: \n",
    "    os.makedirs(models_dir)\n",
    "except OSError:\n",
    "    if not os.path.isdir(models_dir):\n",
    "        raise"
   ]
  },
  {
   "cell_type": "code",
   "execution_count": null,
   "metadata": {},
   "outputs": [],
   "source": [
    "pc.print_make_file(models_dir)"
   ]
  },
  {
   "cell_type": "code",
   "execution_count": 21,
   "metadata": {},
   "outputs": [],
   "source": [
    "name = 'M1'\n",
    "c_input = pc.CloudyInput('{0}/{1}'.format(models_dir, name))\n",
    "c_input.set_BB(Teff = 50000., lumi_unit = 'q(H)', lumi_value = 48)\n",
    "c_input.set_cste_density(2., ff = 1.)\n",
    "c_input.set_radius(r_in = 15.)\n",
    "c_input.set_abund(predef = 'ism')\n",
    "c_input.set_distance(dist=1., unit='kpc', linear=True)\n",
    "options = ('no molecules',\n",
    "           'no level2 lines',\n",
    "           'no fine opacities',\n",
    "           'atom h-like levels small',\n",
    "           'atom he-like levels small',\n",
    "           'element limit off -7',\n",
    "            )\n",
    "c_input.set_other(options)\n",
    "c_input.print_input()"
   ]
  },
  {
   "cell_type": "code",
   "execution_count": 22,
   "metadata": {},
   "outputs": [
    {
     "name": "stdout",
     "output_type": "stream",
     "text": [
      "cat: ../SIGNALS_Models/M1.in: No such file or directory\n"
     ]
    }
   ],
   "source": [
    "!cat ../SIGNALS_Models/M1.in"
   ]
  },
  {
   "cell_type": "code",
   "execution_count": null,
   "metadata": {},
   "outputs": [],
   "source": [
    "c_input.run_cloudy()"
   ]
  },
  {
   "cell_type": "code",
   "execution_count": null,
   "metadata": {},
   "outputs": [],
   "source": [
    "pc.log_.level=3\n",
    "M1 = pc.CloudyModel('{0}/{1}'.format(models_dir, name))\n",
    "# A warning is issued because no emission line file is found. \n",
    "# This is a normal behaviour, we didn't set it."
   ]
  },
  {
   "cell_type": "code",
   "execution_count": null,
   "metadata": {},
   "outputs": [],
   "source": [
    "M1.print_stats()"
   ]
  },
  {
   "cell_type": "code",
   "execution_count": null,
   "metadata": {},
   "outputs": [],
   "source": [
    "f, axes = plt.subplots(1, 3, figsize=(12,4))\n",
    "x = M1.depth/np.max(M1.depth)\n",
    "axes[0].plot(x, M1.te)\n",
    "axes[0].set_ylabel('Te [K]')\n",
    "axes[1].plot(x, M1.get_ionic('O', 1))\n",
    "axes[1].set_ylabel('O+/O')\n",
    "axes[1].set_ylim(0,1)\n",
    "axes[2].plot(x, M1.get_ionic('O', 2))\n",
    "axes[2].set_ylabel('O++/O')\n",
    "axes[2].set_ylim(0,1)\n",
    "f.tight_layout()"
   ]
  },
  {
   "cell_type": "code",
   "execution_count": null,
   "metadata": {},
   "outputs": [],
   "source": [
    "options = ('no molecules',\n",
    "           'no level2 lines',\n",
    "           'no fine opacities',\n",
    "           'atom h-like levels small',\n",
    "           'atom he-like levels small',\n",
    "           'element limit off -7',\n",
    "            )\n",
    "from pyCloudy.utils.physics import abund_Asplund_2009\n",
    "\n",
    "def get_R_in_Q0(logU, fr, NH=100, ff=1.0):\n",
    "    c = pc.CST.CLIGHT\n",
    "    U_mean = 10**logU\n",
    "    w = (1 + fr**3.)**(1./3) - fr\n",
    "    alpha_B = 2.6e-13\n",
    "    Q0 = 4. * np.pi * c**3 * U_mean**3 / (3. * NH * ff**2 * alpha_B**2 * w**3)\n",
    "    R_str = (3. * Q0 / (4 * np.pi * NH**2 * alpha_B * ff))**(1./3)\n",
    "    R_in = fr * R_str\n",
    "    return R_in, Q0\n",
    "\n",
    "def make_mod(name, logU, ab_O):\n",
    "    NH = 100\n",
    "    ff = 0.1\n",
    "    fr = 3.00\n",
    "    R_in, Q0 = get_R_in_Q0(logU, fr=fr, NH=NH, ff=ff)\n",
    "    c_input = pc.CloudyInput('{0}/{1}'.format(models_dir, name))\n",
    "    c_input.set_BB(Teff = 50000., lumi_unit = 'q(H)', lumi_value = np.log10(Q0))\n",
    "    c_input.set_cste_density(np.log10(NH), ff = ff)\n",
    "    c_input.set_radius(r_in = np.log10(R_in))\n",
    "    abund = abund_Asplund_2009.copy()\n",
    "    delta_O = ab_O - 12 - abund['O']\n",
    "    for elem in abund:\n",
    "        if elem != 'He':\n",
    "            abund[elem] += delta_O\n",
    "    c_input.set_abund(ab_dict = abund)\n",
    "    #c_input.set_grains('Orion {}'.format(10**delta_O))\n",
    "    c_input.set_distance(dist=1., unit='kpc', linear=True)\n",
    "    c_input.set_other(options)\n",
    "    c_input.set_stop(('temperature off', 'pfrac 0.02'))\n",
    "    c_input.set_emis_tab(['H  1  4861.33A', 'H  1  6562.81A', \n",
    "                          'N  2  6583.45A', 'O  3  5006.84A'])\n",
    "    c_input.print_input()"
   ]
  },
  {
   "cell_type": "code",
   "execution_count": null,
   "metadata": {},
   "outputs": [],
   "source": [
    "def set_models(dir_, model_name):\n",
    "    emis_tab = ['H  1  4861.33A',\n",
    "            'H  1  6562.81A',\n",
    "            'Ca B  5875.64A',\n",
    "            'N  2  6583.45A',\n",
    "            'O  1  6300.30A',\n",
    "            'O  2  3726.03A',\n",
    "            'O  2  3728.81A',\n",
    "            'O  3  5006.84A',\n",
    "            'BLND  4363.00A'\n",
    "            ]\n",
    "    a = 2.\n",
    "    b = 1.0\n",
    "    thetas = np.linspace(0., 90., 6)\n",
    "    thetas_rad = np.pi / 180. * thetas\n",
    "    fact_elli = a * b / np.sqrt((b * np.sin(thetas_rad))**2 + (a * np.cos(thetas_rad))**2)\n",
    "    rs_in = 16.5 + np.log10(fact_elli)\n",
    "    densities = 4 - np.log10(fact_elli) * 2\n",
    "    distance = 1.\n",
    "    \n",
    "    model = pc.CloudyInput()\n",
    "    model.set_BB(80000., 'q(H)', 47.3)\n",
    "    model.set_grains()\n",
    "    model.set_emis_tab(emis_tab)\n",
    "    model.set_distance(dist=distance, unit='kpc', linear=True)\n",
    "\n",
    "    for theta, r_in, density in zip(thetas, rs_in, densities):\n",
    "        model.model_name = '{0}/{1}_{2:.0f}'.format(dir_, model_name,theta)\n",
    "        model.set_cste_density(density)\n",
    "        model.set_radius(r_in)\n",
    "        model.set_theta_phi(theta)\n",
    "        model.print_input(to_file = True, verbose = False)\n"
   ]
  },
  {
   "cell_type": "code",
   "execution_count": 23,
   "metadata": {},
   "outputs": [],
   "source": [
    "model_name = \"M3D_1\"\n",
    "pc.log_.level = 3"
   ]
  },
  {
   "cell_type": "code",
   "execution_count": null,
   "metadata": {},
   "outputs": [],
   "source": [
    "set_models(models_dir, model_name)"
   ]
  },
  {
   "cell_type": "code",
   "execution_count": null,
   "metadata": {},
   "outputs": [],
   "source": [
    "pc.run_cloudy(dir_ = models_dir, n_proc = 6, model_name = model_name, use_make = True)"
   ]
  },
  {
   "cell_type": "code",
   "execution_count": 24,
   "metadata": {},
   "outputs": [],
   "source": [
    "pc.log_.level = 2\n",
    "list_of_models = pc.load_models('{0}/{1}'.format(models_dir, model_name), \n",
    "                                 list_elem=['H', 'He', 'C', 'N', 'O'],  \n",
    "                                 read_cont = False, read_grains = False)"
   ]
  },
  {
   "cell_type": "code",
   "execution_count": 50,
   "metadata": {},
   "outputs": [],
   "source": [
    "dim = 101\n",
    "n_cut = int((dim-1) /2)\n",
    "proj_axis = 0\n",
    "m3d = pc.C3D(list_of_models, dims = [dim, dim, dim], angles = [45,45,0], plan_sym = True)\n",
    "M = m3d.m[0]"
   ]
  },
  {
   "cell_type": "code",
   "execution_count": 51,
   "metadata": {},
   "outputs": [
    {
     "data": {
      "image/png": "[encoded data removed]",
      "text/plain": [
       "<Figure size 432x432 with 1 Axes>"
      ]
     },
     "metadata": {
      "needs_background": "light"
     },
     "output_type": "display_data"
    }
   ],
   "source": [
    "# plot the image of the OIII emission\n",
    "f, ax = plt.subplots(figsize=(6,6))\n",
    "ax.imshow(m3d.get_emis('O__3_500684A').sum(0));"
   ]
  },
  {
   "cell_type": "code",
   "execution_count": 52,
   "metadata": {},
   "outputs": [],
   "source": [
    "from pyCloudy.utils.astro import conv_arc\n",
    "dist = m3d.m[0].distance\n",
    "arcsec = lambda cm: conv_arc(dist=dist, dist_proj=cm)\n",
    "\n",
    "def make_mask(M, ap_center=[0., 0.], ap_size=[1., 1.]):\n",
    "    \"\"\"\n",
    "    This returns a mask (values between 0. and 1.) to be multiplied to the image to take the flux passing through an aperture.\n",
    "    An pc.C3D object named M_sphere must exist outside theis function\n",
    "    \"\"\"    \n",
    "    x_arc = arcsec(M.cub_coord.x_vec)\n",
    "    y_arc = arcsec(M.cub_coord.y_vec)\n",
    "    z_arc = arcsec(M.cub_coord.z_vec)\n",
    "    X, Y = np.meshgrid(y_arc, x_arc)\n",
    "    bool_mask = ((X > ap_center[0] - ap_size[0]/2.) & \n",
    "            (X <= ap_center[0] + ap_size[0]/2.) & \n",
    "            (Y > ap_center[1] - ap_size[1]/2.) & \n",
    "            (Y <= ap_center[1] + ap_size[1]/2.))\n",
    "    mask = np.zeros_like(X)\n",
    "    mask[bool_mask] = 1.0\n",
    "    return mask"
   ]
  },
  {
   "cell_type": "code",
   "execution_count": 53,
   "metadata": {},
   "outputs": [],
   "source": [
    "# we define the mask. Can be change to see the effect of the aperture on line intensities\n",
    "mask = make_mask(m3d, ap_center=[0., 2.], ap_size=[50, 2.5])"
   ]
  },
  {
   "cell_type": "code",
   "execution_count": 58,
   "metadata": {},
   "outputs": [
    {
     "data": {
      "text/plain": [
       "(101, 101)"
      ]
     },
     "execution_count": 58,
     "metadata": {},
     "output_type": "execute_result"
    }
   ],
   "source": [
    "mask.shape"
   ]
  },
  {
   "cell_type": "code",
   "execution_count": 64,
   "metadata": {},
   "outputs": [
    {
     "data": {
      "image/png": "[encoded data removed]",
      "text/plain": [
       "<Figure size 864x432 with 4 Axes>"
      ]
     },
     "metadata": {
      "needs_background": "light"
     },
     "output_type": "display_data"
    }
   ],
   "source": [
    "# We plot the OIII image and overplot the mask.\n",
    "f, (ax1, ax2) = plt.subplots(1, 2, figsize=(12,6))\n",
    "im1 = ax1.imshow(m3d.get_emis('O__3_500684A').sum(0), interpolation='None')\n",
    "im2 = ax2.imshow(m3d.get_emis('N__2_658345A').sum(0), interpolation='None')\n",
    "f.colorbar(im1, ax=ax1)\n",
    "f.colorbar(im2, ax=ax2)\n",
    "ax1.contour(mask)\n",
    "ax2.contour(mask);"
   ]
  },
  {
   "cell_type": "code",
   "execution_count": 65,
   "metadata": {},
   "outputs": [
    {
     "name": "stdout",
     "output_type": "stream",
     "text": [
      "8.990e+34 1.848e+34\n"
     ]
    }
   ],
   "source": [
    "# Hbeta is computed for the whole object and throught the aperture\n",
    "Hb_tot = (m3d.get_emis('H__1_486133A')*m3d.cub_coord.cell_size).sum()\n",
    "Hb_slit = ((m3d.get_emis('H__1_486133A')*m3d.cub_coord.cell_size).sum(1) * mask).sum()\n",
    "print('{:.3e} {:.3e}'.format(Hb_tot, Hb_slit))"
   ]
  },
  {
   "cell_type": "code",
   "execution_count": 68,
   "metadata": {},
   "outputs": [
    {
     "name": "stdout",
     "output_type": "stream",
     "text": [
      "line: H__1_486133A I/Ib Total:  1.0000 I/Ib Slit:  1.0000 Delta:  0.0%\n",
      "line: H__1_656281A I/Ib Total:  2.7894 I/Ib Slit:  2.7877 Delta: -0.1%\n",
      "line: CA_B_587564A I/Ib Total:  0.1522 I/Ib Slit:  0.1487 Delta: -2.3%\n",
      "line: N__2_658345A I/Ib Total:  0.5986 I/Ib Slit:  0.4424 Delta: -26.1%\n",
      "line: O__1_630030A I/Ib Total:  0.0613 I/Ib Slit:  0.0444 Delta: -27.5%\n",
      "line: O__2_372603A I/Ib Total:  0.6784 I/Ib Slit:  0.4826 Delta: -28.9%\n",
      "line: O__2_372881A I/Ib Total:  0.3355 I/Ib Slit:  0.2281 Delta: -32.0%\n",
      "line: O__3_500684A I/Ib Total: 10.8231 I/Ib Slit: 10.8182 Delta: -0.0%\n",
      "line: BLND_436300A I/Ib Total:  0.0710 I/Ib Slit:  0.0706 Delta: -0.6%\n"
     ]
    }
   ],
   "source": [
    "# For every line, we compute the intensity for the whole object and throught the aperture.\n",
    "# We also print out the difference due to the slit.\n",
    "for label in m3d.m[0].emis_labels:\n",
    "    I_tot = (m3d.get_emis(label).sum()*m3d.cub_coord.cell_size) / Hb_tot\n",
    "    I_slit = ((m3d.get_emis(label).sum(1) * mask).sum()*m3d.cub_coord.cell_size) / Hb_slit\n",
    "    print('line: {0:12s} I/Ib Total: {1:7.4f} I/Ib Slit: {2:7.4f} Delta: {3:4.1f}%'.format(label, I_tot, I_slit, \n",
    "                                                                                           (I_slit-I_tot)/I_tot*100))"
   ]
  }
 ],
 "metadata": {
  "kernelspec": {
   "display_name": "Python 3",
   "language": "python",
   "name": "python3"
  },
  "language_info": {
   "codemirror_mode": {
    "name": "ipython",
    "version": 3
   },
   "file_extension": ".py",
   "mimetype": "text/x-python",
   "name": "python",
   "nbconvert_exporter": "python",
   "pygments_lexer": "ipython3",
   "version": "3.7.6"
  }
 },
 "nbformat": 4,
 "nbformat_minor": 4
}
