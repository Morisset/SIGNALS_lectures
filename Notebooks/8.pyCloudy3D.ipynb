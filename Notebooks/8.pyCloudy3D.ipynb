{
 "cells": [
  {
   "cell_type": "code",
   "execution_count": null,
   "metadata": {},
   "outputs": [],
   "source": [
    "%matplotlib inline\n",
    "import numpy as np\n",
    "import matplotlib.pyplot as plt\n",
    "import pyCloudy as pc\n",
    "print(pc.__version__)"
   ]
  },
  {
   "cell_type": "code",
   "execution_count": null,
   "metadata": {},
   "outputs": [],
   "source": [
    "# Tell pyCloudy where the executable is to be found\n",
    "pc.config.cloudy_exe = '/usr/local/Cloudy/c17.02/source/cloudy.exe'"
   ]
  },
  {
   "cell_type": "code",
   "execution_count": null,
   "metadata": {},
   "outputs": [],
   "source": [
    "# Define the directory where the models will be run\n",
    "import os\n",
    "dir_ = os.environ['HOME'] + '/SIGNALS_models'\n",
    "pc.print_make_file(dir_)"
   ]
  },
  {
   "cell_type": "code",
   "execution_count": null,
   "metadata": {},
   "outputs": [],
   "source": [
    "# The following function write N files corresponding to different angles\n",
    "# of an elliptical PN\n",
    "from pyCloudy.utils.physics import abund_Nicholls_GC_2017\n",
    "\n",
    "def set_models(model_name, Teff, QH, a, dist, N_models):\n",
    "    \"\"\"\n",
    "    model_name: generic name for the models\n",
    "    N: number of models\n",
    "    Teff: effective temperature of the central BB\n",
    "    QH: number of ionizing photons of the central BB\n",
    "    a: ellipsicity\n",
    "    \"\"\"\n",
    "    emis_tab = ['H  1 4861.33A', \n",
    "                'H  1 6562.81A', \n",
    "                'N  2 6583.45A', \n",
    "                'O  2 3726.03A',\n",
    "                'O  2 3728.81A',                          \n",
    "                'O  3 5006.84A',\n",
    "                'BLND 4363.00A',\n",
    "                'S  2 6730.82A',\n",
    "                'S  2 6716.44A']  \n",
    "    thetas = np.linspace(0., 90., N_models)\n",
    "    thetas_rad = np.pi / 180. * thetas\n",
    "    # The fact_elli is used for the inner radius (increasing) and density (decreasing)\n",
    "    fact_elli = a / np.sqrt((np.sin(thetas_rad))**2 + (a * np.cos(thetas_rad))**2)\n",
    "    rs_in = 16.5 + np.log10(fact_elli)\n",
    "    densities = 4 - np.log10(fact_elli) * 2\n",
    "    \n",
    "    model = pc.CloudyInput()\n",
    "    model.set_BB(Teff, 'q(H)', QH)\n",
    "    model.set_abund(ab_dict=abund_Nicholls_GC_2017)\n",
    "    model.set_grains('ism')\n",
    "    model.set_emis_tab(emis_tab)\n",
    "    model.set_distance(dist=dist, unit='kpc', linear=True)\n",
    "    \n",
    "    for theta, r_in, density in zip(thetas, rs_in, densities):\n",
    "        model.model_name = '{0}/{1}_{2:.0f}'.format(dir_, model_name,theta)\n",
    "        model.set_cste_density(density)\n",
    "        model.set_radius(r_in)\n",
    "        model.set_theta_phi(theta)\n",
    "        model.print_input(to_file = True, verbose = False)"
   ]
  },
  {
   "cell_type": "code",
   "execution_count": null,
   "metadata": {},
   "outputs": [],
   "source": [
    "model_name = \"M3D_1\"\n",
    "pc.log_.level = 3"
   ]
  },
  {
   "cell_type": "code",
   "execution_count": null,
   "metadata": {},
   "outputs": [],
   "source": [
    "Teff = 40000\n",
    "QH = 48.7\n",
    "a = 2.\n",
    "dist = 5\n",
    "N_models = 6\n",
    "set_models(model_name, Teff, QH, a, dist, N_models)"
   ]
  },
  {
   "cell_type": "code",
   "execution_count": null,
   "metadata": {},
   "outputs": [],
   "source": [
    "pc.run_cloudy(dir_ = dir_, n_proc = 6, model_name = model_name, use_make = True)"
   ]
  },
  {
   "cell_type": "code",
   "execution_count": null,
   "metadata": {},
   "outputs": [],
   "source": [
    "pc.log_.level = 3\n",
    "list_of_models = pc.load_models('{0}/{1}'.format(dir_, model_name), \n",
    "                                 list_elem=['H', 'He', 'C', 'N', 'O', 'Ar', 'Ne'],  \n",
    "                                 read_cont = False, read_grains = False)"
   ]
  },
  {
   "cell_type": "code",
   "execution_count": null,
   "metadata": {},
   "outputs": [],
   "source": [
    "dim = 101"
   ]
  },
  {
   "cell_type": "code",
   "execution_count": null,
   "metadata": {},
   "outputs": [],
   "source": [
    "m3d = pc.C3D(list_of_models, dims = [dim, dim, dim], angles = [45,45,0], plan_sym = True)"
   ]
  },
  {
   "cell_type": "code",
   "execution_count": null,
   "metadata": {},
   "outputs": [],
   "source": [
    "def some_plots(m3d, proj_axis, n_cut):\n",
    "    f, axes = plt.subplots(3,3, figsize=(15, 14))\n",
    "    \n",
    "    i_ax = 0\n",
    "    ax = axes.ravel()[i_ax]\n",
    "    im = ax.imshow(m3d.get_emis('H__1_486133A').sum(axis = proj_axis)*\n",
    "               m3d.cub_coord.cell_size)\n",
    "    ax.set_title('Hb')\n",
    "    f.colorbar(im, ax=ax)\n",
    "    \n",
    "    i_ax += 1\n",
    "    ax = axes.ravel()[i_ax]\n",
    "    im = ax.imshow(m3d.get_emis('N__2_658345A').sum(axis = proj_axis)*\n",
    "               m3d.cub_coord.cell_size)\n",
    "    ax.set_title('[NII]')\n",
    "    f.colorbar(im, ax=ax)\n",
    "    \n",
    "    i_ax += 1\n",
    "    ax = axes.ravel()[i_ax]\n",
    "    im = ax.imshow(m3d.get_emis('O__3_500684A').sum(axis = proj_axis)*\n",
    "               m3d.cub_coord.cell_size)\n",
    "    ax.set_title('[OIII]')\n",
    "    f.colorbar(im, ax=ax)\n",
    "    \n",
    "    i_ax += 1\n",
    "    ax = axes.ravel()[i_ax]\n",
    "    im = ax.imshow(m3d.get_emis('N__2_658345A').sum(axis = proj_axis)/\n",
    "               m3d.get_emis('H__1_486133A').sum(axis = proj_axis))\n",
    "    ax.set_title('[NII]/Hb')\n",
    "    f.colorbar(im, ax=ax)\n",
    "    \n",
    "    i_ax += 1\n",
    "    ax = axes.ravel()[i_ax]\n",
    "    ax.imshow(m3d.get_emis('O__3_500684A').sum(axis = proj_axis)/\n",
    "               m3d.get_emis('H__1_486133A').sum(axis = proj_axis))\n",
    "    ax.set_title('[OIII]/Hb')\n",
    "    f.colorbar(im, ax=ax)\n",
    "    \n",
    "    i_ax += 1\n",
    "    ax = axes.ravel()[i_ax]\n",
    "    im = ax.imshow(m3d.get_ionic('O',1)[n_cut,:,:])\n",
    "    ax.set_title('O+ cut')\n",
    "    f.colorbar(im, ax=ax)\n",
    "    \n",
    "    i_ax += 1\n",
    "    ax = axes.ravel()[i_ax]\n",
    "    sc = ax.scatter(m3d.get_ionic('O',1).ravel(),\n",
    "                np.log10(m3d.get_ionic('N',1).ravel()/\n",
    "                         m3d.get_ionic('O',1).ravel()),\n",
    "                c=np.abs(m3d.cub_coord.theta.ravel()), edgecolors = 'none')\n",
    "    ax.set_title('Colored by |Theta|')\n",
    "    ax.set_xlabel('O+ / O')\n",
    "    ax.set_ylabel('log N+/O+ / N/O')\n",
    "    f.colorbar(sc, ax=ax)\n",
    "    \n",
    "    i_ax += 1\n",
    "    ax = axes.ravel()[i_ax]\n",
    "    sc = ax.scatter(m3d.get_ionic('O',1).ravel(),\n",
    "                np.log10(m3d.get_ionic('N',1).ravel()/\n",
    "                         m3d.get_ionic('O',1).ravel()),\n",
    "                c=m3d.relative_depth.ravel(),vmin = 0, vmax = 1, edgecolors = 'none')\n",
    "    ax.set_title('Colored by radial angular position in the nebula')\n",
    "    ax.set_xlabel('O+ / O')\n",
    "    ax.set_ylabel('N+/O+ / N/O')\n",
    "    f.colorbar(sc, ax=ax)\n",
    "    \n",
    "    i_ax += 1\n",
    "    ax = axes.ravel()[i_ax]\n",
    "    im = m3d.get_RGB(['N__2_658345A', 'H__1_486133A', 'O__3_500684A'], axes = proj_axis)\n",
    "    ax.imshow(im)"
   ]
  },
  {
   "cell_type": "code",
   "execution_count": null,
   "metadata": {},
   "outputs": [],
   "source": [
    "m3d.angles = [0,45,0]\n",
    "some_plots(m3d, proj_axis, n_cut = int((dim-1) /2))"
   ]
  },
  {
   "cell_type": "code",
   "execution_count": null,
   "metadata": {},
   "outputs": [],
   "source": [
    "# A function in form of lambda to transform size in cm into arcsec, for a distance \"dist\" defined above.\n",
    "from pyCloudy.utils.astro import conv_arc\n",
    "arcsec = lambda cm: conv_arc(dist=dist, dist_proj=cm)"
   ]
  },
  {
   "cell_type": "code",
   "execution_count": null,
   "metadata": {},
   "outputs": [],
   "source": [
    "def make_mask(m3d, ap_center=[0., 0.], ap_size=[1., 1.]):\n",
    "    \"\"\"\n",
    "    This returns a mask (values between 0. and 1.) to be multiplied to the image to take the flux passing through an aperture.\n",
    "    An pc.C3D object named M_sphere must exist outside theis function\n",
    "    \"\"\"\n",
    "    x_arc = arcsec(m3d.cub_coord.x_vec)\n",
    "    y_arc = arcsec(m3d.cub_coord.y_vec)\n",
    "    z_arc = arcsec(m3d.cub_coord.z_vec)\n",
    "    X, Y = np.meshgrid(y_arc, x_arc)\n",
    "    bool_mask = ((X > ap_center[0] - ap_size[0]/2.) & \n",
    "            (X <= ap_center[0] + ap_size[0]/2.) & \n",
    "            (Y > ap_center[1] - ap_size[1]/2.) & \n",
    "            (Y <= ap_center[1] + ap_size[1]/2.))\n",
    "    mask = np.zeros_like(X)\n",
    "    mask[bool_mask] = 1.0\n",
    "    return mask"
   ]
  },
  {
   "cell_type": "code",
   "execution_count": null,
   "metadata": {},
   "outputs": [],
   "source": [
    "# we define the mask. Can be change to see the effect of the aperture on line intensities\n",
    "mask = make_mask(m3d, ap_center=[0.0, 1.0], ap_size=[50, 0.5])"
   ]
  },
  {
   "cell_type": "code",
   "execution_count": null,
   "metadata": {},
   "outputs": [],
   "source": [
    "# We plot the OIII image and overplot the mask.\n",
    "f, ax = plt.subplots()\n",
    "im = ax.imshow(m3d.get_emis('O__3_500684A').sum(axis=1))\n",
    "f.colorbar(im, ax=ax)\n",
    "ax.contour(mask);"
   ]
  },
  {
   "cell_type": "code",
   "execution_count": null,
   "metadata": {},
   "outputs": [],
   "source": [
    "# Hbeta is computed for the whole object and throught the aperture\n",
    "Hb_tot = (m3d.get_emis('H__1_486133A') * m3d.cub_coord.cell_size).sum()\n",
    "Hb_slit = ((m3d.get_emis('H__1_486133A') * m3d.cub_coord.cell_size).sum(1) * mask).sum()\n",
    "print(Hb_tot, Hb_slit)"
   ]
  },
  {
   "cell_type": "code",
   "execution_count": null,
   "metadata": {},
   "outputs": [],
   "source": [
    "# For every line, we compute the intensity for the whole object and throught the aperture.\n",
    "# We also print out the difference due to the slit.\n",
    "for label in m3d.m[0].emis_labels:\n",
    "    I_tot = (m3d.get_emis(label).sum()*m3d.cub_coord.cell_size) / Hb_tot\n",
    "    I_slit = ((m3d.get_emis(label).sum(1) * mask).sum()*m3d.cub_coord.cell_size) / Hb_slit\n",
    "    print('line: {0:12s} I/Ib Total: {1:6.4f} I/Ib Slit: {2:6.4f} Delta: {3:4.1f}%'.format(label, I_tot, I_slit, \n",
    "                                                                                           (I_slit-I_tot)/I_tot*100))"
   ]
  },
  {
   "cell_type": "code",
   "execution_count": null,
   "metadata": {},
   "outputs": [],
   "source": []
  }
 ],
 "metadata": {
  "kernelspec": {
   "display_name": "Python 3",
   "language": "python",
   "name": "python3"
  },
  "language_info": {
   "codemirror_mode": {
    "name": "ipython",
    "version": 3
   },
   "file_extension": ".py",
   "mimetype": "text/x-python",
   "name": "python",
   "nbconvert_exporter": "python",
   "pygments_lexer": "ipython3",
   "version": "3.7.6"
  }
 },
 "nbformat": 4,
 "nbformat_minor": 4
}
