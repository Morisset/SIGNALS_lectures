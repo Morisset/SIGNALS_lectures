{
 "cells": [
  {
   "cell_type": "code",
   "execution_count": null,
   "metadata": {},
   "outputs": [],
   "source": [
    "import numpy as np\n",
    "import matplotlib.pyplot as plt\n",
    "import pyneb as pn"
   ]
  },
  {
   "cell_type": "code",
   "execution_count": null,
   "metadata": {},
   "outputs": [],
   "source": [
    "atom = pn.Atom('O', 3)"
   ]
  },
  {
   "cell_type": "code",
   "execution_count": null,
   "metadata": {},
   "outputs": [],
   "source": [
    "# Let's generate an array of densities\n",
    "dens = np.logspace(1, 8, 100)"
   ]
  },
  {
   "cell_type": "code",
   "execution_count": null,
   "metadata": {},
   "outputs": [],
   "source": [
    "# Let's get the population of the levels at a given Te, for these densities\n",
    "Te = 1e4\n",
    "pops = atom.getPopulations(Te, dens)\n",
    "# Let's get the level crtical densities\n",
    "crit_dens = atom.getCritDensity(Te)"
   ]
  },
  {
   "cell_type": "code",
   "execution_count": null,
   "metadata": {},
   "outputs": [],
   "source": [
    "# Plot the evolution of the populations while the density increases\n",
    "# The vertical lines indicate the critical densities of the different levels\n",
    "f, ax = plt.subplots()\n",
    "i = 1\n",
    "for pop, crit_den in zip(pops, crit_dens): \n",
    "    pl1 = ax.plot(dens, pop, label=i)\n",
    "    ax.axvline(crit_den, c=pl1[0].get_color(), ls='--')\n",
    "    i += 1\n",
    "ax.set_xscale('log')\n",
    "ax.legend()\n",
    "ax.set_xlabel('Ne [cm-3]')\n",
    "ax.set_ylabel('Population');"
   ]
  },
  {
   "cell_type": "markdown",
   "metadata": {},
   "source": [
    "We can see that the LTE is obtained when the density is quite high (i.e. when the level populations are stabilized, above 1e7 cm-3)."
   ]
  },
  {
   "cell_type": "markdown",
   "metadata": {},
   "source": [
    "The final populations also depend on the Te. In the case of Te=1e5, the density to reach the plateau is higher:"
   ]
  },
  {
   "cell_type": "code",
   "execution_count": null,
   "metadata": {},
   "outputs": [],
   "source": [
    "# Let's get the population of the levels at a given Te, for these densities\n",
    "Te = 1e5\n",
    "pops = atom.getPopulations(Te, dens)\n",
    "# Let's get the level crtical densities\n",
    "crit_dens = atom.getCritDensity(Te)# Plot the evolution of the populations while the density increases\n",
    "# The vertical lines indicate the critical densities of the different levels\n",
    "f, ax = plt.subplots()\n",
    "i = 1\n",
    "for pop, crit_den in zip(pops, crit_dens): \n",
    "    pl1 = ax.plot(dens, pop, label=i)\n",
    "    ax.axvline(crit_den, c=pl1[0].get_color(), ls='--')\n",
    "    i += 1\n",
    "ax.set_xscale('log')\n",
    "ax.legend()\n",
    "ax.set_xlabel('Ne [cm-3]')\n",
    "ax.set_ylabel('Population');"
   ]
  }
 ],
 "metadata": {
  "kernelspec": {
   "display_name": "Python 3",
   "language": "python",
   "name": "python3"
  },
  "language_info": {
   "codemirror_mode": {
    "name": "ipython",
    "version": 3
   },
   "file_extension": ".py",
   "mimetype": "text/x-python",
   "name": "python",
   "nbconvert_exporter": "python",
   "pygments_lexer": "ipython3",
   "version": "3.7.6"
  }
 },
 "nbformat": 4,
 "nbformat_minor": 4
}
