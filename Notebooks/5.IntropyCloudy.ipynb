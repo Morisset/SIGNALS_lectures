{
 "cells": [
  {
   "cell_type": "code",
   "execution_count": 1,
   "metadata": {},
   "outputs": [],
   "source": [
    "import numpy as np\n",
    "import matplotlib.pyplot as plt"
   ]
  },
  {
   "cell_type": "code",
   "execution_count": 2,
   "metadata": {},
   "outputs": [],
   "source": [
    "import pyCloudy as pc"
   ]
  },
  {
   "cell_type": "code",
   "execution_count": 3,
   "metadata": {},
   "outputs": [
    {
     "name": "stdout",
     "output_type": "stream",
     "text": [
      "mkdir: ../SIGNALS_models: File exists\n"
     ]
    }
   ],
   "source": [
    "!mkdir ../SIGNALS_models\n",
    "dir_ = '../SIGNALS_models'"
   ]
  },
  {
   "cell_type": "code",
   "execution_count": 4,
   "metadata": {},
   "outputs": [],
   "source": [
    "model_name = 'M1'\n",
    "# An object is created (instatiated). It is in charge of the Cloudy input file. \n",
    "# Give the name of the model when instantiate the Class to the Min object.\n",
    "Min = pc.CloudyInput('{}/{}'.format(dir_, model_name))"
   ]
  },
  {
   "cell_type": "code",
   "execution_count": 5,
   "metadata": {},
   "outputs": [
    {
     "name": "stdout",
     "output_type": "stream",
     "text": [
      "Help on class CloudyInput in module pyCloudy.c1d.cloudy_model:\n",
      "\n",
      "class CloudyInput(builtins.object)\n",
      " |  CloudyInput(model_name=None)\n",
      " |  \n",
      " |  Object used to create and write input file for Cloudy code.\n",
      " |  \n",
      " |  Methods defined here:\n",
      " |  \n",
      " |  __init__(self, model_name=None)\n",
      " |      - model_name : name of the model. Used to name the input file and all the output files.\n",
      " |      The other parameters of the model are set using the methods\n",
      " |  \n",
      " |  import_file(self, file_=None)\n",
      " |      Import a file that will be append to the input file.\n",
      " |  \n",
      " |  init_all(self)\n",
      " |  \n",
      " |  print_input(self, to_file=True, verbose=False)\n",
      " |      This is the method to print the input file.\n",
      " |      Parameters:\n",
      " |          - to_file: Boolean. If True (default), print to the file defined as model_name + '.in'\n",
      " |          - verbose: Boolean. If True (not default), print to the standart output\n",
      " |  \n",
      " |  print_make_file(self, dir_=None)\n",
      " |      Call pc.print_make_file. \n",
      " |      Parameter:\n",
      " |          dir_:    if None, extract the string before the last / in the model_name. \n",
      " |              Otherwise, use the value\n",
      " |  \n",
      " |  read_emis_file(self, emis_file, N_char=14)\n",
      " |      Define the name of the file containing the labels for the list of emissivities to output\n",
      " |          in the .emis file\n",
      " |  \n",
      " |  run_cloudy(self, dir_=None, n_proc=1, use_make=False, model_name=None, precom='')\n",
      " |              Method to run cloudy.\n",
      " |              Parameters:\n",
      " |                  - dir_:        Directory where the model input files are\n",
      " |                  - n_proc:      number of CPUs to run (default=1)\n",
      " |                  - use_make:    if True (default), make is used. Otherwise Cloudy is run on one single model, \n",
      " |                      assuming that model_name.in exists\n",
      " |                  - model_name:  if None, the models of this object is run, \n",
      " |                      if not None, used by: make name=\"model_name\" or cloudy < model_name.in\n",
      " |                  - precom: a string to put before Cloudy (e.g. \"\n",
      " |      ice 10\")\n",
      " |  \n",
      " |  set_BB(self, Teff=None, lumi_unit=None, lumi_value=None)\n",
      " |      Add a Black Body as SED.\n",
      " |      Parameters:\n",
      " |          - Teff: Effective temeprature, in K.\n",
      " |          - lumi_unit:    a Cloudy unit for the luminosity (e.g 'q(H)', 'total luminosity', 'logU')\n",
      " |          - lumi_value:    the value of the luminosity\n",
      " |  \n",
      " |  set_C3D_comment(self, comment=None)\n",
      " |      Add special comment that will be added in the input file in the form of: #C3D comment\n",
      " |       Parameter:\n",
      " |          - comment: if None, reset the list, otherwise, append its value to the list\n",
      " |  \n",
      " |  set_abund(self, predef=None, elem=None, value=None, nograins=True, ab_dict=None, metals=None, metalsgrains=None)\n",
      " |      Defines the abundances.\n",
      " |      Parameters:\n",
      " |          - predef : one of the Cloudy predefined abundances (e.g. \"ism\", \"hii region\")\n",
      " |          - elem and value: used to set one abundance, e.g, elem = 'O', value = -4.5\n",
      " |          - nograins: Boolean value\n",
      " |          - ab_dict: dictionnary of elem and values.\n",
      " |          - metals:    value by which all the metals are multiplied\n",
      " |  \n",
      " |  set_comment(self, comment=None)\n",
      " |      Add special comment that will be added in the input file in the form of: # ** comment\n",
      " |       Parameter:\n",
      " |          - comment: if None, reset the list, otherwise, append its value to the list\n",
      " |  \n",
      " |  set_cste_density(self, dens=None, ff=None, others=None)\n",
      " |      Set the density of the model to a constant value\n",
      " |      Parameters:\n",
      " |          - dens:    the density (in log(cm-3))\n",
      " |          - ff:    filling factor (unused if None, default value)\n",
      " |          - others: any string to be added to hden command\n",
      " |  \n",
      " |  set_distance(self, dist=None, unit='kpc', linear=True)\n",
      " |      Set the distance to the object.\n",
      " |      Parameters:\n",
      " |          - dist = float\n",
      " |          - unit = ('kpc', 'Mpc', 'parsecs', 'cm')\n",
      " |          - linear = boolean\n",
      " |  \n",
      " |  set_dlaw(self, dlaw_params, ff=None)\n",
      " |      Define the user-define density law.\n",
      " |      Parameters:\n",
      " |          - dlaw_params may beof type: 1.4, '1.4, 5.6, 7e45' or (1, 2, 4.5)\n",
      " |          - ff: filling factor\n",
      " |  \n",
      " |  set_emis_tab(self, emis_tab_str=None)\n",
      " |      Accept a list of line labels that will be used as:\n",
      " |      \n",
      " |      save last lines emissivity \".emis\"\n",
      " |          *** enumeration of the elements of the list ***\n",
      " |      end of lines\n",
      " |  \n",
      " |  set_fudge(self, fudge_params=None)\n",
      " |      Define a user-defined fudge parameter.\n",
      " |      \n",
      " |      Parameter:\n",
      " |          - fudge_params: may be: 1.4, '1.4, 5.6, 7e45' or (1, 2, 4.5)\n",
      " |  \n",
      " |  set_grains(self, grains=None)\n",
      " |      Append grains to the list.\n",
      " |      Parameter:\n",
      " |          - grains:    if None, reset the grains list, otherwise append the value of the parameter to the list.\n",
      " |  \n",
      " |  set_heat_cooling(self, cextra=None, hextra=None)\n",
      " |  \n",
      " |  set_iterate(self, n_iter=None, to_convergence=False)\n",
      " |      Set the iterate parameter.\n",
      " |      Parameter:\n",
      " |          - n_iter: If None, set the iterate parameter to \"iterate\" in the Cloudy input file,\n",
      " |              if ==0, unset the iterate (nothing will be printed), otherwise set iterate to the\n",
      " |              value of n_iter.\n",
      " |          - to_convergence [False]: If True, iterate to convergence is printed out. \n",
      " |              n_iter without effect then\n",
      " |  \n",
      " |  set_line_file(self, line_file=None, absolute=False)\n",
      " |      Set a file name containing a list of lines.\n",
      " |      Is used in the input file as: \n",
      " |      save last linelist \".lin\" \"***line_file***\"\n",
      " |  \n",
      " |  set_other(self, other_str=None)\n",
      " |      Define any other command line to be added to the Cloudy input file\n",
      " |      Parameter:\n",
      " |          - other_str: if None, reset the list, otherwise, append its value to the list\n",
      " |  \n",
      " |  set_radius(self, r_in=None, r_out=None)\n",
      " |      param:\n",
      " |          r_in [float] (log cm)\n",
      " |      optional:\n",
      " |          r_out [float] (log cm)\n",
      " |  \n",
      " |  set_save_str(self, save='save')\n",
      " |      This determine if \"save\" (default) or \"punch\" is used in the input file\n",
      " |      Parameter:\n",
      " |          - save:    \"save\" (default) or \"punch\". If another value is sent, \"save\" is used.\n",
      " |  \n",
      " |  set_sphere(self, sphere=True)\n",
      " |      Set the sphere parameter if True, unset it otherwise.\n",
      " |  \n",
      " |  set_star(self, SED=None, SED_params=None, lumi_unit=None, lumi_value=None)\n",
      " |      Add a table to the SED.\n",
      " |      Parameters:\n",
      " |          - SED:    The SED description, like \"table Rauch\"\n",
      " |          - SED_params:    parameter(s) for the SED. May be a list or a tuple, of strings or floats\n",
      " |                              or a simple string with everything in it.\n",
      " |  \n",
      " |  set_stop(self, stop_criter=None)\n",
      " |      Append a stopping criterium to the list.\n",
      " |      Parameters:\n",
      " |          - stop:    if None, the list is reset, otherwise the value of the parameter is append to the list\n",
      " |              may be a list or a tuple of criteria.\n",
      " |  \n",
      " |  set_theta_phi(self, theta=None, phi=None)\n",
      " |      Set the values of the theta and phi angles for the 3D models\n",
      " |  \n",
      " |  ----------------------------------------------------------------------\n",
      " |  Data descriptors defined here:\n",
      " |  \n",
      " |  __dict__\n",
      " |      dictionary for instance variables (if defined)\n",
      " |  \n",
      " |  __weakref__\n",
      " |      list of weak references to the object (if defined)\n",
      "\n"
     ]
    }
   ],
   "source": [
    "help(pc.CloudyInput)"
   ]
  },
  {
   "cell_type": "code",
   "execution_count": 6,
   "metadata": {},
   "outputs": [],
   "source": [
    "# Some parameters of the models are transimted to the Min object.\n",
    "# The ionizing SED is a Blackbody in this example. Other SEDs can also be defined, see set_star method.\n",
    "Min.set_BB(Teff=40000, lumi_unit='luminosity solar total', lumi_value=5)\n",
    "# A constant density is used.\n",
    "Min.set_cste_density(2)\n",
    "# The inner radius is given (a second argument can set the outer radius)\n",
    "Min.set_radius(18.5)\n",
    "# Cloudy predefined abundance set is asumed. Element by element abundance can also be defined, using a dictionnary.\n",
    "Min.set_abund(predef='ism', nograins=False)\n",
    "# Anything that is not available by dedicated method can always be done using the \"set_other\" method.\n",
    "Min.set_other(('Cosmic Rays Background'))\n",
    "#Min.set_other(('set dr 0'))\n",
    "# Stoping criteria can be defined.\n",
    "#Min.set_stop(('zone = 1'))"
   ]
  },
  {
   "cell_type": "code",
   "execution_count": 7,
   "metadata": {},
   "outputs": [],
   "source": [
    "# Once all the model parameters have been defined suing the collection of \"set_\" methods, the input file is printed out.\n",
    "Min.print_input()"
   ]
  },
  {
   "cell_type": "code",
   "execution_count": 8,
   "metadata": {},
   "outputs": [
    {
     "name": "stdout",
     "output_type": "stream",
     "text": [
      "////////////////////////////////////\n",
      "title M1\n",
      "////////////////////////////////////\n",
      "set punch prefix \"M1\"\n",
      "Blackbody 40000.000000\n",
      "luminosity solar total = 5.000\n",
      "radius = 18.500\n",
      "hden = 2.000\n",
      "filling factor = 1.0\n",
      "abundances ism\n",
      "Cosmic Rays Background\n",
      "save last radius \".rad\"\n",
      "save last continuum \".cont\"\n",
      "save last physical conditions \".phy\"\n",
      "save last overview \".ovr\"\n",
      "save last heating \".heat\"\n",
      "save last cooling \".cool\"\n",
      "save last optical depth \".opd\"\n",
      "save last grain temperature \".gtemp\"\n",
      "save last grain abundances \".gabund\"\n",
      "save last grain D/G ratio \".gdgrat\"\n",
      "save last element hydrogen \".ele_H\"\n",
      "save last element helium \".ele_He\"\n",
      "save last element carbon \".ele_C\"\n",
      "save last element nitrogen \".ele_N\"\n",
      "save last element oxygen \".ele_O\"\n",
      "save last element argon \".ele_Ar\"\n",
      "save last element neon \".ele_Ne\"\n",
      "save last element sulphur \".ele_S\"\n",
      "save last element chlorin \".ele_Cl\"\n",
      "save last element iron \".ele_Fe\"\n",
      "save last element silicon \".ele_Si\"\n"
     ]
    }
   ],
   "source": [
    "!cat ../SIGNALS_models/M1.in"
   ]
  },
  {
   "cell_type": "code",
   "execution_count": 9,
   "metadata": {},
   "outputs": [
    {
     "data": {
      "text/plain": [
       "[['radius', '.rad'],\n",
       " ['continuum', '.cont'],\n",
       " ['physical conditions', '.phy'],\n",
       " ['overview', '.ovr'],\n",
       " ['heating', '.heat'],\n",
       " ['cooling', '.cool'],\n",
       " ['optical depth', '.opd']]"
      ]
     },
     "execution_count": 9,
     "metadata": {},
     "output_type": "execute_result"
    }
   ],
   "source": [
    "# The list of the saved file can be edited.\n",
    "pc.config.SAVE_LIST"
   ]
  },
  {
   "cell_type": "code",
   "execution_count": 10,
   "metadata": {},
   "outputs": [],
   "source": [
    "# We tell pyCloudy where the executable is:\n",
    "#pc.config.cloudy_exe = '/usr/local/Cloudy/c17.02/source/cloudy.exe'\n",
    "pc.config.cloudy_exe = 'cloudy.exe'"
   ]
  },
  {
   "cell_type": "code",
   "execution_count": 11,
   "metadata": {},
   "outputs": [],
   "source": [
    "# We can run Cloudy from within the script:\n",
    "Min.run_cloudy()"
   ]
  },
  {
   "cell_type": "code",
   "execution_count": 12,
   "metadata": {},
   "outputs": [
    {
     "name": "stdout",
     "output_type": "stream",
     "text": [
      "-rw-r--r--  1 christophemorisset  staff  893349 Jun 15 11:28 ../SIGNALS_models/M1.cont\n",
      "-rw-r--r--  1 christophemorisset  staff   20929 Jun 15 11:28 ../SIGNALS_models/M1.cool\n",
      "-rw-r--r--  1 christophemorisset  staff   24948 Jun 15 11:28 ../SIGNALS_models/M1.ele_Ar\n",
      "-rw-r--r--  1 christophemorisset  staff   17612 Jun 15 11:28 ../SIGNALS_models/M1.ele_C\n",
      "-rw-r--r--  1 christophemorisset  staff   23727 Jun 15 11:28 ../SIGNALS_models/M1.ele_Cl\n",
      "-rw-r--r--  1 christophemorisset  staff   34716 Jun 15 11:28 ../SIGNALS_models/M1.ele_Fe\n",
      "-rw-r--r--  1 christophemorisset  staff    5415 Jun 15 11:28 ../SIGNALS_models/M1.ele_H\n",
      "-rw-r--r--  1 christophemorisset  staff    5419 Jun 15 11:28 ../SIGNALS_models/M1.ele_He\n",
      "-rw-r--r--  1 christophemorisset  staff   11511 Jun 15 11:28 ../SIGNALS_models/M1.ele_N\n",
      "-rw-r--r--  1 christophemorisset  staff   15180 Jun 15 11:28 ../SIGNALS_models/M1.ele_Ne\n",
      "-rw-r--r--  1 christophemorisset  staff   16390 Jun 15 11:28 ../SIGNALS_models/M1.ele_O\n",
      "-rw-r--r--  1 christophemorisset  staff   22489 Jun 15 11:28 ../SIGNALS_models/M1.ele_S\n",
      "-rw-r--r--  1 christophemorisset  staff   20064 Jun 15 11:28 ../SIGNALS_models/M1.ele_Si\n",
      "-rw-r--r--  1 christophemorisset  staff   30338 Jun 15 11:28 ../SIGNALS_models/M1.gabund\n",
      "-rw-r--r--  1 christophemorisset  staff   30338 Jun 15 11:28 ../SIGNALS_models/M1.gdgrat\n",
      "-rw-r--r--  1 christophemorisset  staff   28982 Jun 15 11:28 ../SIGNALS_models/M1.gtemp\n",
      "-rw-r--r--  1 christophemorisset  staff   17068 Jun 15 11:28 ../SIGNALS_models/M1.heat\n",
      "-rw-r--r--  1 christophemorisset  staff     937 Jun 15 11:25 ../SIGNALS_models/M1.in\n",
      "-rw-r--r--  1 christophemorisset  staff  386746 Jun 15 11:28 ../SIGNALS_models/M1.opd\n",
      "-rw-r--r--  1 christophemorisset  staff  135783 Jun 15 11:28 ../SIGNALS_models/M1.out\n",
      "-rw-r--r--  1 christophemorisset  staff   36701 Jun 15 11:28 ../SIGNALS_models/M1.ovr\n",
      "-rw-r--r--  1 christophemorisset  staff    9899 Jun 15 11:28 ../SIGNALS_models/M1.phy\n",
      "-rw-r--r--  1 christophemorisset  staff    5045 Jun 15 11:28 ../SIGNALS_models/M1.rad\n"
     ]
    }
   ],
   "source": [
    "!ls -l ../SIGNALS_models/M1.*"
   ]
  },
  {
   "cell_type": "code",
   "execution_count": 14,
   "metadata": {},
   "outputs": [],
   "source": [
    "# The output files for the M1 model are read by the CloudyModel object when instantiating it.\n",
    "M = pc.CloudyModel('{}/{}'.format(dir_, model_name), read_emis=False)"
   ]
  },
  {
   "cell_type": "code",
   "execution_count": 15,
   "metadata": {},
   "outputs": [
    {
     "name": "stdout",
     "output_type": "stream",
     "text": [
      "Help on class CloudyModel in module pyCloudy.c1d.cloudy_model:\n",
      "\n",
      "class CloudyModel(builtins.object)\n",
      " |  CloudyModel(model_name, verbose=None, read_all_ext=True, read_rad=True, read_phy=True, read_emis=True, read_grains=False, read_cont=True, read_heatcool=False, read_lin=False, read_opd=False, read_pressure=False, read_abunds=False, list_elem=['H', 'He', 'C', 'N', 'O', 'Ne', 'Ar', 'S', 'Cl', 'Fe', 'Si'], distance=None, line_is_log=False, emis_is_log=True, ionic_str_key='ele_')\n",
      " |  \n",
      " |  Read the outputs of Cloudy into variables of the object. Also perform some computations\n",
      " |  like T0, t2 for all the ions and lines.\n",
      " |  Provides methods to access some outputs (e.g. continuum in various units)\n",
      " |  \n",
      " |  The Cloudy model must have been run with the following punch or save in the input file:\n",
      " |  \n",
      " |  set punch prefix \"MODEL\" (can be changed)\n",
      " |  punch last radius \".rad\"\n",
      " |  punch last continuum \".cont\"\n",
      " |  punch last physical conditions \".phy\"\n",
      " |  punch last overview \".ovr\"\n",
      " |  punch last grain temperature \".gtemp_full\"\n",
      " |  punch last element hydrogen \".ele_H\"\n",
      " |  punch last element helium \".ele_He\"\n",
      " |  punch last element carbon \".ele_C\"\n",
      " |  punch last element nitrogen \".ele_N\"\n",
      " |  punch last element oxygen \".ele_O\"\n",
      " |  punch last element argon \".ele_Ar\"\n",
      " |  punch last element neon \".ele_Ne\"\n",
      " |  punch last element sulphur \".ele_S\"\n",
      " |  punch last element chlorin \".ele_Cl\"\n",
      " |  punch last element iron \".ele_Fe\"\n",
      " |  punch last element silicon \".ele_Si\"\n",
      " |  punch last linelist \".lin\" \"liste_of_lines.dat\"\n",
      " |  punch last lines emissivity \".emis\"\n",
      " |  ... liste of lines  ... No need to be the same as liste_of_lines.dat\n",
      " |  end of lines\n",
      " |  in case of version >= 10:\n",
      " |  save last grain abundances \".gabund_full\"'\n",
      " |  save last grain D/G ratio \".gdgrat_full\"'\n",
      " |  \n",
      " |  usage:  m1 = CloudyModel('MODEL')\n",
      " |  plot(m1.radius,m1.get_emis('Fe_3__5271A'))\n",
      " |  plot m1.depth,m1.te\n",
      " |  \n",
      " |  y = 'e(\"TOTL__4363A\")/e(\"O__3__5007A\")'\n",
      " |  e = lambda line: m1.get_emis(line)\n",
      " |  plot m1.te,eval(y)\n",
      " |  \n",
      " |  self.n_zones : number of zones Cloudy used.\n",
      " |  self.depth : depth in cm, ndarray(n_zones)\n",
      " |  self.radius : radius in cm, ndarray(n_zones)\n",
      " |  self.r_in and r_out : minimum and maximum of self.radius\n",
      " |  self.ne and nH : electron and H-densities in cm-3, ndarray(n_zones)\n",
      " |  self.te : electron temperature in K, ndarray(n_zones)\n",
      " |  self.nenH and tenenH : some products of the previous.\n",
      " |  self.T0 and self.t2: mean T and t2 for H+\n",
      " |  \n",
      " |  self.n_lines : number of emission lines in the .lin file\n",
      " |  self.line_labels : lines names, ndarray(n_lines,dtype='S20')\n",
      " |  self.get_line : line intensities\n",
      " |  \n",
      " |  some lines can appear more than one time in the list of lines, they then have a _N at the end of the label.\n",
      " |  the following deal with this:\n",
      " |  self.slines : array of uniq values for lines (single lines)\n",
      " |  self.n_slines : number of \n",
      " |  self.rlines : array of reduced labels : for duplicate lines, removing the trailing _N \n",
      " |  \n",
      " |  dev comments:\n",
      " |  \n",
      " |  GPL Chris.Morisset@Gmail.com\n",
      " |  \n",
      " |  Methods defined here:\n",
      " |  \n",
      " |  __init__(self, model_name, verbose=None, read_all_ext=True, read_rad=True, read_phy=True, read_emis=True, read_grains=False, read_cont=True, read_heatcool=False, read_lin=False, read_opd=False, read_pressure=False, read_abunds=False, list_elem=['H', 'He', 'C', 'N', 'O', 'Ne', 'Ar', 'S', 'Cl', 'Fe', 'Si'], distance=None, line_is_log=False, emis_is_log=True, ionic_str_key='ele_')\n",
      " |      param:\n",
      " |          - model_name [str] The name of the model to be read.\n",
      " |          - verbose [int] level of verbosity as defined by pyCloudy.my_logging.\n",
      " |          - read_all_ext [boolean] if True, all the extensions are read, if False no extension (empty object).\n",
      " |          - read_emis [boolean] if True, emissivities .emis file_ is read and interpreted.\n",
      " |          - read_grains [boolean] if True, grains .gtemp, .gdgrat and .gabund files are read and interpreted.\n",
      " |          - read_cont [boolean] if True, continuum .cont file_ is read and interpreted.\n",
      " |          - list_elem [list of str] list of elements X for which ionic abundance .ele_X file_ is read.\n",
      " |          - distance [float] distance to the nebula in kpc\n",
      " |          - line_is_log [boolean] if True, intensities in .lin file_ are in log, if False are in linear\n",
      " |          - emis_is_log [boolean] if True, intensities in .emis file_ are in log, if False are in linear\n",
      " |  \n",
      " |  __repr__(self)\n",
      " |      Return repr(self).\n",
      " |  \n",
      " |  __str__(self)\n",
      " |      Return str(self).\n",
      " |  \n",
      " |  add_emis_from_pyneb(self, new_label, pyneb_atom, label=None, wave=None)\n",
      " |      Add a new line emissivity using PyNeb.\n",
      " |      new_label: name of the new emission line\n",
      " |      pyneb_atom: a Atom or RecAtom PyNeb object\n",
      " |      label or wave: identifier of the transition in the PyNeb object\n",
      " |      example:\n",
      " |          M.add_emis_from_pyneb('O__2R_4639', O2, label='4638.86')\n",
      " |  \n",
      " |  emis_from_pyneb(self, emis_labels=None, atoms=None)\n",
      " |      change the emissivities using PyNeb.\n",
      " |      emis_labels: list of line to be changed. If unset, all the lines will be changed. You may generate emis_labels\n",
      " |          this way (here to select only S lines): S_labels = [emis for emis in CloudyModel.emis_labels if emis[0:2] == 'S_']\n",
      " |      atoms: dictionary of pyneb.Atom objects to be used. If unset, all the atoms will be build \n",
      " |          using pyneb. This allows the user to mix atomic dataset by creating atoms outside CloudyModel. Keys\n",
      " |          of the dictionnary pointing to None instaed of an Atom will not change the corresponding emissivities.\n",
      " |  \n",
      " |  get_EW(self, label, lam0, lam_inf, lam_sup)\n",
      " |      Equivalent Width:\n",
      " |      Returns -lam0 * I(label) / continuum(lam0)\n",
      " |      where continuum(lam0) is estimated by looking for the minimum of the net transmited continuum between\n",
      " |      lam_inf and lam0 on one side, and lam0 and lam_sup on the other side, and meaning them.\n",
      " |      In case of steep continuum or absorbtion lines, the mean continuum is underestimated.\n",
      " |  \n",
      " |  get_EW2(self, label, lam0, lam_inf, lam_sup, plot=False)\n",
      " |      Equivalent Width:\n",
      " |      Returns -lam0 * I(label) / continuum(lam0)\n",
      " |      where continuum(lam0) is estimated by fitting the continuum between [lam_inf, lam0*0.99] and [lam0*1.01, lam_sup]\n",
      " |      and applying the fit to lam0.\n",
      " |      Of course, if strong emission/absorbtion lines are included in this domain, the results is not correct\n",
      " |  \n",
      " |  get_G0(self, lam_min=913, lam_max=100000000.0, dist_norm='r_out', norm=1.6e-06, unit='Wm')\n",
      " |      Normalisation from Habing 1968: 1.6e-6 erg.cm-2.s-1\n",
      " |  \n",
      " |  get_Ha_EW(self)\n",
      " |      Halpha Equivalent Width:\n",
      " |      Returns -6563 * I(H__1__6563A) / continuum(6563)\n",
      " |      where continuum(6563) is estimated by looking for the minimum of the net transmited continuum between\n",
      " |      6260 and 6560 on one side, and 6560 and 6860 on the other side, and meaning them.\n",
      " |  \n",
      " |  get_Hb_EW(self)\n",
      " |      Hbeta Equivalent Width:\n",
      " |      Returns -4861 * I(H__1__4861A) / continuum(4860)\n",
      " |      where continuum(4860) is estimated by looking for the minimum of the net transmited continuum between\n",
      " |      4560 and 4860 on one side, and 4860 and 5160 on the other side, and meaning them.\n",
      " |  \n",
      " |  get_Hb_SB(self)\n",
      " |      Hbeta surface brightness:\n",
      " |      Returns Ibeta / (Rout**2 * pi * 206265.**2)\n",
      " |  \n",
      " |  get_T0_emis(self, ref)\n",
      " |      integral of the electron temperature on the volume, weighted by emissivity of a given line\n",
      " |      param:\n",
      " |          ref [int or str] line reference\n",
      " |      return:\n",
      " |          [float]\n",
      " |  \n",
      " |  get_T0_emis_rad(self, ref)\n",
      " |      integral of the electron temperature on the radius, weighted by emissivity of a given line\n",
      " |      param:\n",
      " |          ref [int or str] line reference\n",
      " |      return:\n",
      " |          [float]\n",
      " |  \n",
      " |  get_T0_ion_rad(self, elem=None, ion=None)\n",
      " |      param:\n",
      " |          elem [str] element\n",
      " |          ion [str or int] ionic state of ion\n",
      " |      return:    \n",
      " |          Electron temperature integrated on the radius weighted by ionic abundance\n",
      " |  \n",
      " |  get_T0_ion_rad_ne(self, elem=None, ion=None)\n",
      " |      param:\n",
      " |          elem [str] element\n",
      " |          ion [str or int] ionic state of ion\n",
      " |      return:    \n",
      " |          electron temperature integrated on the radius weighted by ne.nH.Xi/X\n",
      " |  \n",
      " |  get_T0_ion_vol(self, elem=None, ion=None)\n",
      " |      param:\n",
      " |          elem [str] element\n",
      " |          ion [str or int] ionic state of ion\n",
      " |      return:    \n",
      " |          Electron temperature integrated on the volume weighted by ionic abundance\n",
      " |  \n",
      " |  get_T0_ion_vol_ne(self, elem=None, ion=None)\n",
      " |      param:\n",
      " |          elem [str] element\n",
      " |          ion [str or int] ionic state of ion\n",
      " |      return:    \n",
      " |          electron temperature integrated on the volume weighted by ne.nH.Xi/X\n",
      " |  \n",
      " |  get_ab_ion_rad(self, elem=None, ion=None)\n",
      " |      param:\n",
      " |          elem [str] element\n",
      " |          ion [str or int] ionic state of ion\n",
      " |      return:    \n",
      " |          Ionic fraction integrated on the radius weighted by nH\n",
      " |  \n",
      " |  get_ab_ion_rad_ne(self, elem=None, ion=None)\n",
      " |      param:\n",
      " |          elem [str] element\n",
      " |          ion [str or int] ionic state of ion\n",
      " |      return:    \n",
      " |          ionic fraction integrated on the radius weighted by ne.nH\n",
      " |  \n",
      " |  get_ab_ion_vol(self, elem=None, ion=None)\n",
      " |      param:\n",
      " |          elem [str] element\n",
      " |          ion [str or int] ionic state of ion\n",
      " |      return:    \n",
      " |          Ionic fraction integrated on the volume weighted by hydrogen density\n",
      " |  \n",
      " |  get_ab_ion_vol_ne(self, elem=None, ion=None)\n",
      " |      param:\n",
      " |          elem [str] element\n",
      " |          ion [str or int] ionic state of ion\n",
      " |      return:    \n",
      " |          ionic fraction integrated on the volume weighted by ne.nH\n",
      " |  \n",
      " |  get_cont_x(self, unit='Ryd')\n",
      " |      param:\n",
      " |          unit : one of ['Ryd','eV','Ang','mu','cm-1','Hz', 'kHz', 'MHz', 'GHz']\n",
      " |      return:\n",
      " |          continuum X: wavelength, energys, wv number, or frequency\n",
      " |  \n",
      " |  get_cont_y(self, cont='incid', unit='es', dist_norm='at_earth')\n",
      " |      param:\n",
      " |          cont : one of ['incid','trans','diffout','ntrans','reflec', 'total']\n",
      " |          unit : one of ['esc' for erg/s/cm2, \n",
      " |                         'ec3'for erg/s/cm2/C C : lightspeed,\n",
      " |                         'es' for erg/s,\n",
      " |                         'esA' for erg/s/AA,\n",
      " |                         'esHz' for erg/s/Hz,\n",
      " |                         'esAc' for erg/s/AA/cm2,\n",
      " |                         'ec3A' for erg/s/AA/cm2/C C : lighspeed\n",
      " |                         'esHzc' for erg/s/Hz/cm2,\n",
      " |                         'Jy' for Jansky,\n",
      " |                         'Q' for number of photons above the corresponding energy, \n",
      " |                         'Wcmu' for Watt/micron/cm2, \n",
      " |                         'WmHz' for Watt/Herz/m2, \n",
      " |                         'WmA' for Watt/Anstrom/m2, \n",
      " |                         'phs' for photons/s, \n",
      " |                         'phsmu' for photons/s/micron, \n",
      " |                         'phsc' for photons/s/cm2, \n",
      " |                         'phsmuc' for photons/s/micron/cm2]\n",
      " |          dist_norm : one of ['at_earth', 'r_out', a float for a distance in cm]\n",
      " |      return:\n",
      " |          continuum flux or intensity\n",
      " |  \n",
      " |  get_emis(self, ref)\n",
      " |      Return emissivity.\n",
      " |      param:\n",
      " |          ref can be a label or a number (starting at 0 with the first line)\n",
      " |  \n",
      " |  get_emis_rad(self, ref)\n",
      " |      Return integration of the emissivity on the radius\n",
      " |      param:\n",
      " |          ref can be a label or a number (starting at 0 with the first line)\n",
      " |  \n",
      " |  get_emis_vol(self, ref, at_earth=False)\n",
      " |      Return integration of the emissivity on the volume (should be the line intensity if r_out_cut>=r_out)\n",
      " |      param:\n",
      " |          ref can be a label or a number (starting at 0 with the first line)\n",
      " |  \n",
      " |  get_integ_spec(self, cont, lam_low, lam_high, unit='es')\n",
      " |      Return the integral of the spectrum (in unit, see below) between lam_low and lam_high\n",
      " |      unit : one of ['es', 'phs', 'esc', 'Wm', 'phsc']\n",
      " |      unit for lam_low and lam_high: Angstrom, except if unit in ('phs', 'phsc'): micron\n",
      " |      example: get_integ_spec('diffout', 5000, 6000)\n",
      " |  \n",
      " |  get_interp_cont(self, cont='incid', unit='es', dist_norm='at_earth', x_value=4686.0, x_unit='Ang')\n",
      " |      Return the value of the continuum at a given wavelength/energy value\n",
      " |  \n",
      " |  get_ionic(self, elem, ion)\n",
      " |      param\n",
      " |          elem [str] element\n",
      " |          ion [str or int] ionic state of ion\n",
      " |      return: \n",
      " |          ionic fraction of (elem, ion).\n",
      " |  \n",
      " |  get_line(self, ref)\n",
      " |      Return line intensity.\n",
      " |      ref can be a label or a number (starting at 0 with the first line)\n",
      " |  \n",
      " |  get_ne_emis(self, ref)\n",
      " |      integral of the electron density on the volume, weighted by emissivity of a given line\n",
      " |      param:\n",
      " |          ref [int or str] line reference\n",
      " |      return:\n",
      " |          [float]\n",
      " |  \n",
      " |  get_ne_ion_rad_ne(self, elem=None, ion=None)\n",
      " |      param:\n",
      " |          elem [str] element\n",
      " |          ion [str or int] ionic state of ion\n",
      " |      return:    \n",
      " |          electron density integrated on the radius weighted by ne.nH.Xi/X\n",
      " |  \n",
      " |  get_ne_ion_vol_ne(self, elem=None, ion=None)\n",
      " |      param:\n",
      " |          elem [str] element\n",
      " |          ion [str or int] ionic state of ion\n",
      " |      return:    \n",
      " |          electron density integrated on the volume weighted by ne.nH.Xi/X\n",
      " |  \n",
      " |  get_t2_emis(self, ref)\n",
      " |      t2(emissivity) integrated on the volume, weigthed by the emissivity\n",
      " |      param:\n",
      " |          ref [int or str] line reference\n",
      " |      return:\n",
      " |          [float]\n",
      " |  \n",
      " |  get_t2_ion_rad_ne(self, elem=None, ion=None)\n",
      " |      param:\n",
      " |          elem [str] element\n",
      " |          ion [str or int] ionic state of ion\n",
      " |      return:    \n",
      " |          t2 integrated on the radius weighted by ne.nH.X^i/X\n",
      " |  \n",
      " |  get_t2_ion_vol_ne(self, elem=None, ion=None)\n",
      " |      param:\n",
      " |          elem [str] element\n",
      " |          ion [str or int] ionic state of ion\n",
      " |      return:    \n",
      " |          t2 integrated on the volume weighted by ne.nH.X^i/X\n",
      " |  \n",
      " |  is_valid_ion(self, elem, ion)\n",
      " |      param:\n",
      " |          elem [str] element\n",
      " |          ion [str or int] ionic state of ion\n",
      " |      return:    \n",
      " |          [boolean] True if elem,ion has value for get_ionic(elem, ion)\n",
      " |  \n",
      " |  plot_spectrum(self, xunit='eV', cont='ntrans', yunit='es', ax=None, xlog=True, ylog=True, **kargv)\n",
      " |      plot the spectrum of the model.\n",
      " |      parameters:\n",
      " |          - xunit ['eV']. See get_cont_y for details\n",
      " |          - cont ['ntrans']. See get_cont_y for details\n",
      " |          - yunit ['es']. See get_cont_y for details\n",
      " |          - ax: axis matplotlib object\n",
      " |          - xlog [True]\n",
      " |          - ylog [True]\n",
      " |          - **kargv passed to the plot.\n",
      " |  \n",
      " |  print_lines(self, ref=None, norm=None, at_earth=False, use_emis=True)\n",
      " |      Print line intensities\n",
      " |      param:\n",
      " |          at_earth [boolean] if True, divide the intensity by 4.pi.distance^2\n",
      " |          ref [int or str] reference of a line (if None, all lines are printed)\n",
      " |          norm [int or str] reference of a line to normalize the intensities\n",
      " |          use_emis [boolean] use integral of emissivity (default) or line intensities\n",
      " |  \n",
      " |  print_stats(self)\n",
      " |  \n",
      " |  rad_integ(self, a)\n",
      " |      integral of a on the radius\n",
      " |  \n",
      " |  rad_mean(self, a, b=1.0)\n",
      " |      Return the mean value of a weighted by b on the radius\n",
      " |  \n",
      " |  read_outputs(self, extension, delimiter='\\t', comments=';', names=True, **kwargs)\n",
      " |  \n",
      " |  vol_integ(self, a)\n",
      " |      integral of a on the volume\n",
      " |  \n",
      " |  vol_mean(self, a, b=1.0)\n",
      " |      Return the mean value of a weighted by b on the volume\n",
      " |  \n",
      " |  ----------------------------------------------------------------------\n",
      " |  Data descriptors defined here:\n",
      " |  \n",
      " |  H0_mass\n",
      " |      Return the H0 mass of the nebula in solar mass\n",
      " |  \n",
      " |  H_mass\n",
      " |      Return the H mass of the nebula in solar mass\n",
      " |  \n",
      " |  H_mass_cut\n",
      " |  \n",
      " |  Hbeta\n",
      " |      Return the intensity of Hbeta\n",
      " |  \n",
      " |  Hbeta_cut\n",
      " |  \n",
      " |  Hp_mass\n",
      " |      Return the H+ mass of the nebula in solar mass\n",
      " |  \n",
      " |  T0\n",
      " |  \n",
      " |  __dict__\n",
      " |      dictionary for instance variables (if defined)\n",
      " |  \n",
      " |  __weakref__\n",
      " |      list of weak references to the object (if defined)\n",
      " |  \n",
      " |  abunds\n",
      " |      array of abundances (on r_range)\n",
      " |  \n",
      " |  cool\n",
      " |      array of colling (on r_range)\n",
      " |  \n",
      " |  depth\n",
      " |      array of depth (on r_range)\n",
      " |  \n",
      " |  dr\n",
      " |      array of dr (on r_range)\n",
      " |  \n",
      " |  drff\n",
      " |      array of dr (on r_range)\n",
      " |  \n",
      " |  dv\n",
      " |      array of volume element (on r_range)\n",
      " |  \n",
      " |  dvff\n",
      " |      array of volume element (on r_range)\n",
      " |  \n",
      " |  ff\n",
      " |      array of filling factor (on r_range)\n",
      " |  \n",
      " |  gabund\n",
      " |  \n",
      " |  gdgrat\n",
      " |  \n",
      " |  gmass\n",
      " |  \n",
      " |  gtemp\n",
      " |  \n",
      " |  heat\n",
      " |      array of heating (on r_range)\n",
      " |  \n",
      " |  log_U\n",
      " |      U = Phi0 * (r_in/rarius) / (nH c)\n",
      " |  \n",
      " |  log_U_mean\n",
      " |      log of mean value of U on the volume\n",
      " |  \n",
      " |  log_U_mean_ne\n",
      " |      log of mean value of U on the volume weighted by ne.nH\n",
      " |  \n",
      " |  nH\n",
      " |      array of Hydrogen density (on r_range)\n",
      " |  \n",
      " |  nH_mean\n",
      " |      mean of the Hydrogen density over the volume\n",
      " |      return:\n",
      " |          [float]\n",
      " |  \n",
      " |  n_zones\n",
      " |  \n",
      " |  ne\n",
      " |      array of electron density (on r_range)\n",
      " |  \n",
      " |  nenH\n",
      " |      array of ne.nH (on r_range)\n",
      " |  \n",
      " |  r_in_cut\n",
      " |      User defined inner radius of the nebula.\n",
      " |  \n",
      " |  r_out_cut\n",
      " |      User defined outer radius of the nebula. For example: r_out_cut = m.radius[m.zones[m.ionic[\"H\"][1] < 0.2][0]]\n",
      " |  \n",
      " |  r_range\n",
      " |      boolean array. True for r_in_cut < radius < r_out_cut, False elsewhere.\n",
      " |      Used in most of the parameter calls such as te, get_emis, get_ionic, etc\n",
      " |  \n",
      " |  radius\n",
      " |      array of radius (on r_range)\n",
      " |  \n",
      " |  t2\n",
      " |  \n",
      " |  te\n",
      " |      array of electron temperature (on r_range)\n",
      " |  \n",
      " |  tenenH\n",
      " |      array of Te.ne.nH (on r_range)\n",
      " |  \n",
      " |  thickness\n",
      " |      array of thickness (on r_range)\n",
      " |  \n",
      " |  zones\n",
      "\n"
     ]
    }
   ],
   "source": [
    "help(pc.CloudyModel)"
   ]
  },
  {
   "cell_type": "code",
   "execution_count": 16,
   "metadata": {},
   "outputs": [
    {
     "name": "stdout",
     "output_type": "stream",
     "text": [
      " Name of the model: ../SIGNALS_models/M1\n",
      " R_in (cut) = 3.162e+18 (3.162e+18), R_out (cut) = 6.406e+18 (6.406e+18)\n",
      " H+ mass = 7.90e+01, H mass = 8.15e+01 N zones: 135\n",
      " <H+/H> = 0.98, <He++/He> = 0.00, <He+/He> = 0.90\n",
      " <O+++/O> = 0.00, <O++/O> = 0.45, <O+/O> = 0.54\n",
      " <N+++/N> = 0.00, <N++/N> = 0.59, <N+/N> = 0.39\n",
      " T(O+++) = 6988, T(O++) = 6676, T(O+) = 7352\n",
      " <ne> = 106,  <nH> = 100, T0 = 7057, t2=0.0089\n",
      " <log U> = -2.23\n"
     ]
    }
   ],
   "source": [
    "# The M object includes a lot of methods to deal with the data saved in the Cloudy model output files.\n",
    "# A method can give a summary of the model, to check that the results are close to what expected.\n",
    "M.print_stats()"
   ]
  },
  {
   "cell_type": "code",
   "execution_count": 17,
   "metadata": {},
   "outputs": [
    {
     "name": "stdout",
     "output_type": "stream",
     "text": [
      "{'H': 0.0, 'He': -1.0088, 'C': -3.6003, 'N': -4.1002, 'O': -3.4962, 'F': -7.699, 'Ne': -3.9101, 'Na': -6.5003, 'Mg': -4.8996, 'Al': -7.1002, 'Si': -5.5003, 'P': -6.7959, 'S': -4.4895, 'Cl': -7.0, 'Ar': -5.5498, 'K': -7.9586, 'Ca': -9.3872, 'Ti': -9.2366, 'Cr': -8.0, 'Mn': -7.6383, 'Fe': -6.2, 'Co': -8.2291, 'Ni': -7.7399, 'Cu': -8.8239, 'Zn': -7.699}\n"
     ]
    }
   ],
   "source": [
    "# The abundances used in the model are stored into a dictionary.\n",
    "print(M.abund)"
   ]
  },
  {
   "cell_type": "code",
   "execution_count": 18,
   "metadata": {},
   "outputs": [
    {
     "data": {
      "text/plain": [
       "{'Cloudy ends': ' Cloudy ends: 135 zones, 1 iteration, 3 cautions. (single thread) ExecTime(s) 38.43\\n',\n",
       " 'stop': '   Calculation stopped because lowest Te reached. Iteration 1 of 1\\n',\n",
       " 'Blackbody': '                       * Blackbody 40000.000000                                                          *\\n',\n",
       " 'luminosity': '                       * luminosity solar total = 5.000                                                  *\\n',\n",
       " 'hden': '                       * hden = 2.000                                                                    *\\n',\n",
       " 'SED1': '           L(nu>1ryd):  38.1988   Average nu:1.370E+00   L( X-ray):   8.2893   L(BalC):  38.3258     Q(Balmer C):  49.2217\\n',\n",
       " 'SED2': '           Q(1.0-1.8):  48.6742   Q(1.8-4.0):  47.7570   Q(4.0-20):  44.6232   Q(20--):  17.6326     Ion pht flx:4.213E+10\\n',\n",
       " 'SED3': '           L(gam ray):   0.0000   Q(gam ray):   0.0000   L(Infred):  37.1064   Alf(ox):   0.0000     Total lumin:  38.5827\\n',\n",
       " 'SED4': '           log L/Lsun:   4.9997   Abs bol mg:  -7.7567   Abs V mag:  -4.1764   Bol cor:  -3.5804     nuFnu(Bbet):  37.2074\\n',\n",
       " 'SED5': '           U(1.0----):1.405E-02   U(4.0----):1.115E-06   T(En-Den):1.076E+01   T(Comp):3.832E+04     nuJnu(912A):2.241E+00\\n',\n",
       " 'SED6': '           Occ(FarIR):4.363E-07   Occ(H n=6):4.531E-14   Occ(1Ryd):1.034E-16   Occ(4R):7.109E-22     Occ (Nu-hi):0.000E+00\\n',\n",
       " 'SED7': '           Tbr(FarIR):2.097E-10   Tbr(H n=6):1.984E-10   Tbr(1Ryd):1.631E-11   Tbr(4R):4.497E-16     Tbr (Nu-hi):0.000E+00\\n',\n",
       " 'Chem1': '        H :  0.0000  He: -1.0088  Li:-10.2676  B :-10.0506  C : -3.6003  N : -4.1002  O : -3.4962  F : -7.6990  Ne: -3.9101\\n',\n",
       " 'Chem2': '        Na: -6.5003  Mg: -4.8996  Al: -7.1002  Si: -5.5003  P : -6.7959  S : -4.4895  Cl: -7.0000  Ar: -5.5498  K : -7.9586\\n',\n",
       " 'Chem3': '        Ca: -9.3872  Ti: -9.2366  V :-10.0000  Cr: -8.0000  Mn: -7.6383  Fe: -6.2000  Co: -8.2291  Ni: -7.7399  Cu: -8.8239\\n',\n",
       " 'Chem4': '                                                            Zn: -7.6990\\n',\n",
       " 'GrainChem': '                                  C : -3.5553  O : -3.8821  Mg: -4.4841  Si: -4.4841  Fe: -4.4841\\n',\n",
       " '###First': ' ####  1  Te:7.104E+03 Hden:1.000E+02 Ne:1.100E+02 R:3.162E+18 R-R0:4.862E+13 dR:9.723E+13 NTR:  9 Htot:4.239E-20 T912: 4.03e-05###\\n',\n",
       " '###Last': ' ####135  Te:3.916E+03 Hden:1.000E+02 Ne:5.532E+00 R:6.406E+18 R-R0:3.243E+18 dR:4.779E+14 NTR: 10 Htot:5.002E-22 T912: 3.85e+01###\\n',\n",
       " 'iterate': ' C-I must iterate when save continuum output is done.\\n',\n",
       " 'Hbeta': 'H  1      4861.33A   36.194    1.0000      extra Lyman..........................      S  4      815.941A   33.681    0.0031\\n',\n",
       " 'D/G': ' Dust to gas ratio (by mass): 6.362e-03, A(V)/N(H)(pnt):5.396e-22, (ext):4.022e-22, R:3.429e+00 AV(ext):1.304e-01 (pnt):1.750e-01\\n'}"
      ]
     },
     "execution_count": 18,
     "metadata": {},
     "output_type": "execute_result"
    }
   ],
   "source": [
    "# Part of the main Cloudy model output file are extracted from the file and stored into a dictionary.\n",
    "M.out"
   ]
  },
  {
   "cell_type": "code",
   "execution_count": 19,
   "metadata": {},
   "outputs": [
    {
     "name": "stdout",
     "output_type": "stream",
     "text": [
      "[]\n",
      "-----------------\n",
      "[' C-Continuum zero at some energies.\\n', ' C-R(out)/R(in)=2.03e+00 and SPHERE was not set.\\n']\n",
      "-----------------\n",
      "['  !Modified data files were used in this simulation. This is fine if it was done intentionally.\\n', '  !Charge transfer H => H+ reached 1100.9% of the local H ionization rate.\\n', '  !AGE: Cloud age was not set.  Longest timescale was 3.56e+11 s = 1.13e+04 years.\\n', '  !The CMB was not included.  This is added with the CMB command.\\n']\n"
     ]
    }
   ],
   "source": [
    "# Comments, cautions and warnings are also available.\n",
    "print(M.comments)\n",
    "print('-----------------')\n",
    "print(M.cautions)\n",
    "print('-----------------')\n",
    "print(M.warnings)"
   ]
  },
  {
   "cell_type": "code",
   "execution_count": 20,
   "metadata": {},
   "outputs": [
    {
     "name": "stdout",
     "output_type": "stream",
     "text": [
      "-2.2281101895410416 -2.221293156665746\n"
     ]
    }
   ],
   "source": [
    "# The mean of the ionization parameter over the volume of the nebula is available. \n",
    "# It may be weighted by the electron*hydrogen density (useful if the model goes into the neutral region).\n",
    "print(M.log_U_mean, M.log_U_mean_ne)"
   ]
  },
  {
   "cell_type": "code",
   "execution_count": 21,
   "metadata": {},
   "outputs": [
    {
     "data": {
      "text/plain": [
       "\u001b[0;31mType:\u001b[0m        property\n",
       "\u001b[0;31mString form:\u001b[0m <property object at 0x19190e7fb0>\n",
       "\u001b[0;31mDocstring:\u001b[0m   log of mean value of U on the volume weighted by ne.nH\n"
      ]
     },
     "metadata": {},
     "output_type": "display_data"
    }
   ],
   "source": [
    "M.log_U_mean_ne?"
   ]
  },
  {
   "cell_type": "code",
   "execution_count": 22,
   "metadata": {},
   "outputs": [
    {
     "data": {
      "text/plain": [
       "\u001b[0;31mType:\u001b[0m        property\n",
       "\u001b[0;31mString form:\u001b[0m <property object at 0x19190e7fb0>\n",
       "\u001b[0;31mSource:\u001b[0m     \n",
       "\u001b[0;31m# M.log_U_mean_ne.fget\u001b[0m\u001b[0;34m\u001b[0m\n",
       "\u001b[0;34m\u001b[0m\u001b[0;34m@\u001b[0m\u001b[0mproperty\u001b[0m\u001b[0;34m\u001b[0m\n",
       "\u001b[0;34m\u001b[0m\u001b[0;32mdef\u001b[0m \u001b[0mlog_U_mean_ne\u001b[0m\u001b[0;34m(\u001b[0m\u001b[0mself\u001b[0m\u001b[0;34m)\u001b[0m\u001b[0;34m:\u001b[0m\u001b[0;34m\u001b[0m\n",
       "\u001b[0;34m\u001b[0m    \u001b[0;34m\"\"\" log of mean value of U on the volume weighted by ne.nH\"\"\"\u001b[0m\u001b[0;34m\u001b[0m\n",
       "\u001b[0;34m\u001b[0m    \u001b[0;32mif\u001b[0m \u001b[0mself\u001b[0m\u001b[0;34m.\u001b[0m\u001b[0mlog_U\u001b[0m \u001b[0;32mis\u001b[0m \u001b[0;32mnot\u001b[0m \u001b[0;32mNone\u001b[0m\u001b[0;34m:\u001b[0m\u001b[0;34m\u001b[0m\n",
       "\u001b[0;34m\u001b[0m        \u001b[0;32mreturn\u001b[0m \u001b[0mnp\u001b[0m\u001b[0;34m.\u001b[0m\u001b[0mlog10\u001b[0m\u001b[0;34m(\u001b[0m\u001b[0mself\u001b[0m\u001b[0;34m.\u001b[0m\u001b[0mvol_mean\u001b[0m\u001b[0;34m(\u001b[0m\u001b[0;36m10\u001b[0m\u001b[0;34m**\u001b[0m\u001b[0mself\u001b[0m\u001b[0;34m.\u001b[0m\u001b[0mlog_U\u001b[0m\u001b[0;34m,\u001b[0m \u001b[0mself\u001b[0m\u001b[0;34m.\u001b[0m\u001b[0mnenH\u001b[0m\u001b[0;34m)\u001b[0m\u001b[0;34m)\u001b[0m\u001b[0;34m\u001b[0m\n",
       "\u001b[0;34m\u001b[0m    \u001b[0;32melse\u001b[0m\u001b[0;34m:\u001b[0m\u001b[0;34m\u001b[0m\n",
       "\u001b[0;34m\u001b[0m        \u001b[0;32mreturn\u001b[0m \u001b[0;32mNone\u001b[0m\u001b[0;34m\u001b[0m\u001b[0;34m\u001b[0m\u001b[0m\n"
      ]
     },
     "metadata": {},
     "output_type": "display_data"
    }
   ],
   "source": [
    "M.log_U_mean_ne??"
   ]
  },
  {
   "cell_type": "code",
   "execution_count": 23,
   "metadata": {},
   "outputs": [
    {
     "name": "stdout",
     "output_type": "stream",
     "text": [
      "-2.2596469822795506 -2.2281101895410416\n"
     ]
    }
   ],
   "source": [
    "print(M.vol_mean(M.log_U), np.log10(M.vol_mean(10**M.log_U)))"
   ]
  },
  {
   "cell_type": "code",
   "execution_count": 24,
   "metadata": {},
   "outputs": [
    {
     "data": {
      "image/png": "[encoded data removed]",
      "text/plain": [
       "<Figure size 432x432 with 1 Axes>"
      ]
     },
     "metadata": {
      "needs_background": "light"
     },
     "output_type": "display_data"
    }
   ],
   "source": [
    "# Most of the radial varying parameters are easily accessed and ploted.\n",
    "f, ax = plt.subplots(figsize=(6,6))\n",
    "ax.plot(M.radius, M.te);"
   ]
  },
  {
   "cell_type": "code",
   "execution_count": 25,
   "metadata": {},
   "outputs": [
    {
     "data": {
      "image/png": "[encoded data removed]",
      "text/plain": [
       "<Figure size 432x432 with 1 Axes>"
      ]
     },
     "metadata": {
      "needs_background": "light"
     },
     "output_type": "display_data"
    }
   ],
   "source": [
    "# Ionic fraction of any element are accessible to be ploted versus the radius of the nebula.\n",
    "f, ax = plt.subplots(figsize=(6,6))\n",
    "ax.plot(M.radius, M.get_ionic('O',4), label=r'O$^{4+}$/O')\n",
    "ax.plot(M.radius, M.get_ionic('O',3), label=r'O$^{3+}$/O')\n",
    "ax.plot(M.radius, M.get_ionic('O',2), label=r'O$^{2+}$/O')\n",
    "ax.plot(M.radius, M.get_ionic('O',1), label=r'O$^{+}$/O')\n",
    "ax.plot(M.radius, M.get_ionic('O',0), label=r'O$^{0}$/O')\n",
    "ax.legend(loc='best');"
   ]
  },
  {
   "cell_type": "code",
   "execution_count": 26,
   "metadata": {},
   "outputs": [
    {
     "name": "stdout",
     "output_type": "stream",
     "text": [
      "<Te>$_{O^0/O.Ne}$ = 7835.807708621695\n",
      "<Te>$_{O^+/O.Ne}$ = 7352.064263775291\n",
      "<Te>$_{O^{2+}/O.Ne}$ = 6676.167373896371\n",
      "<Te>$_{O^{3+}/O.Ne}$ = 6987.592847829119\n"
     ]
    }
   ],
   "source": [
    "# Electron temeprature weighted by ionic fraction and electron density are also available.\n",
    "print(r'<Te>$_{O^0/O.Ne}$ =', M.get_T0_ion_vol_ne('O',0))\n",
    "print(r'<Te>$_{O^+/O.Ne}$ =', M.get_T0_ion_vol_ne('O',1))\n",
    "print(r'<Te>$_{O^{2+}/O.Ne}$ =', M.get_T0_ion_vol_ne('O',2))\n",
    "print(r'<Te>$_{O^{3+}/O.Ne}$ =', M.get_T0_ion_vol_ne('O',3))"
   ]
  },
  {
   "cell_type": "code",
   "execution_count": 27,
   "metadata": {},
   "outputs": [
    {
     "name": "stdout",
     "output_type": "stream",
     "text": [
      "0.43166006339451757\n",
      "0.4480400031026328\n"
     ]
    }
   ],
   "source": [
    "# Ionic fractions (weighted by Ne or not)\n",
    "print(M.get_ab_ion_vol('O',2))\n",
    "print(M.get_ab_ion_vol_ne('O',2))"
   ]
  },
  {
   "cell_type": "code",
   "execution_count": 28,
   "metadata": {},
   "outputs": [
    {
     "name": "stdout",
     "output_type": "stream",
     "text": [
      "Help on method get_cont_x in module pyCloudy.c1d.cloudy_model:\n",
      "\n",
      "get_cont_x(unit='Ryd') method of pyCloudy.c1d.cloudy_model.CloudyModel instance\n",
      "    param:\n",
      "        unit : one of ['Ryd','eV','Ang','mu','cm-1','Hz', 'kHz', 'MHz', 'GHz']\n",
      "    return:\n",
      "        continuum X: wavelength, energys, wv number, or frequency\n",
      "\n",
      "---------------\n",
      "Help on method get_cont_y in module pyCloudy.c1d.cloudy_model:\n",
      "\n",
      "get_cont_y(cont='incid', unit='es', dist_norm='at_earth') method of pyCloudy.c1d.cloudy_model.CloudyModel instance\n",
      "    param:\n",
      "        cont : one of ['incid','trans','diffout','ntrans','reflec', 'total']\n",
      "        unit : one of ['esc' for erg/s/cm2, \n",
      "                       'ec3'for erg/s/cm2/C C : lightspeed,\n",
      "                       'es' for erg/s,\n",
      "                       'esA' for erg/s/AA,\n",
      "                       'esHz' for erg/s/Hz,\n",
      "                       'esAc' for erg/s/AA/cm2,\n",
      "                       'ec3A' for erg/s/AA/cm2/C C : lighspeed\n",
      "                       'esHzc' for erg/s/Hz/cm2,\n",
      "                       'Jy' for Jansky,\n",
      "                       'Q' for number of photons above the corresponding energy, \n",
      "                       'Wcmu' for Watt/micron/cm2, \n",
      "                       'WmHz' for Watt/Herz/m2, \n",
      "                       'WmA' for Watt/Anstrom/m2, \n",
      "                       'phs' for photons/s, \n",
      "                       'phsmu' for photons/s/micron, \n",
      "                       'phsc' for photons/s/cm2, \n",
      "                       'phsmuc' for photons/s/micron/cm2]\n",
      "        dist_norm : one of ['at_earth', 'r_out', a float for a distance in cm]\n",
      "    return:\n",
      "        continuum flux or intensity\n",
      "\n",
      "---------------\n",
      "Help on method plot_spectrum in module pyCloudy.c1d.cloudy_model:\n",
      "\n",
      "plot_spectrum(xunit='eV', cont='ntrans', yunit='es', ax=None, xlog=True, ylog=True, **kargv) method of pyCloudy.c1d.cloudy_model.CloudyModel instance\n",
      "    plot the spectrum of the model.\n",
      "    parameters:\n",
      "        - xunit ['eV']. See get_cont_y for details\n",
      "        - cont ['ntrans']. See get_cont_y for details\n",
      "        - yunit ['es']. See get_cont_y for details\n",
      "        - ax: axis matplotlib object\n",
      "        - xlog [True]\n",
      "        - ylog [True]\n",
      "        - **kargv passed to the plot.\n",
      "\n"
     ]
    }
   ],
   "source": [
    "# A ploting tool to visualize the spectra is available.\n",
    "help(M.get_cont_x)\n",
    "print('---------------')\n",
    "help(M.get_cont_y)\n",
    "print('---------------')\n",
    "help(M.plot_spectrum)"
   ]
  },
  {
   "cell_type": "code",
   "execution_count": 29,
   "metadata": {},
   "outputs": [
    {
     "data": {
      "text/plain": [
       "(0, 100000.0)"
      ]
     },
     "execution_count": 29,
     "metadata": {},
     "output_type": "execute_result"
    },
    {
     "data": {
      "image/png": "[encoded data removed]",
      "text/plain": [
       "<Figure size 1008x720 with 1 Axes>"
      ]
     },
     "metadata": {
      "needs_background": "light"
     },
     "output_type": "display_data"
    }
   ],
   "source": [
    "# The area under the red curve and under the blue curve are the same (in IR the blue curve is slightly over the red one)\n",
    "f, ax = plt.subplots(figsize=(14,10))\n",
    "M.plot_spectrum(cont='incid', ax=ax, c='r', xunit='Ang', yunit='esA', xlog=False, ylog=False)\n",
    "M.plot_spectrum(cont='ntrans', ax=ax, xunit='Ang', yunit='esA', xlog=False, ylog=False)\n",
    "ax.set_xlim((0, 1e5))"
   ]
  },
  {
   "cell_type": "code",
   "execution_count": 30,
   "metadata": {},
   "outputs": [
    {
     "data": {
      "image/png": "[encoded data removed]",
      "text/plain": [
       "<Figure size 1008x720 with 1 Axes>"
      ]
     },
     "metadata": {
      "needs_background": "light"
     },
     "output_type": "display_data"
    }
   ],
   "source": [
    "f, ax = plt.subplots(figsize=(14,10))\n",
    "M.plot_spectrum(ax=ax, xunit='Ang', yunit='esA')\n",
    "M.plot_spectrum(cont='incid', ax=ax, c='r', xunit='Ang', yunit='esA')\n",
    "ax.set_xlim((1, 1e7))\n",
    "ax.set_ylim((1e25, 1e37));"
   ]
  },
  {
   "cell_type": "code",
   "execution_count": 31,
   "metadata": {},
   "outputs": [
    {
     "name": "stdout",
     "output_type": "stream",
     "text": [
      "48.72384163941054\n"
     ]
    }
   ],
   "source": [
    "print(np.log10(M.Q0))"
   ]
  },
  {
   "cell_type": "markdown",
   "metadata": {},
   "source": [
    "# Grid of models"
   ]
  },
  {
   "cell_type": "code",
   "execution_count": 32,
   "metadata": {},
   "outputs": [],
   "source": [
    "# A function is used to produce input file dpeending on a given parameter, here the inner radius.\n",
    "def make_model(dir_, name, radius):\n",
    "    # The name of the model must depend on the varying parameter, to avoid overwriting of the files\n",
    "    Min = pc.CloudyInput('{}/{}_{}'.format(dir_, name, radius)) \n",
    "    Min.set_BB(Teff=40000, lumi_unit='Q(H)', lumi_value=48.7)\n",
    "    Min.set_cste_density(2)\n",
    "    Min.set_radius(radius)\n",
    "    Min.set_abund(predef='ism', nograins=False)\n",
    "    Min.set_other(('Cosmic Rays Background'))\n",
    "    #Min.set_other(('set dr 0'))\n",
    "    #Min.set_stop(('zone = 1'))    \n",
    "    Min.print_input() #We do not run the model, only print the input file"
   ]
  },
  {
   "cell_type": "code",
   "execution_count": 33,
   "metadata": {},
   "outputs": [],
   "source": [
    "# A grid of 6 model input files is done.\n",
    "name = 'M2'\n",
    "for radius in np.linspace(13, 23,6):\n",
    "    make_model(dir_, name, radius)"
   ]
  },
  {
   "cell_type": "code",
   "execution_count": 34,
   "metadata": {},
   "outputs": [],
   "source": [
    "# This will create a Makefile in the model directory\n",
    "# The make command is used to run the models in parallel\n",
    "pc.print_make_file(dir_)"
   ]
  },
  {
   "cell_type": "code",
   "execution_count": 35,
   "metadata": {},
   "outputs": [
    {
     "name": "stdout",
     "output_type": "stream",
     "text": [
      "CLOUDY = cloudy.exe\n",
      "\n",
      "SRC = $(wildcard ${name}*.in)\n",
      "OBJ = $(SRC:.in=.out)\n",
      "\n",
      "# Usage: make -j N name='NAME'\n",
      "# N is the number of processors\n",
      "# optional: NAME is a generic name, all models named NAME*.in will be run\n",
      "# C. Morisset\n",
      "\n",
      "all: $(OBJ)\n",
      "\n",
      "%.out: %.in\n",
      "\t-$(CLOUDY) < $< > $@\n",
      "# Notice the previous line has TAB in first column\n"
     ]
    }
   ],
   "source": [
    "!cat ../SIGNALS_models/Makefile"
   ]
  },
  {
   "cell_type": "code",
   "execution_count": 36,
   "metadata": {},
   "outputs": [],
   "source": [
    "# The 6 models are run using the Makefile\n",
    "pc.run_cloudy(dir_=dir_, n_proc=6, use_make=True)"
   ]
  },
  {
   "cell_type": "code",
   "execution_count": 37,
   "metadata": {},
   "outputs": [],
   "source": [
    "# The models are read into a list of CloudyModel objects\n",
    "Ms = pc.load_models('{}/{}'.format(dir_, name), read_emis=False)"
   ]
  },
  {
   "cell_type": "code",
   "execution_count": 38,
   "metadata": {},
   "outputs": [],
   "source": [
    "# The list is sorted according to the inner radius\n",
    "Ms = sorted(Ms, key = lambda M:M.r_in)"
   ]
  },
  {
   "cell_type": "code",
   "execution_count": 39,
   "metadata": {},
   "outputs": [
    {
     "name": "stdout",
     "output_type": "stream",
     "text": [
      "M2_13.0  Cloudy ends: 454 zones, 1 iteration, 20 warnings, 3 cautions. (single thread) ExecTime(s) 90.08\n",
      "\n",
      "M2_15.0  Cloudy ends: 337 zones, 1 iteration, 12 warnings, 4 cautions. (single thread) ExecTime(s) 74.57\n",
      "\n",
      "M2_17.0  Cloudy ends: 218 zones, 1 iteration, 3 cautions. (single thread) ExecTime(s) 57.85\n",
      "\n",
      "M2_19.0  Cloudy ends: 108 zones, 1 iteration, 2 cautions. (single thread) ExecTime(s) 36.38\n",
      "\n",
      "M2_21.0  Cloudy ends: 1 zone, 1 iteration, 7 cautions. (single thread) ExecTime(s) 7.59\n",
      "\n",
      "M2_23.0  Cloudy ends: 1 zone, 1 iteration, 7 cautions. (single thread) ExecTime(s) 21.73\n",
      "\n"
     ]
    }
   ],
   "source": [
    "# It is very easy to loop on any of the model parameters. Here we explore the string describing how Cloudy ended.\n",
    "for M in Ms:\n",
    "    print(M.model_name_s, M.out['Cloudy ends'])"
   ]
  },
  {
   "cell_type": "code",
   "execution_count": 40,
   "metadata": {},
   "outputs": [
    {
     "name": "stdout",
     "output_type": "stream",
     "text": [
      "Inner R ['   13.00', '   15.00', '   17.00', '   19.00', '   21.00', '   23.00']\n",
      "Outer R ['   18.74', '   18.74', '   18.74', '   19.04', '   21.00', '   23.00']\n",
      "<Te>    [' 7232.04', ' 7232.10', ' 7224.73', ' 7170.51', ' 1887.10', '   15.78']\n",
      "<logU>  ['   -1.86', '   -1.86', '   -1.87', '   -2.91', '   -6.88', '  -10.88']\n",
      "H0/H    ['    0.02', '    0.02', '    0.02', '    0.03', '    0.91', '    0.24']\n",
      "H+/H    ['    0.98', '    0.98', '    0.98', '    0.97', '    0.09', '    0.00']\n",
      "H2/H    ['    0.00', '    0.00', '    0.00', '    0.00', '    0.00', '    0.76']\n",
      "O++/O   ['    0.52', '    0.52', '    0.52', '    0.13', '    0.00', '    0.00']\n"
     ]
    }
   ],
   "source": [
    "# Using list comprehension, it is easy to generate tables of the varying parameters.\n",
    "print('Inner R', ['{:8.2f}'.format(np.log10(M.r_in)) for M in Ms])\n",
    "print('Outer R', ['{:8.2f}'.format(np.log10(M.r_out)) for M in Ms])\n",
    "print('<Te>   ', ['{:8.2f}'.format(M.T0) for M in Ms])\n",
    "print('<logU> ', ['{:8.2f}'.format(M.log_U_mean_ne) for M in Ms])\n",
    "print('H0/H   ', ['{:8.2f}'.format(M.get_ab_ion_vol_ne('H',0)) for M in Ms])\n",
    "print('H+/H   ', ['{:8.2f}'.format(M.get_ab_ion_vol_ne('H',1)) for M in Ms])\n",
    "print('H2/H   ', ['{:8.2f}'.format(2*M.get_ab_ion_vol_ne('H',2)) for M in Ms])\n",
    "print('O++/O  ', ['{:8.2f}'.format(M.get_ab_ion_vol_ne('O',2)) for M in Ms])"
   ]
  },
  {
   "cell_type": "code",
   "execution_count": 41,
   "metadata": {},
   "outputs": [
    {
     "data": {
      "text/plain": [
       "(10, 100000000.0)"
      ]
     },
     "execution_count": 41,
     "metadata": {},
     "output_type": "execute_result"
    },
    {
     "data": {
      "image/png": "[encoded data removed]",
      "text/plain": [
       "<Figure size 1008x720 with 1 Axes>"
      ]
     },
     "metadata": {
      "needs_background": "light"
     },
     "output_type": "display_data"
    }
   ],
   "source": [
    "# Overplotting of the spectra of all the models is easy obtained\n",
    "f, ax = plt.subplots(figsize=(14, 10))\n",
    "M.plot_spectrum(label='INPUT', ax=ax, xunit='Ang', cont='incid')\n",
    "for M in Ms:\n",
    "    M.plot_spectrum(label=M.model_name_s, ax=ax, xunit='Ang')\n",
    "ax.legend()\n",
    "ax.set_xlim((10, 1e8))"
   ]
  },
  {
   "cell_type": "code",
   "execution_count": null,
   "metadata": {},
   "outputs": [],
   "source": []
  }
 ],
 "metadata": {
  "kernelspec": {
   "display_name": "Python 3",
   "language": "python",
   "name": "python3"
  },
  "language_info": {
   "codemirror_mode": {
    "name": "ipython",
    "version": 3
   },
   "file_extension": ".py",
   "mimetype": "text/x-python",
   "name": "python",
   "nbconvert_exporter": "python",
   "pygments_lexer": "ipython3",
   "version": "3.7.6"
  }
 },
 "nbformat": 4,
 "nbformat_minor": 4
}
