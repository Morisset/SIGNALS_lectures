{
 "cells": [
  {
   "cell_type": "code",
   "execution_count": 1,
   "metadata": {},
   "outputs": [],
   "source": [
    "import  numpy as np\n",
    "import matplotlib.pyplot as plt\n",
    "import pyneb as pn"
   ]
  },
  {
   "cell_type": "code",
   "execution_count": 7,
   "metadata": {},
   "outputs": [
    {
     "name": "stdout",
     "output_type": "stream",
     "text": [
      "elem = O\n",
      "spec = 3\n",
      "temperature = 10000.0 K\n",
      "density =  100.0 cm-3\n",
      "\n",
      "Level   Populations  Critical densities\n",
      "Level 1:  7.816E-01  0.000E+00\n",
      "Level 2:  1.939E-01  5.009E+02\n",
      "Level 3:  2.448E-02  3.530E+03\n",
      "Level 4:  4.309E-06  6.912E+05\n",
      "Level 5:  2.972E-10  2.423E+07\n",
      "\n",
      "     88.33m \n",
      "    (2-->1) \n",
      "  1.132E-21 \n",
      "\n",
      "     32.65m      51.80m \n",
      "    (3-->1)     (3-->2) \n",
      "  4.512E-28   9.040E-22 \n",
      "\n",
      "   4931.23A    4958.91A    5006.84A \n",
      "    (4-->1)     (4-->2)     (4-->3) \n",
      "  4.030E-25   1.172E-21   3.497E-21 \n",
      "\n",
      "   2314.87A    2320.95A    2331.40A    4363.21A \n",
      "    (5-->1)     (5-->2)     (5-->3)     (5-->4) \n",
      "  0.000E+00   5.734E-24   1.771E-26   2.279E-23 \n",
      "\n",
      "# H-beta volume emissivity:\n",
      "1.235E-25 N(H+) * N(e-)  (erg/s)\n"
     ]
    }
   ],
   "source": [
    "O3 = pn.Atom('O',3)\n",
    "O3.printIonic(tem=1e4, den=1e2)"
   ]
  },
  {
   "cell_type": "code",
   "execution_count": 9,
   "metadata": {},
   "outputs": [
    {
     "data": {
      "image/png": "[encoded data removed]",
      "text/plain": [
       "<Figure size 432x288 with 1 Axes>"
      ]
     },
     "metadata": {
      "needs_background": "light"
     },
     "output_type": "display_data"
    }
   ],
   "source": [
    "O3.plotGrotrian()"
   ]
  },
  {
   "cell_type": "code",
   "execution_count": 5,
   "metadata": {},
   "outputs": [],
   "source": [
    "try:\n",
    "    import ai4neb\n",
    "except:\n",
    "    !pip install -U git+https://github.com/morisset/AI4neb.git"
   ]
  },
  {
   "cell_type": "code",
   "execution_count": 10,
   "metadata": {},
   "outputs": [],
   "source": [
    "O3.ANN_inst_kwargs['verbose'] = True"
   ]
  },
  {
   "cell_type": "code",
   "execution_count": 11,
   "metadata": {},
   "outputs": [],
   "source": [
    "# Number of data points to test the ANN option speedup. 1,000 is good to see what's happening. 10,000 starts to really rock.\n",
    "N_rand = 1000\n",
    "# Define some ramdom values to test the \n",
    "ratio = 150.+ 10*np.random.randn(N_rand)\n",
    "den =  150.+ 10*np.random.randn(N_rand)"
   ]
  },
  {
   "cell_type": "code",
   "execution_count": 12,
   "metadata": {},
   "outputs": [],
   "source": [
    "import time"
   ]
  },
  {
   "cell_type": "code",
   "execution_count": 13,
   "metadata": {},
   "outputs": [
    {
     "name": "stdout",
     "output_type": "stream",
     "text": [
      "3.5017058849334717\n"
     ]
    }
   ],
   "source": [
    "start = time.time()\n",
    "res = O3.getTemDen(ratio, den=den, wave1=5007, wave2=4363)\n",
    "end = time.time()\n",
    "print(end-start)"
   ]
  },
  {
   "cell_type": "code",
   "execution_count": 14,
   "metadata": {},
   "outputs": [],
   "source": [
    "pn.config.use_multiprocs()"
   ]
  },
  {
   "cell_type": "code",
   "execution_count": 15,
   "metadata": {},
   "outputs": [
    {
     "name": "stdout",
     "output_type": "stream",
     "text": [
      "1.9764859676361084\n"
     ]
    }
   ],
   "source": [
    "start = time.time()\n",
    "res = O3.getTemDen(ratio, den=den, wave1=5007, wave2=4363)\n",
    "end = time.time()\n",
    "print(end-start)"
   ]
  },
  {
   "cell_type": "code",
   "execution_count": 16,
   "metadata": {},
   "outputs": [
    {
     "name": "stdout",
     "output_type": "stream",
     "text": [
      "Instantiation. V 0.17\n",
      "Training set size = 900, Test set size = 0\n",
      "Train data scaled. Log10 applied. \n",
      "Test data scaled. \n",
      "Training set size = 900, Test set size = 0\n",
      "Training set size = 900, Test set size = 0\n",
      "Regression Model SK_ANN\n",
      "Training 2 inputs for 1 outputs with 900 data\n",
      "RM trained, with 356 iterations. Score = 1.000\n",
      "MLPRegressor(activation='tanh', alpha=0.0001, batch_size='auto', beta_1=0.9,\n",
      "             beta_2=0.999, early_stopping=False, epsilon=1e-08,\n",
      "             hidden_layer_sizes=(10, 10), learning_rate='constant',\n",
      "             learning_rate_init=0.001, max_fun=15000, max_iter=20000,\n",
      "             momentum=0.9, n_iter_no_change=10, nesterovs_momentum=True,\n",
      "             power_t=0.5, random_state=None, shuffle=True, solver='lbfgs',\n",
      "             tol=1e-06, validation_fraction=0.1, verbose=False,\n",
      "             warm_start=False)\n",
      "Training time 0.2 s.\n",
      "Test data scaled. Log10 applied. \n",
      "Training set size = 900, Test set size = 1000\n",
      "Predicting from 2 inputs to 1 outputs using 1000 data in 0.00 secs.\n",
      "0.28554391860961914\n"
     ]
    }
   ],
   "source": [
    "start = time.time()\n",
    "res2 = O3.getTemDen(ratio, den=den, wave1=5007, wave2=4363, method='ANN')\n",
    "end = time.time()\n",
    "print(end-start)"
   ]
  },
  {
   "cell_type": "code",
   "execution_count": null,
   "metadata": {},
   "outputs": [],
   "source": []
  }
 ],
 "metadata": {
  "kernelspec": {
   "display_name": "Python 3",
   "language": "python",
   "name": "python3"
  },
  "language_info": {
   "codemirror_mode": {
    "name": "ipython",
    "version": 3
   },
   "file_extension": ".py",
   "mimetype": "text/x-python",
   "name": "python",
   "nbconvert_exporter": "python",
   "pygments_lexer": "ipython3",
   "version": "3.7.6"
  }
 },
 "nbformat": 4,
 "nbformat_minor": 4
}
