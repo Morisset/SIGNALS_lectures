{
 "cells": [
  {
   "cell_type": "code",
   "execution_count": null,
   "metadata": {},
   "outputs": [],
   "source": [
    "import matplotlib.pyplot as plt\n",
    "import numpy as np\n",
    "import pyneb as pn"
   ]
  },
  {
   "cell_type": "markdown",
   "metadata": {},
   "source": [
    "## Chemico-Physical properties of nebulae: Te, Ne, X$^i$/H$^+$, X/H "
   ]
  },
  {
   "cell_type": "markdown",
   "metadata": {},
   "source": [
    "### Te and Ne"
   ]
  },
  {
   "cell_type": "markdown",
   "metadata": {},
   "source": [
    "Let's create some atoms ;-)"
   ]
  },
  {
   "cell_type": "code",
   "execution_count": null,
   "metadata": {},
   "outputs": [],
   "source": [
    "O3 = pn.Atom('O', 3, NLevels=5)\n",
    "N2 = pn.Atom('N', 2, NLevels=5)\n",
    "O2 = pn.Atom('O', 2, NLevels=5)\n",
    "S2 = pn.Atom('S', 2, NLevels=5)"
   ]
  },
  {
   "cell_type": "markdown",
   "metadata": {},
   "source": [
    "Configurations of the energy levels:"
   ]
  },
  {
   "cell_type": "code",
   "execution_count": null,
   "metadata": {},
   "outputs": [],
   "source": [
    "f, ((ax1, ax2), (ax3, ax4)) = plt.subplots(2,2, figsize=(10,10))\n",
    "N2.plotGrotrian(ax=ax1)\n",
    "O2.plotGrotrian(ax=ax2)\n",
    "O3.plotGrotrian(ax=ax3)\n",
    "S2.plotGrotrian(ax=ax4)"
   ]
  },
  {
   "cell_type": "markdown",
   "metadata": {},
   "source": [
    "Which line ratios are Te-diagnostics, Ne-diagnostics?\n",
    "- [NII] 6584 / 6548\n",
    "- [NII] 5755 / 6584\n",
    "- [OIII] 88 / 52 $\\mu$m\n",
    "- [SII] 6730 / 6716\n",
    "- [OII] 3729 / 3729\n",
    "- [OII] 3727+ / 7325+\n",
    "- [SII] 4076 / 4070\n",
    "\n",
    "others"
   ]
  },
  {
   "cell_type": "markdown",
   "metadata": {},
   "source": [
    "Let's generate some arrays containing values for electron temperatures and densities:"
   ]
  },
  {
   "cell_type": "code",
   "execution_count": null,
   "metadata": {},
   "outputs": [],
   "source": [
    "tem = np.linspace(6000, 16000, 100)\n",
    "tem1 = 8000\n",
    "tem2 = 12000\n",
    "den = np.logspace(1, 5, 100)\n",
    "den1 = 1e2\n",
    "den2 = 1e4"
   ]
  },
  {
   "cell_type": "markdown",
   "metadata": {},
   "source": [
    "We plot the [OIII] 4363/5007 line ration as a function of Te, for different densities."
   ]
  },
  {
   "cell_type": "code",
   "execution_count": null,
   "metadata": {},
   "outputs": [],
   "source": [
    "rO3 = O3.getEmissivity(tem=tem, den=den1, wave=4363) / O3.getEmissivity(tem=tem, den=den1, wave=5007)\n",
    "rO3_2 = O3.getEmissivity(tem=tem, den=den2, wave=4363) / O3.getEmissivity(tem=tem, den=den2, wave=5007)\n",
    "f, ax = plt.subplots(figsize=(8,6))\n",
    "ax.plot(tem, rO3, label=r'N$_e$ = 10$^2$ cm$^{-3}$')\n",
    "ax.plot(tem, rO3_2, label=r'N$_e$ = 10$^4$ cm$^{-3}$')\n",
    "ax.set_xlabel('T$_e$ [K]')\n",
    "ax.set_ylabel('[OIII] 4363/5007')\n",
    "ax.set_yscale('log')\n",
    "ax.legend();"
   ]
  },
  {
   "cell_type": "markdown",
   "metadata": {},
   "source": [
    "We plot the [SII] 6730/6716 line ration as a function of Ne, for different temperatures."
   ]
  },
  {
   "cell_type": "code",
   "execution_count": null,
   "metadata": {},
   "outputs": [],
   "source": [
    "rS2 = S2.getEmissivity(tem=tem1, den=den, wave=6730) / S2.getEmissivity(tem=tem1, den=den, wave=6716)\n",
    "rS2_2 = S2.getEmissivity(tem=tem2, den=den, wave=6730) / S2.getEmissivity(tem=tem2, den=den, wave=6716)\n",
    "f, ax = plt.subplots(figsize=(8,6))\n",
    "ax.plot(den, rS2, label=r'T$_e$ = 8,000 K')\n",
    "ax.plot(den, rS2_2, label=r'T$_e$ = 12,000 K')\n",
    "ax.set_xlabel('N$_e$ [cm$^{-3}$]')\n",
    "ax.set_ylabel('[SII] 6730/6716')\n",
    "ax.set_xscale('log')\n",
    "ax.legend();"
   ]
  },
  {
   "cell_type": "markdown",
   "metadata": {},
   "source": [
    "For the density diagnostic line ratios, some characteristics can easily be obtained"
   ]
  },
  {
   "cell_type": "code",
   "execution_count": null,
   "metadata": {},
   "outputs": [],
   "source": [
    "print(S2.getLowDensRatio(wave1=6730, wave2=6716))\n",
    "print(S2.getHighDensRatio(wave1=6730, wave2=6716))\n",
    "print(S2.getDensityRange(wave1=6730, wave2=6716, tem=1e4))"
   ]
  },
  {
   "cell_type": "markdown",
   "metadata": {},
   "source": [
    "Let's have a llok at the variation of some line ratio when both Te and Ne change"
   ]
  },
  {
   "cell_type": "code",
   "execution_count": null,
   "metadata": {},
   "outputs": [],
   "source": [
    "O3_EG = pn.EmisGrid('O', 3)"
   ]
  },
  {
   "cell_type": "markdown",
   "metadata": {},
   "source": [
    "More options are available"
   ]
  },
  {
   "cell_type": "code",
   "execution_count": null,
   "metadata": {},
   "outputs": [],
   "source": [
    "O3_EG = pn.EmisGrid(elem='O', spec=3, n_tem=110, n_den=90, \n",
    "                    tem_min=5000., tem_max=20000., den_min=10., \n",
    "                    den_max=1e8, restore_file=None, atomObj=None)"
   ]
  },
  {
   "cell_type": "markdown",
   "metadata": {},
   "source": [
    "One can obtain the emissivity for a given line"
   ]
  },
  {
   "cell_type": "code",
   "execution_count": null,
   "metadata": {},
   "outputs": [],
   "source": [
    "O3_5007 = O3_EG.getGrid(wave=5007)"
   ]
  },
  {
   "cell_type": "code",
   "execution_count": null,
   "metadata": {},
   "outputs": [],
   "source": [
    "O3_5007.shape"
   ]
  },
  {
   "cell_type": "markdown",
   "metadata": {},
   "source": [
    "Or for a line ratio, or any arithmetic combination of lines or level transition"
   ]
  },
  {
   "cell_type": "code",
   "execution_count": null,
   "metadata": {},
   "outputs": [],
   "source": [
    "O3_Te = O3_EG.getGrid(to_eval = 'L(4363)/L(5007)')"
   ]
  },
  {
   "cell_type": "code",
   "execution_count": null,
   "metadata": {},
   "outputs": [],
   "source": [
    "plt.imshow(O3_Te);"
   ]
  },
  {
   "cell_type": "markdown",
   "metadata": {},
   "source": [
    "Plotting facility is included in the object"
   ]
  },
  {
   "cell_type": "code",
   "execution_count": null,
   "metadata": {},
   "outputs": [],
   "source": [
    "O3_EG.plotImage(to_eval = 'L(4363)/L(5007)')"
   ]
  },
  {
   "cell_type": "markdown",
   "metadata": {},
   "source": [
    "Even nicer with contourplots:"
   ]
  },
  {
   "cell_type": "code",
   "execution_count": null,
   "metadata": {},
   "outputs": [],
   "source": [
    "f, ax = plt.subplots(figsize=(7,5))\n",
    "O3_EG.plotContours(to_eval = 'L(4363)/L(5007)', ax=ax)\n",
    "# One can save the result to hang it over the desk\n",
    "f.savefig('OIII_diag.pdf')"
   ]
  },
  {
   "cell_type": "markdown",
   "metadata": {},
   "source": [
    "This is very important plot. It shows where the line ratio is a diagnostic and where itis not."
   ]
  },
  {
   "cell_type": "code",
   "execution_count": null,
   "metadata": {},
   "outputs": [],
   "source": [
    "# Select a maximum of 25 diagnostics\n",
    "diags = ['[ArIII] 5192/7136', \n",
    "         '[ArIII] 9.0m/21.8m',\n",
    "         '[ArIV] 4740/4711',\n",
    "         '[CIII] 1909/1907',\n",
    "         '[ClIII] 5538/5518',\n",
    "         '[NII] 121m/20.5m',\n",
    "         '[NII] 5755/6584',\n",
    "         '[NeIII] 15.6m/36.0m',\n",
    "         '[NeIII] 3869/15.6m',\n",
    "         '[NeV] 14.3m/24.2m',\n",
    "         '[NeV] 2973/3370+',\n",
    "         '[OI] 5577/6300+',\n",
    "         '[OI] 63m/147m',\n",
    "         '[OII] 3726/3729',\n",
    "         '[OII] 3727+/7325+',\n",
    "         '[OIII] 1664+/5007',\n",
    "         '[OIII] 5007/88m', \n",
    "         '[OIII] 4363/5007',\n",
    "         '[OIV] 1400+/25.9m',\n",
    "         '[OIV] 1401/1405',\n",
    "         '[SII] 4072+/6720+',\n",
    "         '[SII] 4069/4076', \n",
    "         '[SII] 6731/6716',\n",
    "         '[SIII] 6312/9069',\n",
    "         '[SIII] 18.7m/33.5m'\n",
    "         ] \n",
    "# Build the 25 subplots\n",
    "f, axes = plt.subplots(5, 5, figsize=(20,20))\n",
    "# loop on the diagnostics\n",
    "for i, d in enumerate(diags):\n",
    "    # extract from the diagnostic dictionnary \n",
    "    # the expression to be evaluated\n",
    "    to_eval = pn.diags_dict[d][1]\n",
    "    atom = pn.diags_dict[d][0]\n",
    "    # split e.g. obtain 'O', 3 from 'O3'\n",
    "    elem, spec = pn.utils.misc.parseAtom(atom)\n",
    "    # instantiate the EmisGrid object for the given ion \n",
    "    EG = pn.EmisGrid(elem, spec)\n",
    "    # select the axis in which to plot\n",
    "    ax = axes.ravel()[i]\n",
    "    # make the plot\n",
    "    EG.plotContours(to_eval = to_eval, ax=ax)\n",
    "# Make the plot nicer\n",
    "f.tight_layout()\n",
    "# Save the result in a pdf file\n",
    "f.savefig('Diagnostics.pdf')"
   ]
  },
  {
   "cell_type": "markdown",
   "metadata": {},
   "source": [
    "## Observation object"
   ]
  },
  {
   "cell_type": "markdown",
   "metadata": {},
   "source": [
    "We ccreate a file with observations and uncertainties. These latests are a kind of mean between"
   ]
  },
  {
   "cell_type": "code",
   "execution_count": null,
   "metadata": {},
   "outputs": [],
   "source": [
    "%%writefile observations1.dat\n",
    "LINE   MYOBJECT errMYOBJECT\n",
    "S4_10.5m   7.00  0.25\n",
    "Ne2_12.8m  8.30  0.25\n",
    "Ne3_15.6m 34.10  0.20\n",
    "S3_18.7m  10.00  0.20\n",
    "O2_3726A  39.70  0.05\n",
    "O2_3729A  18.60  0.05\n",
    "Ne3_3869A 18.90  0.05\n",
    "Ne3_3968A  6.4   0.10\n",
    "S2_4069A   0.85  0.15\n",
    "S2_4076A   0.45  0.15\n",
    "O3_4363A   4.36  0.10\n",
    "H1r_4861A 100.0  0.00\n",
    "O3_5007A 435.09  0.05\n",
    "N2_5755A   0.51  0.15\n",
    "S3_6312A   0.76  0.15\n",
    "O1_6300A   1.69  0.15\n",
    "O1_6364A   0.54  0.15\n",
    "N2_6548A   6.84  0.10\n",
    "H1r_6563A 345.0  0.05\n",
    "N2_6584A  19.00  0.10\n",
    "S2_6716A   1.22  0.15\n",
    "S2_6731A   2.18  0.15\n",
    "Ar3_7136A  4.91  0.15\n",
    "O2_7319A+  6.54  0.10\n",
    "O2_7330A+  5.17  0.10"
   ]
  },
  {
   "cell_type": "code",
   "execution_count": null,
   "metadata": {},
   "outputs": [],
   "source": [
    "pn.log_.level = 3\n",
    "obs = pn.Observation('observations1.dat', fileFormat='lines_in_rows_err_cols', corrected=False) # fill obs with data read from smc_24.dat"
   ]
  },
  {
   "cell_type": "code",
   "execution_count": null,
   "metadata": {},
   "outputs": [],
   "source": [
    "obs.printIntens(returnObs=True) # return_obs is used to print out the original observaions (redenned)"
   ]
  },
  {
   "cell_type": "code",
   "execution_count": null,
   "metadata": {},
   "outputs": [],
   "source": [
    "obs.extinction.law = 'CCM89'  # define the extinction law from Cardelli et al.\n",
    "obs.def_EBV(label1=\"H1r_6563A\", label2=\"H1r_4861A\", r_theo=2.85) # Compute theredenning correction\n",
    "obs.correctData(normWave=4861)                      # Correct the data from attenuation"
   ]
  },
  {
   "cell_type": "code",
   "execution_count": null,
   "metadata": {},
   "outputs": [],
   "source": [
    "print(obs.extinction.E_BV)\n",
    "print(obs.extinction.cHbeta)"
   ]
  },
  {
   "cell_type": "code",
   "execution_count": null,
   "metadata": {},
   "outputs": [],
   "source": [
    "obs.printIntens()"
   ]
  },
  {
   "cell_type": "markdown",
   "metadata": {},
   "source": [
    "## Diagnostic diagrams"
   ]
  },
  {
   "cell_type": "code",
   "execution_count": null,
   "metadata": {},
   "outputs": [],
   "source": [
    "pn.log_.level = 3\n",
    "diags = pn.Diagnostics()\n",
    "diags.addDiagsFromObs(obs)\n",
    "for d in diags.diags:\n",
    "    print(d, ':', diags.diags[d][1])"
   ]
  },
  {
   "cell_type": "code",
   "execution_count": null,
   "metadata": {},
   "outputs": [],
   "source": [
    "# Clean the list of diagnostics from redundant line ratios\n",
    "for d in ('[NII] 5755/6584', '[NII] 5755/6584+', '[NeIII] 3930+/15.6m'):\n",
    "    try:\n",
    "        del diags.diags[d]\n",
    "    except:\n",
    "        pass"
   ]
  },
  {
   "cell_type": "markdown",
   "metadata": {},
   "source": [
    "Plot the diagnostic diagram"
   ]
  },
  {
   "cell_type": "code",
   "execution_count": null,
   "metadata": {},
   "outputs": [],
   "source": [
    "pn.log_.level = 2\n",
    "f, ax = plt.subplots(figsize=(10, 8))\n",
    "emisgrids = pn.getEmisGridDict(atomDict=diags.atomDict)\n",
    "diags.plot(emisgrids, obs, ax=ax)"
   ]
  },
  {
   "cell_type": "markdown",
   "metadata": {},
   "source": [
    "## Determine Te and Ne"
   ]
  },
  {
   "cell_type": "code",
   "execution_count": null,
   "metadata": {},
   "outputs": [],
   "source": [
    "O3.getTemDen(150., den=100., wave1=5007, wave2=4363, maxError=1.e-2)"
   ]
  },
  {
   "cell_type": "code",
   "execution_count": null,
   "metadata": {},
   "outputs": [],
   "source": [
    "S2.getTemDen(1.57, tem=12500, to_eval=\"I(2,1) / I(3,1)\")"
   ]
  },
  {
   "cell_type": "markdown",
   "metadata": {},
   "source": [
    "## Determine Te and Ne at the same time"
   ]
  },
  {
   "cell_type": "code",
   "execution_count": null,
   "metadata": {},
   "outputs": [],
   "source": [
    "t, d = diags.getCrossTemDen(diag_tem='[OIII] 4363/5007', diag_den='[SII] 6731/6716', obs=obs)"
   ]
  },
  {
   "cell_type": "code",
   "execution_count": null,
   "metadata": {},
   "outputs": [],
   "source": [
    "print('Te = {:.0f} K, Ne = {:.0f} cm-3'.format(t,d))"
   ]
  },
  {
   "cell_type": "code",
   "execution_count": null,
   "metadata": {},
   "outputs": [],
   "source": [
    "t2, d2 = diags.getCrossTemDen(diag_tem='[NII] 5755/6584', diag_den='[SII] 6731/6716', obs=obs)\n",
    "print('Te = {:.0f} K, Ne = {:.0f} cm-3'.format(t2,d2))"
   ]
  },
  {
   "cell_type": "code",
   "execution_count": null,
   "metadata": {},
   "outputs": [],
   "source": [
    "t3, d3 = diags.getCrossTemDen(diag_tem='[NeIII] 3869/15.6m', diag_den='[SII] 6731/6716', obs=obs)\n",
    "print('Te = {:.0f} K, Ne = {:.0f} cm-3'.format(t3,d3))"
   ]
  },
  {
   "cell_type": "markdown",
   "metadata": {},
   "source": [
    "The Te-Ne to be used to determine the ionic abundances depends on the IP of the corresponding element"
   ]
  },
  {
   "cell_type": "code",
   "execution_count": null,
   "metadata": {},
   "outputs": [],
   "source": [
    "pn.print_IPs(N_elems=20, N_ions=8)"
   ]
  },
  {
   "cell_type": "markdown",
   "metadata": {},
   "source": [
    "The getTemDen and getCrossTemDen are vectorized. Theye are even parallelized and to use multiplrocessor, one just have to do:"
   ]
  },
  {
   "cell_type": "code",
   "execution_count": null,
   "metadata": {},
   "outputs": [],
   "source": [
    "pn.config.use_multiprocs() # pn.config.unuse_multiprocs()\n",
    "print('Using {} procs.'.format(pn.config.Nprocs))"
   ]
  },
  {
   "cell_type": "markdown",
   "metadata": {},
   "source": [
    "If there is a huge number of data to deal with, one can use an Artificial Neural Network. This is already implemented in PyNeb, but test and validation of the hyperparameters still need to be achieved."
   ]
  }
 ],
 "metadata": {
  "kernelspec": {
   "display_name": "Python 3",
   "language": "python",
   "name": "python3"
  },
  "language_info": {
   "codemirror_mode": {
    "name": "ipython",
    "version": 3
   },
   "file_extension": ".py",
   "mimetype": "text/x-python",
   "name": "python",
   "nbconvert_exporter": "python",
   "pygments_lexer": "ipython3",
   "version": "3.7.6"
  }
 },
 "nbformat": 4,
 "nbformat_minor": 4
}
