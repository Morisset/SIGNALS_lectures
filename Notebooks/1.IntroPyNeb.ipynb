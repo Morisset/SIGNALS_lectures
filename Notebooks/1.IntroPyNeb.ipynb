{
 "cells": [
  {
   "cell_type": "code",
   "execution_count": null,
   "metadata": {},
   "outputs": [],
   "source": [
    "import numpy as np\n",
    "import matplotlib.pyplot as plt"
   ]
  },
  {
   "cell_type": "code",
   "execution_count": null,
   "metadata": {},
   "outputs": [],
   "source": [
    "import pyneb as pn"
   ]
  },
  {
   "cell_type": "code",
   "execution_count": null,
   "metadata": {},
   "outputs": [],
   "source": [
    "print(pn.__version__)"
   ]
  },
  {
   "cell_type": "code",
   "execution_count": null,
   "metadata": {},
   "outputs": [],
   "source": [
    "help(pn)"
   ]
  },
  {
   "cell_type": "code",
   "execution_count": null,
   "metadata": {},
   "outputs": [],
   "source": [
    "pn.TAB"
   ]
  },
  {
   "cell_type": "markdown",
   "metadata": {},
   "source": [
    "Have a look at the web page: https://github.com/Morisset/PyNeb_devel\n",
    "\n",
    "Manuals: https://github.com/Morisset/PyNeb_devel/tree/master/docs"
   ]
  },
  {
   "cell_type": "markdown",
   "metadata": {},
   "source": [
    "# The Atom object"
   ]
  },
  {
   "cell_type": "code",
   "execution_count": null,
   "metadata": {},
   "outputs": [],
   "source": [
    "help(pn.Atom)"
   ]
  },
  {
   "cell_type": "code",
   "execution_count": null,
   "metadata": {},
   "outputs": [],
   "source": [
    "O3 = pn.Atom('O',3)\n",
    "print(O3)"
   ]
  },
  {
   "cell_type": "code",
   "execution_count": null,
   "metadata": {},
   "outputs": [],
   "source": [
    "O3.printSources()\n",
    "print('gs:', O3.gs)\n",
    "print('IP:', O3.IP)\n",
    "print('IP upper:', O3.IP_up)\n",
    "print('Type: ', O3.type)"
   ]
  },
  {
   "cell_type": "code",
   "execution_count": null,
   "metadata": {},
   "outputs": [],
   "source": [
    "f, ax = plt.subplots(figsize=(6,7))\n",
    "O3.plotGrotrian(ax=ax)"
   ]
  },
  {
   "cell_type": "code",
   "execution_count": null,
   "metadata": {},
   "outputs": [],
   "source": [
    "N2 = pn.Atom('N',2)\n",
    "S2 = pn.Atom('S',2)"
   ]
  },
  {
   "cell_type": "code",
   "execution_count": null,
   "metadata": {},
   "outputs": [],
   "source": [
    "f, (ax1, ax2) = plt.subplots(1, 2, figsize=(13,7))\n",
    "N2.plotGrotrian(ax=ax1)\n",
    "S2.plotGrotrian(ax=ax2)"
   ]
  },
  {
   "cell_type": "code",
   "execution_count": null,
   "metadata": {},
   "outputs": [],
   "source": [
    "S2 = pn.Atom('S',2, NLevels=5)\n",
    "f, (ax1, ax2) = plt.subplots(1, 2, figsize=(13,7))\n",
    "N2.plotGrotrian(ax=ax1)\n",
    "S2.plotGrotrian(ax=ax2)"
   ]
  },
  {
   "cell_type": "code",
   "execution_count": null,
   "metadata": {},
   "outputs": [],
   "source": [
    "O3.printIonic()"
   ]
  },
  {
   "cell_type": "code",
   "execution_count": null,
   "metadata": {},
   "outputs": [],
   "source": [
    "O3.printIonic(tem=1e4, den=1e2)"
   ]
  },
  {
   "cell_type": "markdown",
   "metadata": {},
   "source": [
    "### For lines issued from the same level, which are the ones which will be the strongest? Does this depends on Te? Ne?"
   ]
  },
  {
   "cell_type": "code",
   "execution_count": null,
   "metadata": {},
   "outputs": [],
   "source": [
    "O3.printTransition(5007)"
   ]
  },
  {
   "cell_type": "markdown",
   "metadata": {},
   "source": [
    "### Compute the emissivities of all these lines between 1000 and 30000 K, at a density of ne= 100 cm$^{-3}$, and plot them. "
   ]
  },
  {
   "cell_type": "code",
   "execution_count": null,
   "metadata": {},
   "outputs": [],
   "source": [
    "O3.getEmissivity(tem=1e4, den=1e2, wave=5007)"
   ]
  },
  {
   "cell_type": "code",
   "execution_count": null,
   "metadata": {},
   "outputs": [],
   "source": [
    "O3.getEmissivity(tem=1e4, den=1e2, lev_i=4, lev_j=3)"
   ]
  },
  {
   "cell_type": "code",
   "execution_count": null,
   "metadata": {},
   "outputs": [],
   "source": [
    "tem = np.linspace(1e4, 1.2e4, 10)\n",
    "den = np.logspace(2, 4, 10)\n",
    "O3.getEmissivity(tem=tem, den=den, wave=5007)"
   ]
  },
  {
   "cell_type": "code",
   "execution_count": null,
   "metadata": {},
   "outputs": [],
   "source": [
    "O3.getEmissivity(tem=tem, den=den, wave=5007, product=False)"
   ]
  },
  {
   "cell_type": "code",
   "execution_count": null,
   "metadata": {},
   "outputs": [],
   "source": [
    "# We define a figure and axis objects to plot in.\n",
    "f, ax = plt.subplots(figsize=(8,6))\n",
    "# O3.plotEmiss? shows all the default parameters \n",
    "O3.plotEmiss(den=1e2, ax=ax)\n",
    "# by default tem_min=1000, tem_max=30000, it can be changed if needed\n",
    "ax.set_ylim((-29, -19)); # change the y limits on the current plot"
   ]
  },
  {
   "cell_type": "markdown",
   "metadata": {},
   "source": [
    "### Which are the strongest lines at Te= 3000 K? at Te= 10000 K? at Te= 30000 K? Why?"
   ]
  },
  {
   "cell_type": "markdown",
   "metadata": {},
   "source": [
    "### Do the same for\tne = 10$^5$ cm$^{-3}$. "
   ]
  },
  {
   "cell_type": "code",
   "execution_count": null,
   "metadata": {},
   "outputs": [],
   "source": [
    "# We define a figure and axis objects to plot in.\n",
    "f, ax = plt.subplots(figsize=(8,6))\n",
    "# O3.plotEmiss? shows all the default parameters \n",
    "O3.plotEmiss(den=1e2, ax=ax)\n",
    "O3.plotEmiss(den=1e5, legend=False, style='--', ax=ax) \n",
    "# by default tem_min=1000, tem_max=30000, it can be changed if needed\n",
    "ax.set_ylim((-29, -19)); # change the y limits on the current plot"
   ]
  },
  {
   "cell_type": "markdown",
   "metadata": {},
   "source": [
    "### What are the differences? How do they relate to the critical densities of the levels?"
   ]
  },
  {
   "cell_type": "markdown",
   "metadata": {},
   "source": [
    "# Atomic data"
   ]
  },
  {
   "cell_type": "code",
   "execution_count": null,
   "metadata": {},
   "outputs": [],
   "source": [
    "O3.getOmega(tem=1e4, wave=5007) # They actually are the Upsilon from the theretical lecture, for historical reasons ;-)"
   ]
  },
  {
   "cell_type": "code",
   "execution_count": null,
   "metadata": {},
   "outputs": [],
   "source": [
    "O3.getCollRates(tem=1e4) # q_ij"
   ]
  },
  {
   "cell_type": "code",
   "execution_count": null,
   "metadata": {},
   "outputs": [],
   "source": [
    "O3.getA()"
   ]
  },
  {
   "cell_type": "code",
   "execution_count": null,
   "metadata": {},
   "outputs": [],
   "source": [
    "DP = pn.DataPlot('O',3,NLevels=5)"
   ]
  },
  {
   "cell_type": "code",
   "execution_count": null,
   "metadata": {},
   "outputs": [],
   "source": [
    "DP.plotOmega()"
   ]
  },
  {
   "cell_type": "code",
   "execution_count": null,
   "metadata": {},
   "outputs": [],
   "source": [
    "DP.plotAllA()"
   ]
  },
  {
   "cell_type": "code",
   "execution_count": null,
   "metadata": {},
   "outputs": [],
   "source": [
    "pn.atomicData.getAllAvailableFiles('O3')"
   ]
  },
  {
   "cell_type": "code",
   "execution_count": null,
   "metadata": {},
   "outputs": [],
   "source": [
    "pn.atomicData.setDataFile('o_iii_coll_MBZ20.dat')"
   ]
  },
  {
   "cell_type": "code",
   "execution_count": null,
   "metadata": {},
   "outputs": [],
   "source": [
    "O3_MBZ20 = pn.Atom('O', 3)"
   ]
  },
  {
   "cell_type": "code",
   "execution_count": null,
   "metadata": {},
   "outputs": [],
   "source": [
    "print(O3)\n",
    "print(O3_MBZ20)"
   ]
  },
  {
   "cell_type": "code",
   "execution_count": null,
   "metadata": {},
   "outputs": [],
   "source": [
    "tem = np.linspace(1e3, 2e4, 100)\n",
    "f, ax = plt.subplots()\n",
    "ax.plot(tem,O3.getEmissivity(tem, den=1e2, wave=5007),label=O3.collFile)\n",
    "ax.plot(tem,O3_MBZ20.getEmissivity(tem, den=1e2, wave=5007), label=O3_MBZ20.collFile)\n",
    "ax.set_yscale('log')"
   ]
  },
  {
   "cell_type": "code",
   "execution_count": null,
   "metadata": {},
   "outputs": [],
   "source": [
    "tem = np.linspace(1e3, 2e4, 100)\n",
    "f, ax = plt.subplots()\n",
    "ax.plot(tem,O3_MBZ20.getEmissivity(tem, den=1e2, wave=5007) / O3.getEmissivity(tem, den=1e2, wave=5007))"
   ]
  },
  {
   "cell_type": "markdown",
   "metadata": {},
   "source": [
    "### What could be the consequences of changing $\\Omega$(5007) by 50% ?"
   ]
  }
 ],
 "metadata": {
  "kernelspec": {
   "display_name": "Python 3",
   "language": "python",
   "name": "python3"
  },
  "language_info": {
   "codemirror_mode": {
    "name": "ipython",
    "version": 3
   },
   "file_extension": ".py",
   "mimetype": "text/x-python",
   "name": "python",
   "nbconvert_exporter": "python",
   "pygments_lexer": "ipython3",
   "version": "3.7.6"
  }
 },
 "nbformat": 4,
 "nbformat_minor": 4
}
