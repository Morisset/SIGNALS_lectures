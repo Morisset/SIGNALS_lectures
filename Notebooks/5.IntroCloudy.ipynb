{
 "cells": [
  {
   "cell_type": "code",
   "execution_count": null,
   "metadata": {},
   "outputs": [],
   "source": [
    "import numpy as np\n",
    "import matplotlib.pyplot as plt"
   ]
  },
  {
   "cell_type": "code",
   "execution_count": null,
   "metadata": {},
   "outputs": [],
   "source": [
    "import pyCloudy as pc"
   ]
  },
  {
   "cell_type": "code",
   "execution_count": null,
   "metadata": {},
   "outputs": [],
   "source": [
    "!mkdir ../SIGNALS_models\n",
    "dir_ = '../SIGNALS_models'"
   ]
  },
  {
   "cell_type": "code",
   "execution_count": null,
   "metadata": {},
   "outputs": [],
   "source": [
    "model_name = 'M1'\n",
    "# An object is created (instatiated). It is in charge of the Cloudy input file. \n",
    "# Give the name of the model when instantiate the Class to the Min object.\n",
    "Min = pc.CloudyInput('{}/{}'.format(dir_, model_name))"
   ]
  },
  {
   "cell_type": "code",
   "execution_count": null,
   "metadata": {},
   "outputs": [],
   "source": [
    "help(pc.CloudyInput)"
   ]
  },
  {
   "cell_type": "code",
   "execution_count": null,
   "metadata": {},
   "outputs": [],
   "source": [
    "# Some parameters of the models are transimted to the Min object.\n",
    "# The ionizing SED is a Blackbody in this example. Other SEDs can also be defined, see set_star method.\n",
    "Min.set_BB(Teff=40000, lumi_unit='luminosity solar total', lumi_value=5)\n",
    "# A constant density is used.\n",
    "Min.set_cste_density(2)\n",
    "# The inner radius is given (a second argument can set the outer radius)\n",
    "Min.set_radius(18.5)\n",
    "# Cloudy predefined abundance set is asumed. Element by element abundance can also be defined, using a dictionnary.\n",
    "Min.set_abund(predef='ism', nograins=False)\n",
    "# Anything that is not available by dedicated method can always be done using the \"set_other\" method.\n",
    "Min.set_other(('Cosmic Rays Background'))\n",
    "#Min.set_other(('set dr 0'))\n",
    "# Stoping criteria can be defined.\n",
    "#Min.set_stop(('zone = 1'))"
   ]
  },
  {
   "cell_type": "code",
   "execution_count": null,
   "metadata": {},
   "outputs": [],
   "source": [
    "# Once all the model parameters have been defined suing the collection of \"set_\" methods, the input file is printed out.\n",
    "Min.print_input()"
   ]
  },
  {
   "cell_type": "code",
   "execution_count": null,
   "metadata": {},
   "outputs": [],
   "source": [
    "!cat ../SIGNALS_models/M1.in"
   ]
  },
  {
   "cell_type": "code",
   "execution_count": null,
   "metadata": {},
   "outputs": [],
   "source": [
    "# The list of the saved file can be edited.\n",
    "pc.config.SAVE_LIST"
   ]
  },
  {
   "cell_type": "code",
   "execution_count": null,
   "metadata": {},
   "outputs": [],
   "source": [
    "# We tell pyCloudy where the executable is:\n",
    "#pc.config.cloudy_exe = '/usr/local/Cloudy/c17.02/source/cloudy.exe'\n",
    "pc.config.cloudy_exe = 'cloudy.exe'"
   ]
  },
  {
   "cell_type": "code",
   "execution_count": null,
   "metadata": {},
   "outputs": [],
   "source": [
    "# We can run Cloudy from within the script:\n",
    "Min.run_cloudy()"
   ]
  },
  {
   "cell_type": "code",
   "execution_count": null,
   "metadata": {},
   "outputs": [],
   "source": [
    "!ls -l ../SIGNALS_models/M1.*"
   ]
  },
  {
   "cell_type": "code",
   "execution_count": null,
   "metadata": {},
   "outputs": [],
   "source": [
    "# The output files for the M1 model are read by the CloudyModel object when instantiating it.\n",
    "M = pc.CloudyModel('{}/{}'.format(dir_, model_name), read_emis=False)"
   ]
  },
  {
   "cell_type": "code",
   "execution_count": null,
   "metadata": {},
   "outputs": [],
   "source": [
    "help(pc.CloudyModel)"
   ]
  },
  {
   "cell_type": "code",
   "execution_count": null,
   "metadata": {},
   "outputs": [],
   "source": [
    "# The M object includes a lot of methods to deal with the data saved in the Cloudy model output files.\n",
    "# A method can give a summary of the model, to check that the results are close to what expected.\n",
    "M.print_stats()"
   ]
  },
  {
   "cell_type": "code",
   "execution_count": null,
   "metadata": {},
   "outputs": [],
   "source": [
    "# The abundances used in the model are stored into a dictionary.\n",
    "print(M.abund)"
   ]
  },
  {
   "cell_type": "code",
   "execution_count": null,
   "metadata": {},
   "outputs": [],
   "source": [
    "# Part of the main Cloudy model output file are extracted from the file and stored into a dictionary.\n",
    "M.out"
   ]
  },
  {
   "cell_type": "code",
   "execution_count": null,
   "metadata": {},
   "outputs": [],
   "source": [
    "# Comments, cautions and warnings are also available.\n",
    "print(M.comments)\n",
    "print('-----------------')\n",
    "print(M.cautions)\n",
    "print('-----------------')\n",
    "print(M.warnings)"
   ]
  },
  {
   "cell_type": "code",
   "execution_count": null,
   "metadata": {},
   "outputs": [],
   "source": [
    "# The mean of the ionization parameter over the volume of the nebula is available. \n",
    "# It may be weighted by the electron*hydrogen density (useful if the model goes into the neutral region).\n",
    "print(M.log_U_mean, M.log_U_mean_ne)"
   ]
  },
  {
   "cell_type": "code",
   "execution_count": null,
   "metadata": {},
   "outputs": [],
   "source": [
    "M.log_U_mean_ne?"
   ]
  },
  {
   "cell_type": "code",
   "execution_count": null,
   "metadata": {},
   "outputs": [],
   "source": [
    "M.log_U_mean_ne??"
   ]
  },
  {
   "cell_type": "code",
   "execution_count": null,
   "metadata": {},
   "outputs": [],
   "source": [
    "print(M.vol_mean(M.log_U), np.log10(M.vol_mean(10**M.log_U)))"
   ]
  },
  {
   "cell_type": "code",
   "execution_count": null,
   "metadata": {},
   "outputs": [],
   "source": [
    "# Most of the radial varying parameters are easily accessed and ploted.\n",
    "f, ax = plt.subplots(figsize=(6,6))\n",
    "ax.plot(M.radius, M.te);"
   ]
  },
  {
   "cell_type": "code",
   "execution_count": null,
   "metadata": {},
   "outputs": [],
   "source": [
    "# Ionic fraction of any element are accessible to be ploted versus the radius of the nebula.\n",
    "f, ax = plt.subplots(figsize=(6,6))\n",
    "ax.plot(M.radius, M.get_ionic('O',4), label=r'O$^{4+}$/O')\n",
    "ax.plot(M.radius, M.get_ionic('O',3), label=r'O$^{3+}$/O')\n",
    "ax.plot(M.radius, M.get_ionic('O',2), label=r'O$^{2+}$/O')\n",
    "ax.plot(M.radius, M.get_ionic('O',1), label=r'O$^{+}$/O')\n",
    "ax.plot(M.radius, M.get_ionic('O',0), label=r'O$^{0}$/O')\n",
    "ax.legend(loc='best');"
   ]
  },
  {
   "cell_type": "code",
   "execution_count": null,
   "metadata": {},
   "outputs": [],
   "source": [
    "# Electron temeprature weighted by ionic fraction and electron density are also available.\n",
    "print(r'<Te>$_{O^0/O.Ne}$ =', M.get_T0_ion_vol_ne('O',0))\n",
    "print(r'<Te>$_{O^+/O.Ne}$ =', M.get_T0_ion_vol_ne('O',1))\n",
    "print(r'<Te>$_{O^{2+}/O.Ne}$ =', M.get_T0_ion_vol_ne('O',2))\n",
    "print(r'<Te>$_{O^{3+}/O.Ne}$ =', M.get_T0_ion_vol_ne('O',3))"
   ]
  },
  {
   "cell_type": "code",
   "execution_count": null,
   "metadata": {},
   "outputs": [],
   "source": [
    "# Ionic fractions (weighted by Ne or not)\n",
    "print(M.get_ab_ion_vol('O',2))\n",
    "print(M.get_ab_ion_vol_ne('O',2))"
   ]
  },
  {
   "cell_type": "code",
   "execution_count": null,
   "metadata": {},
   "outputs": [],
   "source": [
    "# A ploting tool to visualize the spectra is available.\n",
    "help(M.get_cont_x)\n",
    "print('---------------')\n",
    "help(M.get_cont_y)\n",
    "print('---------------')\n",
    "help(M.plot_spectrum)"
   ]
  },
  {
   "cell_type": "code",
   "execution_count": null,
   "metadata": {},
   "outputs": [],
   "source": [
    "# The area under the red curve and under the blue curve are the same (in IR the blue curve is slightly over the red one)\n",
    "f, ax = plt.subplots(figsize=(14,10))\n",
    "M.plot_spectrum(cont='incid', ax=ax, c='r', xunit='Ang', yunit='esA', xlog=False, ylog=False)\n",
    "M.plot_spectrum(cont='ntrans', ax=ax, xunit='Ang', yunit='esA', xlog=False, ylog=False)\n",
    "ax.set_xlim((0, 1e5))"
   ]
  },
  {
   "cell_type": "code",
   "execution_count": null,
   "metadata": {},
   "outputs": [],
   "source": [
    "f, ax = plt.subplots(figsize=(14,10))\n",
    "M.plot_spectrum(ax=ax, xunit='Ang', yunit='esA')\n",
    "M.plot_spectrum(cont='incid', ax=ax, c='r', xunit='Ang', yunit='esA')\n",
    "ax.set_xlim((1, 1e7))\n",
    "ax.set_ylim((1e25, 1e37));"
   ]
  },
  {
   "cell_type": "code",
   "execution_count": null,
   "metadata": {},
   "outputs": [],
   "source": [
    "print(np.log10(M.Q0))"
   ]
  },
  {
   "cell_type": "markdown",
   "metadata": {},
   "source": [
    "# Grid of models"
   ]
  },
  {
   "cell_type": "code",
   "execution_count": null,
   "metadata": {},
   "outputs": [],
   "source": [
    "# A function is used to produce input file dpeending on a given parameter, here the inner radius.\n",
    "def make_model(dir_, name, radius):\n",
    "    # The name of the model must depend on the varying parameter, to avoid overwriting of the files\n",
    "    Min = pc.CloudyInput('{}/{}_{}'.format(dir_, name, radius)) \n",
    "    Min.set_BB(Teff=40000, lumi_unit='Q(H)', lumi_value=48.7)\n",
    "    Min.set_cste_density(2)\n",
    "    Min.set_radius(radius)\n",
    "    Min.set_abund(predef='ism', nograins=False)\n",
    "    Min.set_other(('Cosmic Rays Background'))\n",
    "    #Min.set_other(('set dr 0'))\n",
    "    #Min.set_stop(('zone = 1'))    \n",
    "    Min.print_input() #We do not run the model, only print the input file"
   ]
  },
  {
   "cell_type": "code",
   "execution_count": null,
   "metadata": {},
   "outputs": [],
   "source": [
    "# A grid of 6 model input files is done.\n",
    "name = 'M2'\n",
    "for radius in np.linspace(13, 23,6):\n",
    "    make_model(dir_, name, radius)"
   ]
  },
  {
   "cell_type": "code",
   "execution_count": null,
   "metadata": {},
   "outputs": [],
   "source": [
    "# This will create a Makefile in the model directory\n",
    "# The make command is used to run the models in parallel\n",
    "pc.print_make_file(dir_)"
   ]
  },
  {
   "cell_type": "code",
   "execution_count": null,
   "metadata": {},
   "outputs": [],
   "source": [
    "!cat ../SIGNALS_models/Makefile"
   ]
  },
  {
   "cell_type": "code",
   "execution_count": null,
   "metadata": {},
   "outputs": [],
   "source": [
    "# The 6 models are run using the Makefile\n",
    "pc.run_cloudy(dir_=dir_, n_proc=6, use_make=True)"
   ]
  },
  {
   "cell_type": "code",
   "execution_count": null,
   "metadata": {},
   "outputs": [],
   "source": [
    "# The models are read into a list of CloudyModel objects\n",
    "Ms = pc.load_models('{}/{}'.format(dir_, name), read_emis=False)"
   ]
  },
  {
   "cell_type": "code",
   "execution_count": null,
   "metadata": {},
   "outputs": [],
   "source": [
    "# The list is sorted according to the inner radius\n",
    "Ms = sorted(Ms, key = lambda M:M.r_in)"
   ]
  },
  {
   "cell_type": "code",
   "execution_count": null,
   "metadata": {},
   "outputs": [],
   "source": [
    "# It is very easy to loop on any of the model parameters. Here we explore the string describing how Cloudy ended.\n",
    "for M in Ms:\n",
    "    print(M.model_name_s, M.out['Cloudy ends'])"
   ]
  },
  {
   "cell_type": "code",
   "execution_count": null,
   "metadata": {},
   "outputs": [],
   "source": [
    "# Using list comprehension, it is easy to generate tables of the varying parameters.\n",
    "print('Inner R', ['{:8.2f}'.format(np.log10(M.r_in)) for M in Ms])\n",
    "print('Outer R', ['{:8.2f}'.format(np.log10(M.r_out)) for M in Ms])\n",
    "print('<Te>   ', ['{:8.2f}'.format(M.T0) for M in Ms])\n",
    "print('<logU> ', ['{:8.2f}'.format(M.log_U_mean_ne) for M in Ms])\n",
    "print('H0/H   ', ['{:8.2f}'.format(M.get_ab_ion_vol_ne('H',0)) for M in Ms])\n",
    "print('H+/H   ', ['{:8.2f}'.format(M.get_ab_ion_vol_ne('H',1)) for M in Ms])\n",
    "print('H2/H   ', ['{:8.2f}'.format(2*M.get_ab_ion_vol_ne('H',2)) for M in Ms])\n",
    "print('O++/O  ', ['{:8.2f}'.format(M.get_ab_ion_vol_ne('O',2)) for M in Ms])"
   ]
  },
  {
   "cell_type": "code",
   "execution_count": null,
   "metadata": {},
   "outputs": [],
   "source": [
    "# Overplotting of the spectra of all the models is easy obtained\n",
    "f, ax = plt.subplots(figsize=(14, 10))\n",
    "M.plot_spectrum(label='INPUT', ax=ax, xunit='Ang', cont='incid')\n",
    "for M in Ms:\n",
    "    M.plot_spectrum(label=M.model_name_s, ax=ax, xunit='Ang')\n",
    "ax.legend()\n",
    "ax.set_xlim((10, 1e8))"
   ]
  },
  {
   "cell_type": "code",
   "execution_count": null,
   "metadata": {},
   "outputs": [],
   "source": []
  }
 ],
 "metadata": {
  "kernelspec": {
   "display_name": "Python 3",
   "language": "python",
   "name": "python3"
  },
  "language_info": {
   "codemirror_mode": {
    "name": "ipython",
    "version": 3
   },
   "file_extension": ".py",
   "mimetype": "text/x-python",
   "name": "python",
   "nbconvert_exporter": "python",
   "pygments_lexer": "ipython3",
   "version": "3.7.6"
  }
 },
 "nbformat": 4,
 "nbformat_minor": 4
}
