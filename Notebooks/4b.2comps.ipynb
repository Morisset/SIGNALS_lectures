{
 "cells": [
  {
   "cell_type": "code",
   "execution_count": null,
   "metadata": {},
   "outputs": [],
   "source": [
    "import numpy as np\n",
    "import matplotlib.pyplot as plt\n",
    "import pyneb as pn"
   ]
  },
  {
   "cell_type": "code",
   "execution_count": null,
   "metadata": {},
   "outputs": [],
   "source": [
    "# PyNeb contains a huge list of emission lines:\n",
    "pn.LINE_LABEL_LIST"
   ]
  },
  {
   "cell_type": "markdown",
   "metadata": {},
   "source": [
    "## Analysis plot of a simple two-component model, meant to illustrate the bias arising from assuming that the region is homogeneous in density.\n",
    "\n",
    "## First, an emission region made up of two different subregions is modelled, each with a different mass and density. The resulting overall emissivity is computed.\n",
    "\n",
    "## Secondly, the region is analyzed as if it were a homogeneous region.\n"
   ]
  },
  {
   "cell_type": "code",
   "execution_count": null,
   "metadata": {},
   "outputs": [],
   "source": [
    "from pyneb.utils.misc import parseAtom, cleanPypicFiles\n",
    "\n",
    "def plot_2comp(tem1=1e4, tem2=1e4, dens1=3e2, dens2=5e5, mass1=1, mass2=5e-4, NLevels=8):\n",
    "        \n",
    "    # List of diagnostics used to analyze the region\n",
    "    diags = pn.Diagnostics(NLevels=NLevels)\n",
    "    \n",
    "    diags.addDiag(['[NI] 5198/5200',\n",
    "                   '[NII] 5755/6548',\n",
    "                    '[OII] 3726/3729',\n",
    "                    '[OIII] 4363/5007', \n",
    "                    '[ArIII] 5192/7136',\n",
    "                    '[ArIII] 5192/7300+',\n",
    "                    '[ArIV] 4740/4711',\n",
    "                    '[ArIV] 7230+/4720+',\n",
    "                    '[SII] 6731/6716', \n",
    "                    '[SII] 4072+/6720+',\n",
    "                    '[SIII] 6312/9069',\n",
    "                    '[ClIII] 5538/5518'\n",
    "                    ])\n",
    "            \n",
    "    diags.addClabel('[SIII] 6312/9069', '[SIII]A')\n",
    "    diags.addClabel('[OIII] 4363/5007', '[OIII]A')\n",
    "        \n",
    "    # Define all the ions that are involved in the diagnostics\n",
    "    adict = diags.atomDict\n",
    "    pn.log_.message('Atoms built')\n",
    "    \n",
    "    obs = pn.Observation(corrected = True)\n",
    "    for atom in adict:\n",
    "        # Computes all the intensities of all the lines of all the ions considered\n",
    "         for line in pn.LINE_LABEL_LIST[atom]:\n",
    "            if line[-1] == 'm':\n",
    "                wavelength = float(line[:-1])*1e4\n",
    "            else:\n",
    "                wavelength = float(line[:-1])\n",
    "            # Test if wavelength is actually in the current atom. It may not be the case if not enough levels are considered.\n",
    "            i, j = adict[atom].getTransition(wavelength)\n",
    "            if (adict[atom].wave_Ang[i-1, j-1] - wavelength)/wavelength < 0.05 : \n",
    "                elem, spec = parseAtom(atom)\n",
    "                try:      \n",
    "                    intens1 = adict[atom].getEmissivity(tem1, dens1, wave = wavelength) * dens1 * mass1\n",
    "                    intens2 = adict[atom].getEmissivity(tem2, dens2, wave = wavelength) * dens2 * mass2\n",
    "                    obs.addLine(pn.EmissionLine(elem, spec, wavelength,\n",
    "                                             obsIntens=[intens1, intens2, intens1+intens2], \n",
    "                                             obsError=[0.0, 0.0, 0.0]))\n",
    "                except:\n",
    "                    print('!!! {} {} {}'.format(elem, spec, wavelength))\n",
    "    pn.log_.message('Virtual observations computed')\n",
    "    emisgrids = pn.getEmisGridDict(atomDict=adict)\n",
    "    \n",
    "    pn.log_.message('EmisGrids available')\n",
    "    \n",
    "    # Produce a diagnostic plot for each of the two regions and another one for the \n",
    "    # (misanalyzed) overall region\n",
    "    f, axes = plt.subplots(3,1, figsize=(10,15))\n",
    "    for i_obs in (0,1,2):\n",
    "        diags.plot(emisgrids, obs, i_obs=i_obs, ax=axes[i_obs])\n",
    "\n"
   ]
  },
  {
   "cell_type": "code",
   "execution_count": null,
   "metadata": {},
   "outputs": [],
   "source": [
    "plot_2comp(tem1=1e4, tem2=1e4, dens1=3e2, dens2=5e5, mass1=1, mass2=5e-4, NLevels=8)"
   ]
  },
  {
   "cell_type": "markdown",
   "metadata": {},
   "source": [
    "### This example is only illustrative. The ionic fractions of the elements are not considered here. A more correct treatment (for planetary nebulae) of the problem using photoionisation models is presented in http://adsabs.harvard.edu/abs/2017IAUS..323...43M"
   ]
  },
  {
   "cell_type": "code",
   "execution_count": null,
   "metadata": {},
   "outputs": [],
   "source": []
  }
 ],
 "metadata": {
  "kernelspec": {
   "display_name": "Python 3",
   "language": "python",
   "name": "python3"
  },
  "language_info": {
   "codemirror_mode": {
    "name": "ipython",
    "version": 3
   },
   "file_extension": ".py",
   "mimetype": "text/x-python",
   "name": "python",
   "nbconvert_exporter": "python",
   "pygments_lexer": "ipython3",
   "version": "3.7.6"
  }
 },
 "nbformat": 4,
 "nbformat_minor": 4
}
