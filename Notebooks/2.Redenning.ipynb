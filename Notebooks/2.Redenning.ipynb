{
 "cells": [
  {
   "cell_type": "code",
   "execution_count": null,
   "metadata": {},
   "outputs": [],
   "source": [
    "import numpy as np\n",
    "import matplotlib.pyplot as plt\n",
    "import pyneb as pn"
   ]
  },
  {
   "cell_type": "markdown",
   "metadata": {},
   "source": [
    "# The extinction class: RedCorr()"
   ]
  },
  {
   "cell_type": "markdown",
   "metadata": {},
   "source": [
    "The class RedCorr manages the extinction (reddening) correction. It can compute the logarithmic extinction at H$\\beta$ by comparing an observed ratio to a theoretical one (usually H$\\alpha$/H$\\beta$, but any other ratio can be used). The object is also able to compute the correction to be applied to any intensity, given the wavelength of the line.\n",
    "\n",
    "Various extinction laws are included in the class, and any user-defined function can also be implemented. The available extinction laws can be listed by entering:"
   ]
  },
  {
   "cell_type": "code",
   "execution_count": null,
   "metadata": {},
   "outputs": [],
   "source": [
    "RC = pn.RedCorr()"
   ]
  },
  {
   "cell_type": "code",
   "execution_count": null,
   "metadata": {},
   "outputs": [],
   "source": [
    "RC.printLaws()"
   ]
  },
  {
   "cell_type": "code",
   "execution_count": null,
   "metadata": {},
   "outputs": [],
   "source": [
    "# Print out only the labels for the extinction laws:\n",
    "RC.getLaws()"
   ]
  },
  {
   "cell_type": "markdown",
   "metadata": {},
   "source": [
    "## Some definitions"
   ]
  },
  {
   "cell_type": "markdown",
   "metadata": {},
   "source": [
    "The attenuation of a source $I_{\\lambda , 0}$ leads to the observation $I_\\lambda$. This attenuation may be writen as: $I_\\lambda = I_{\\lambda , 0} . e^{-\\tau_\\lambda}$.\n",
    "\n",
    "The dust optical depth at $\\lambda$ is $\\tau_\\lambda = K . g(\\lambda)$, where $g(\\lambda)$ is an universal law (the same for all objects) and $K$ is typical of each object.\n",
    "\n",
    "The extinction in magnitudes $A_\\lambda$ is : $A_\\lambda = -2.5 \\log_{10}(I_\\lambda / I_{\\lambda , 0}) = 2.5 \\log_{10}(e) . \\tau_\\lambda = 1.086 \\tau_\\lambda$. This leads to $I_\\lambda = I_{\\lambda , 0} 10^{0.4 A_\\lambda}$\n",
    "\n",
    "The relative extinction is $E_{B-V} = A(B) - A(V)$. \n",
    "\n",
    "The normalized extinction $1/R_V$ measures the steepness of the extinction: $R_V = A(V) / E_{B-V}$. Its value is classically 3.1.\n",
    "\n",
    "The extinction can also be written as: $I_\\lambda = I_{\\lambda , 0} . 10^{-0.4 E_{B-V} X_\\lambda} = I_{\\lambda , 0} . 10^{(f_\\lambda-1).c(H\\beta)}$, where $X_\\lambda$ and $f(\\lambda)$ are universal laws.\n",
    "\n",
    "The RedCorr object takes care of all this mess ;-)"
   ]
  },
  {
   "cell_type": "code",
   "execution_count": null,
   "metadata": {},
   "outputs": [],
   "source": [
    "# Defining the extinction is easy:\n",
    "RC.E_BV = 1.34\n",
    "RC.law = 'F99'"
   ]
  },
  {
   "cell_type": "code",
   "execution_count": null,
   "metadata": {},
   "outputs": [],
   "source": [
    "# All this can be done in a single command:\n",
    "RC = pn.RedCorr(E_BV = 1.32, R_V = 3.2, law = 'F99')"
   ]
  },
  {
   "cell_type": "markdown",
   "metadata": {},
   "source": [
    "$c(H\\beta)$ and $E_{B-V}$ are related through:\n",
    "    \n",
    "$$(1-f_\\lambda).c(H\\beta) = 0.4 E_{B-V} X_\\lambda$$ applied to $\\lambda = 4861A$, with $f_\\beta$ = 0.\n",
    "so that, once one of the two parameters is defined, the other is also automatically defined; to output its value, enter:"
   ]
  },
  {
   "cell_type": "code",
   "execution_count": null,
   "metadata": {},
   "outputs": [],
   "source": [
    "RC.cHbeta"
   ]
  },
  {
   "cell_type": "markdown",
   "metadata": {},
   "source": [
    "This slightly depends on the law you use:"
   ]
  },
  {
   "cell_type": "code",
   "execution_count": null,
   "metadata": {},
   "outputs": [],
   "source": [
    "RC2 = pn.RedCorr(E_BV = 1.32, R_V = 3.2, law = 'CCM89')\n",
    "RC2.cHbeta"
   ]
  },
  {
   "cell_type": "markdown",
   "metadata": {},
   "source": [
    "$A_V$ is also available:"
   ]
  },
  {
   "cell_type": "code",
   "execution_count": null,
   "metadata": {},
   "outputs": [],
   "source": [
    "print(RC.AV)"
   ]
  },
  {
   "cell_type": "markdown",
   "metadata": {},
   "source": [
    "To obtain the correction ot apply at a given wavelength:"
   ]
  },
  {
   "cell_type": "code",
   "execution_count": null,
   "metadata": {},
   "outputs": [],
   "source": [
    "wave = 5007.0\n",
    "corr = RC.getCorr(wave)\n",
    "print(corr)"
   ]
  },
  {
   "cell_type": "code",
   "execution_count": null,
   "metadata": {},
   "outputs": [],
   "source": [
    "corr2 = RC2.getCorr(wave)\n",
    "print(corr2)"
   ]
  },
  {
   "cell_type": "markdown",
   "metadata": {},
   "source": [
    "The correction may be relative to H$\\beta$:"
   ]
  },
  {
   "cell_type": "code",
   "execution_count": null,
   "metadata": {},
   "outputs": [],
   "source": [
    "corr = RC.getCorrHb(wave)\n",
    "print(corr)"
   ]
  },
  {
   "cell_type": "markdown",
   "metadata": {},
   "source": [
    "The correction can be defined by setting a theoretical value to be obtained once correction is applied (may be a vector):"
   ]
  },
  {
   "cell_type": "code",
   "execution_count": null,
   "metadata": {},
   "outputs": [],
   "source": [
    "RC.setCorr(obs_over_theo = 3.56 / 2.83, wave1=6563., wave2=4861)\n",
    "print(RC.AV)\n",
    "print(RC.cHbeta)\n",
    "print(RC.E_BV)"
   ]
  },
  {
   "cell_type": "markdown",
   "metadata": {},
   "source": [
    "Once the RedCor object is defined, the correction can be applied to any number of wavelengths (vectorized)."
   ]
  },
  {
   "cell_type": "markdown",
   "metadata": {},
   "source": [
    "A plotting tool is available:"
   ]
  },
  {
   "cell_type": "code",
   "execution_count": null,
   "metadata": {},
   "outputs": [],
   "source": [
    "f, ax = plt.subplots(figsize=(8,8))\n",
    "RC.plot(w_inf=1000.0, w_sup=10000.0, laws = 'all', ax=ax)"
   ]
  }
 ],
 "metadata": {
  "kernelspec": {
   "display_name": "Python 3",
   "language": "python",
   "name": "python3"
  },
  "language_info": {
   "codemirror_mode": {
    "name": "ipython",
    "version": 3
   },
   "file_extension": ".py",
   "mimetype": "text/x-python",
   "name": "python",
   "nbconvert_exporter": "python",
   "pygments_lexer": "ipython3",
   "version": "3.7.6"
  }
 },
 "nbformat": 4,
 "nbformat_minor": 4
}
