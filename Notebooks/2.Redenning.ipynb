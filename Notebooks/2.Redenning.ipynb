{
 "cells": [
  {
   "cell_type": "code",
   "execution_count": 1,
   "metadata": {},
   "outputs": [],
   "source": [
    "import numpy as np\n",
    "import matplotlib.pyplot as plt\n",
    "import pyneb as pn"
   ]
  },
  {
   "cell_type": "markdown",
   "metadata": {},
   "source": [
    "# The extinction class: RedCorr()"
   ]
  },
  {
   "cell_type": "markdown",
   "metadata": {},
   "source": [
    "The class RedCorr manages the extinction (reddening) correction. It can compute the logarithmic extinction at H$\\beta$ by comparing an observed ratio to a theoretical one (usually H$\\alpha$/H$\\beta$, but any other ratio can be used). The object is also able to compute the correction to be applied to any intensity, given the wavelength of the line.\n",
    "\n",
    "Various extinction laws are included in the class, and any user-defined function can also be implemented. The available extinction laws can be listed by entering:"
   ]
  },
  {
   "cell_type": "code",
   "execution_count": 2,
   "metadata": {},
   "outputs": [],
   "source": [
    "RC = pn.RedCorr()"
   ]
  },
  {
   "cell_type": "code",
   "execution_count": 3,
   "metadata": {},
   "outputs": [
    {
     "name": "stdout",
     "output_type": "stream",
     "text": [
      "'No correction': \n",
      "        No correction, return 0.0\n",
      "        \n",
      "        \n",
      "'CCM89': \n",
      "        Cardelli, Clayton & Mathis 1989, ApJ 345, 245\n",
      "        http://adsabs.harvard.edu/abs/1989ApJ...345..245C\n",
      "\n",
      "        Comments: Depends on R_V, default value being 3.1\n",
      "\n",
      "        Scope: Applicable to both dense and diffuse ISM\n",
      "        Range: UV through IR\n",
      "        \n",
      "        \n",
      "'CCM89 Bal07': \n",
      "        Galactic extinction law based on Cardelli et al 1989, modified by Blagrave et al 2007 \n",
      "        for 3.3 < x < 8 (1250 < lambda < 3030)\n",
      "        \n",
      "        Blagrave et al 2007, ApJ, 655, 299 \n",
      "        http://adsabs.harvard.edu/abs/2007ApJ...655..299B\n",
      "        Cardelli, Clayton & Mathis 1989, ApJ 345, 245\n",
      "        http://adsabs.harvard.edu/abs/1989ApJ...345..245C\n",
      "\n",
      "        Comments:\n",
      "        Same as CCM89 for x<3.3 and x>8\n",
      "        Revised values for 3.3<x<8\n",
      "        Based on observation of Orion stars\n",
      "        Depends on R_V, default value being 3.1\n",
      "\n",
      "        Range: UV through IR\n",
      "        \n",
      "        \n",
      "'CCM89 oD94': \n",
      "        Galactic extinction law based on Cardelli et al 1989, modified by O'Donnell 1994\n",
      "        for 1.1 < x < 3.3 (9100 < lambda < 3030)\n",
      "        \n",
      "        O'Donnell 1994, ApJ, 422, 1580\n",
      "        http://adsabs.harvard.edu/abs/1994ApJ...422..158O\n",
      "        Cardelli, Clayton & Mathis 1989, ApJ 345, 245\n",
      "        http://adsabs.harvard.edu/abs/1989ApJ...345..245C\n",
      "\n",
      "        Comments:\n",
      "        Same as CCM89 for x<1.1 and x>3.3\n",
      "        Revised values for 1.1<x<3.3\n",
      "        Produces lower correction in the near UV at low R_V\n",
      "        \n",
      "        Scope: Galactic\n",
      "        Range: UV through IR\n",
      "        \n",
      "        \n",
      "'S79 H83 CCM89': \n",
      "        Galactic extinction law (0-33000 A range):\n",
      "        - In the UV, from Seaton 1979\n",
      "        - In the opt/NIR (3600-9100) Howarth 1983\n",
      "        - In the FIR (9100-33000) Cardelly et al 1989\n",
      "        \n",
      "        Seaton 1979, MNRAS, 187, 73) and \n",
      "        http://adsabs.harvard.edu/abs/1979MNRAS.187P..73S\n",
      "        Howarth 1983, MNRAS, 203, 301) Galactic law\n",
      "        http://adsabs.harvard.edu/abs/1983MNRAS.204.1091H\n",
      "        Cardelli, Clayton and Mathis 1989, ApJ, 345, 245\n",
      "        http://adsabs.harvard.edu/abs/1989ApJ...345..245C\n",
      "        \n",
      "        Scope: Galactic\n",
      "        Range: UV through IR\n",
      "        \n",
      "        \n",
      "'K76': \n",
      "        Kaler 1976, ApJS, 31, 517\n",
      "        http://adsabs.harvard.edu/abs/1976ApJS...31..517K\n",
      "        \n",
      "        Comments:\n",
      "        This function returns the correction relative to Hbeta (f_lambda) and not\n",
      "        the extinction law (X(1/lambda)).\n",
      "        It cannot be used for absolute correction.\n",
      "        \n",
      "        Range: 3000 to >20000\n",
      "        \n",
      "        \n",
      "'SM79 Gal': \n",
      "        Galactic extinction law\n",
      "        Savage & Mathis 1979, ARA&A, 17, 73\n",
      "        http://adsabs.harvard.edu/abs/1979ARA%26A..17...73S\n",
      "        \n",
      "        Comments:\n",
      "        Average of several extinction laws\n",
      "        R_V=3.1\n",
      "        \n",
      "        Scope: Galactic\n",
      "        Range: UV through IR\n",
      "        \n",
      "        \n",
      "'G03 LMC': \n",
      "        Extinction curve for the LMC\n",
      "        Gordon et al. (2003, ApJ, 594,279)\n",
      "        http://adsabs.harvard.edu/abs/2003ApJ...594..279G\n",
      "        \n",
      "        Comments:\n",
      "        Average curve for the LMC\n",
      "        R_V = 3.41\n",
      "\n",
      "        Scope: LMC\n",
      "        Range: 1200 through fIR   \n",
      "\n",
      "        \n",
      "'MCC99 FM90 LMC': \n",
      "        In the UV, this method returns the extinction curve proposed for the LMC \n",
      "        by Misselt et al 1999 based on the 1990 variant of the Fitzpatrick & Massa law\n",
      "        In the opt/IR, it returns the Fitzpatrick & Massa 1990 law.\n",
      "\n",
      "        Misselt, Clayton & Gordon 1999 , ApJ, 515, 128 \n",
      "        http://adsabs.harvard.edu/abs/1999ApJ...515..128M\n",
      "        Fitzpatrick & Massa 1990, ApJS, 72, 163\n",
      "        http://adsabs.harvard.edu/abs/1990ApJS...72..163F\n",
      "        \n",
      "        Comments:\n",
      "        The Fitzpatrick & Massa 1990 law in the UV depends on 6 parameters, stored in RedCorr.FitzParams.\n",
      "        The method sets RedCorr.FitzParams to the values of set in the Fitzpatrick 1999 paper, \n",
      "        which includes an explicit dependence on R_V.\n",
      "        R_V must be provided, as the law depends on its value.\n",
      "        We refer to FM90 and not to the original FM88 because the value of a constant in F(lambda) slightly changed (0.0564 -> 0.05644)\n",
      "        The value of another constant of F(lambda) appears to change from FM90 to MCC99, but it is probably a typo (0.5392 -> 0.5329) \n",
      "        \n",
      "        Scope: LMC\n",
      "\n",
      "        \n",
      "'F99-like': \n",
      "        In the UV, it returns the Fitzpatrick & Massa 1990 law.\n",
      "        In the opt/IR, it returns the Fitzpatrick & Massa 1990 law. \n",
      "        \n",
      "        Fitzpatrick 1999, PASP, 11, 63\n",
      "        http://adsabs.harvard.edu/abs/1999PASP..111...63F\n",
      "        Fitzpatrick & Massa 1990, ApJS, 72, 163\n",
      "        http://adsabs.harvard.edu/abs/1990ApJS...72..163F\n",
      "        \n",
      "        Comments:\n",
      "        The FM90 depends on 6 parameters which must be set by the user and are stored in RedCorr.FitzParams.\n",
      "        For the predefined set of parameters defined in FM99, use instead the F99 law.\n",
      "        R_V must be provided, as the law depends on it. The dependence with R_V follows Table 4 in the F99 paper \n",
      "\n",
      "        Range: UV through IR\n",
      "        \n",
      "        \n",
      "'F99': \n",
      "        This method returns the R-dependent IR-through-UV extinction curve proposed by Fitzpatrick 1999.\n",
      "\n",
      "        Fitzpatrick 1999, PASP, 11, 63\n",
      "        http://adsabs.harvard.edu/abs/1999PASP..111...63F\n",
      "        based on: \n",
      "        Fitzpatrick & Massa 1990, ApJS, 72, 163\n",
      "        http://adsabs.harvard.edu/abs/1990ApJS...72..163F\n",
      "        \n",
      "        Comments:\n",
      "        The Fitzpatrick & Massa 1990 law in the UV depends on 6 parameters, stored in RedCorr.FitzParams.\n",
      "        The method sets RedCorr.FitzParams to the values of set in the Fitzpatrick 1999 paper, \n",
      "        which includes an explicit dependence on R_V.\n",
      "        R_V must be provided, as the law depends on its value.\n",
      "        \n",
      "        Range: UV through IR\n",
      "\n",
      "        \n",
      "'F88 F99 LMC': \n",
      "        This method returns:\n",
      "        - in the UV, the average LMC extinction curve derived by Fitzpatrick & Massa 1988\n",
      "        - in the opt/IR, the R-dependent extinction curve proposed by Fitzpatrick 1999.\n",
      "        \n",
      "        Fitzpatrick 1999, PASP, 11, 63\n",
      "        http://adsabs.harvard.edu/abs/1999PASP..111...63F\n",
      "        Fitzpatrick & Massa 1988, ApJ, 328, 734\n",
      "        http://adsabs.harvard.edu/abs/1988ApJ...328..734F\n",
      "        \n",
      "        Comments:\n",
      "        The Fitzpatrick and Massa law in the UV depends on 6 parameters, stored in RedCorr.FitzParams and \n",
      "        here set to the LMC values derived in FM88\n",
      "        R_V must be provided, as the law depends on it\n",
      "        \n",
      "        Scope: LMC\n",
      "        Range: UV through IR\n",
      "\n",
      "        \n"
     ]
    }
   ],
   "source": [
    "RC.printLaws()"
   ]
  },
  {
   "cell_type": "code",
   "execution_count": 4,
   "metadata": {},
   "outputs": [
    {
     "data": {
      "text/plain": [
       "dict_keys(['No correction', 'CCM89', 'CCM89 Bal07', 'CCM89 oD94', 'S79 H83 CCM89', 'K76', 'SM79 Gal', 'G03 LMC', 'MCC99 FM90 LMC', 'F99-like', 'F99', 'F88 F99 LMC'])"
      ]
     },
     "execution_count": 4,
     "metadata": {},
     "output_type": "execute_result"
    }
   ],
   "source": [
    "# Print out only the labels for the extinction laws:\n",
    "RC.getLaws()"
   ]
  },
  {
   "cell_type": "markdown",
   "metadata": {},
   "source": [
    "## Some definitions"
   ]
  },
  {
   "cell_type": "markdown",
   "metadata": {},
   "source": [
    "The attenuation of a source $I_{\\lambda , 0}$ leads to the observation $I_\\lambda$. This attenuation may be writen as: $I_\\lambda = I_{\\lambda , 0} . e^{-\\tau_\\lambda}$.\n",
    "\n",
    "The dust optical depth at $\\lambda$ is $\\tau_\\lambda = K . g(\\lambda)$, where $g(\\lambda)$ is an universal law (the same for all objects) and $K$ is typical of each object.\n",
    "\n",
    "The extinction in magnitudes $A_\\lambda$ is : $A_\\lambda = -2.5 \\log_{10}(I_\\lambda / I_{\\lambda , 0}) = 2.5 \\log_{10}(e) . \\tau_\\lambda = 1.086 \\tau_\\lambda$. This leads to $I_\\lambda = I_{\\lambda , 0} 10^{0.4 A_\\lambda}$\n",
    "\n",
    "The relative extinction is $E_{B-V} = A(B) - A(V)$. \n",
    "\n",
    "The normalized extinction $1/R_V$ measures the steepness of the extinction: $R_V = A(V) / E_{B-V}$. Its value is classically 3.1.\n",
    "\n",
    "The extinction can also be written as: $I_\\lambda = I_{\\lambda , 0} . 10^{-0.4 E_{B-V} X_\\lambda} = I_{\\lambda , 0} . 10^{(f_\\lambda-1).c(H\\beta)}$, where $X_\\lambda$ and $f(\\lambda)$ are universal laws.\n",
    "\n",
    "The RedCorr object takes care of all this mess ;-)"
   ]
  },
  {
   "cell_type": "code",
   "execution_count": 5,
   "metadata": {},
   "outputs": [],
   "source": [
    "# Defining the extinction is easy:\n",
    "RC.law = 'F99'\n",
    "RC.E_BV = 1.34"
   ]
  },
  {
   "cell_type": "code",
   "execution_count": 6,
   "metadata": {},
   "outputs": [],
   "source": [
    "# All this can be done in a single command:\n",
    "RC = pn.RedCorr(E_BV = 1.32, R_V = 3.2, law = 'F99')"
   ]
  },
  {
   "cell_type": "markdown",
   "metadata": {},
   "source": [
    "$c(H\\beta)$ and $E_{B-V}$ are related through:\n",
    "    \n",
    "$$(1-f_\\lambda).c(H\\beta) = 0.4 E_{B-V} X_\\lambda$$ applied to $\\lambda = 4861A$, with $f_\\beta$ = 0.\n",
    "so that, once one of the two parameters is defined, the other is also automatically defined; to output its value, enter:"
   ]
  },
  {
   "cell_type": "code",
   "execution_count": 7,
   "metadata": {},
   "outputs": [
    {
     "name": "stdout",
     "output_type": "stream",
     "text": [
      "1.9616002881550996 4.224\n"
     ]
    }
   ],
   "source": [
    "print(RC.cHbeta, RC.AV)"
   ]
  },
  {
   "cell_type": "markdown",
   "metadata": {},
   "source": [
    "This slightly depends on the law you use:"
   ]
  },
  {
   "cell_type": "code",
   "execution_count": 8,
   "metadata": {},
   "outputs": [
    {
     "data": {
      "text/plain": [
       "1.9591159671149623"
      ]
     },
     "execution_count": 8,
     "metadata": {},
     "output_type": "execute_result"
    }
   ],
   "source": [
    "RC2 = pn.RedCorr(E_BV = 1.32, R_V = 3.2, law = 'CCM89')\n",
    "RC2.cHbeta"
   ]
  },
  {
   "cell_type": "markdown",
   "metadata": {},
   "source": [
    "$A_V$ is also available:"
   ]
  },
  {
   "cell_type": "code",
   "execution_count": 9,
   "metadata": {},
   "outputs": [
    {
     "name": "stdout",
     "output_type": "stream",
     "text": [
      "4.224\n"
     ]
    }
   ],
   "source": [
    "print(RC.AV)"
   ]
  },
  {
   "cell_type": "markdown",
   "metadata": {},
   "source": [
    "To obtain the correction ot apply at a given wavelength:"
   ]
  },
  {
   "cell_type": "code",
   "execution_count": 10,
   "metadata": {},
   "outputs": [
    {
     "name": "stdout",
     "output_type": "stream",
     "text": [
      "76.73626348808381\n"
     ]
    }
   ],
   "source": [
    "wave = 5007.0\n",
    "corr = RC.getCorr(wave)\n",
    "print(corr)"
   ]
  },
  {
   "cell_type": "code",
   "execution_count": 11,
   "metadata": {},
   "outputs": [
    {
     "name": "stdout",
     "output_type": "stream",
     "text": [
      "77.13150102533022\n"
     ]
    }
   ],
   "source": [
    "corr2 = RC2.getCorr(wave)\n",
    "print(corr2)"
   ]
  },
  {
   "cell_type": "markdown",
   "metadata": {},
   "source": [
    "The correction may be relative to H$\\beta$:"
   ]
  },
  {
   "cell_type": "code",
   "execution_count": 12,
   "metadata": {},
   "outputs": [
    {
     "name": "stdout",
     "output_type": "stream",
     "text": [
      "0.838301725654532\n"
     ]
    }
   ],
   "source": [
    "corr = RC.getCorrHb(5007)\n",
    "print(corr)"
   ]
  },
  {
   "cell_type": "markdown",
   "metadata": {},
   "source": [
    "The correction can be defined by setting a theoretical value to be obtained once correction is applied (may be a vector):"
   ]
  },
  {
   "cell_type": "code",
   "execution_count": 13,
   "metadata": {},
   "outputs": [
    {
     "name": "stdout",
     "output_type": "stream",
     "text": [
      "0.6020085814682256\n",
      "0.2795691777651311\n",
      "0.18812768170882047\n"
     ]
    }
   ],
   "source": [
    "RC.setCorr(obs_over_theo = 3.56 / 2.86, wave1=6563., wave2=4861)\n",
    "print(RC.AV)\n",
    "print(RC.cHbeta)\n",
    "print(RC.E_BV)"
   ]
  },
  {
   "cell_type": "markdown",
   "metadata": {},
   "source": [
    "Once the RedCor object is defined, the correction can be applied to any number of wavelengths (vectorized)."
   ]
  },
  {
   "cell_type": "markdown",
   "metadata": {},
   "source": [
    "A plotting tool is available:"
   ]
  },
  {
   "cell_type": "code",
   "execution_count": 14,
   "metadata": {},
   "outputs": [
    {
     "data": {
      "image/png": "[encoded data removed]",
      "text/plain": [
       "<Figure size 576x576 with 1 Axes>"
      ]
     },
     "metadata": {
      "needs_background": "light"
     },
     "output_type": "display_data"
    }
   ],
   "source": [
    "f, ax = plt.subplots(figsize=(8,8))\n",
    "RC.plot(w_inf=1000.0, w_sup=10000.0, laws = 'all', ax=ax)"
   ]
  }
 ],
 "metadata": {
  "kernelspec": {
   "display_name": "Python 3",
   "language": "python",
   "name": "python3"
  },
  "language_info": {
   "codemirror_mode": {
    "name": "ipython",
    "version": 3
   },
   "file_extension": ".py",
   "mimetype": "text/x-python",
   "name": "python",
   "nbconvert_exporter": "python",
   "pygments_lexer": "ipython3",
   "version": "3.7.6"
  }
 },
 "nbformat": 4,
 "nbformat_minor": 4
}
