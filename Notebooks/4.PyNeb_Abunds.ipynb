{
 "cells": [
  {
   "cell_type": "code",
   "execution_count": 1,
   "metadata": {},
   "outputs": [],
   "source": [
    "import matplotlib.pyplot as plt\n",
    "import numpy as np\n",
    "import pyneb as pn"
   ]
  },
  {
   "cell_type": "code",
   "execution_count": 2,
   "metadata": {},
   "outputs": [],
   "source": [
    "O3 = pn.Atom('O', 3, NLevels=5)\n",
    "N2 = pn.Atom('N', 2, NLevels=5)\n",
    "O2 = pn.Atom('O', 2, NLevels=5)\n",
    "S2 = pn.Atom('S', 2, NLevels=5)"
   ]
  },
  {
   "cell_type": "markdown",
   "metadata": {},
   "source": [
    "# ABUNDANCES DERIVATIONS WITH THE DIRECT METHOD"
   ]
  },
  {
   "cell_type": "markdown",
   "metadata": {},
   "source": [
    "Atom class has the getIonAbundance method to determine ionic abundance from Te, Ne and a line intensity (normalised to Hbeta)."
   ]
  },
  {
   "cell_type": "code",
   "execution_count": 3,
   "metadata": {},
   "outputs": [
    {
     "name": "stdout",
     "output_type": "stream",
     "text": [
      "7.644872184321936\n"
     ]
    }
   ],
   "source": [
    "print(12 + np.log10(O3.getIonAbundance(int_ratio=125., tem=1e4, den=1e2, wave=5007, Hbeta=100.0)))"
   ]
  },
  {
   "cell_type": "markdown",
   "metadata": {},
   "source": [
    "Let's see the effects of the line intensity, Te and Ne on the determined abundances"
   ]
  },
  {
   "cell_type": "code",
   "execution_count": 4,
   "metadata": {},
   "outputs": [
    {
     "name": "stdout",
     "output_type": "stream",
     "text": [
      "Te =  10000, Ne =    100, [OIII]/Hb =  1.25 -> 12 + log(O++/H+) = 7.64\n",
      "Te =  10000, Ne =    100, [OIII]/Hb =  1.55 -> 12 + log(O++/H+) = 7.74\n",
      "Te =  13000, Ne =    100, [OIII]/Hb =  1.25 -> 12 + log(O++/H+) = 7.29\n",
      "Te =  10000, Ne = 100000, [OIII]/Hb =  1.25 -> 12 + log(O++/H+) = 7.69\n"
     ]
    }
   ],
   "source": [
    "def print_abO(tem = 1e4, den = 1e2, int_ratio = 125., Hbeta = 100.):\n",
    "    print('Te = {:6.0f}, Ne = {:6.0f}, [OIII]/Hb = {:5.2f} -> 12 + log(O++/H+) = {:.2f}'.format(tem, den, int_ratio/Hbeta, \n",
    "                                                                      12 + np.log10(O3.getIonAbundance(int_ratio=int_ratio, \n",
    "                                                                                                       tem=tem, den=den, \n",
    "                                                                                                       wave=5007, \n",
    "                                                                                                       Hbeta=Hbeta))))\n",
    "print_abO(tem = 1e4, den = 1e2, int_ratio = 125.)\n",
    "print_abO(tem = 1e4, den = 1e2, int_ratio = 155.)\n",
    "print_abO(tem = 1.3e4, den = 1e2, int_ratio = 125.)\n",
    "print_abO(tem = 1e4, den = 1e5, int_ratio = 125.)"
   ]
  },
  {
   "cell_type": "markdown",
   "metadata": {},
   "source": [
    "## Let's make the process more efficient"
   ]
  },
  {
   "cell_type": "markdown",
   "metadata": {},
   "source": [
    "Te and Ne are determined, for different regions of the nebula, corresponding to different ions identified by their ionization potentials. It is now possible to determine the ionic abundances that corresponds to each observed emission line."
   ]
  },
  {
   "cell_type": "code",
   "execution_count": 5,
   "metadata": {},
   "outputs": [],
   "source": [
    "# Fill the following with values determined in the previous notebook (or whatever value you want)\n",
    "dens = 4600\n",
    "T_N2 = 12800.\n",
    "T_O3 = 11927. "
   ]
  },
  {
   "cell_type": "code",
   "execution_count": 6,
   "metadata": {},
   "outputs": [
    {
     "name": "stdout",
     "output_type": "stream",
     "text": [
      "Overwriting observations2.dat\n"
     ]
    }
   ],
   "source": [
    "%%writefile observations2.dat\n",
    "LINE   MYOBJECT errMYOBJECT\n",
    "S4_10.5m   7.00  0.25\n",
    "Ne2_12.8m  8.30  0.25\n",
    "Ne3_15.6m 34.10  0.20\n",
    "S3_18.7m  10.00  0.20\n",
    "O2_3726A  39.70  0.05\n",
    "O2_3729A  18.60  0.05\n",
    "Ne3_3869A 18.90  0.05\n",
    "Ne3_3968A  6.4   0.10\n",
    "S2_4069A   0.85  0.15\n",
    "S2_4076A   0.45  0.15\n",
    "O3_4363A   4.36  0.10\n",
    "H1r_4861A 100.0  0.00\n",
    "O3_5007A 435.09  0.05\n",
    "N2_5755A   0.51  0.15\n",
    "S3_6312A   0.76  0.15\n",
    "O1_6300A   1.69  0.15\n",
    "O1_6364A   0.54  0.15\n",
    "N2_6548A   6.84  0.10\n",
    "H1r_6563A 345.0  0.05\n",
    "N2_6584A  19.00  0.10\n",
    "S2_6716A   1.22  0.15\n",
    "S2_6731A   2.18  0.15\n",
    "Ar3_7136A  4.91  0.15\n",
    "O2_7319A+  6.54  0.10\n",
    "O2_7330A+  5.17  0.10"
   ]
  },
  {
   "cell_type": "code",
   "execution_count": 7,
   "metadata": {},
   "outputs": [
    {
     "name": "stderr",
     "output_type": "stream",
     "text": [
      "/Users/christophemorisset/Google Drive/Pro/PyNeb_devel/pyneb/core/pynebcore.py:4455: VisibleDeprecationWarning: Reading unicode strings without specifying the encoding argument is deprecated. Set the encoding, use None for the system default.\n",
      "  data_tab = np.genfromtxt(obsFile, dtype=None, delimiter=delimiter, names=True)\n"
     ]
    }
   ],
   "source": [
    "obs = pn.Observation('observations1.dat', fileFormat='lines_in_rows_err_cols', corrected=False) \n",
    "obs.extinction.law = 'CCM89'  # define the extinction law from Cardelli et al.\n",
    "obs.def_EBV(label1=\"H1r_6563A\", label2=\"H1r_4861A\", r_theo=2.85) # Compute the redenning correction\n",
    "obs.correctData(normWave=4861)                      # Correct the data from attenuation"
   ]
  },
  {
   "cell_type": "code",
   "execution_count": 8,
   "metadata": {},
   "outputs": [
    {
     "data": {
      "text/plain": [
       "array(['Ar3', 'H1r', 'N2', 'Ne2', 'Ne3', 'O1', 'O2', 'O3', 'S2', 'S3',\n",
       "       'S4'], dtype='<U3')"
      ]
     },
     "execution_count": 8,
     "metadata": {},
     "output_type": "execute_result"
    }
   ],
   "source": [
    "obs.getUniqueAtoms()"
   ]
  },
  {
   "cell_type": "code",
   "execution_count": 9,
   "metadata": {},
   "outputs": [
    {
     "name": "stdout",
     "output_type": "stream",
     "text": [
      "warng _ManageAtomicData: atom data not available for H1\n",
      "warng _ManageAtomicData: coll data not available for H1\n"
     ]
    }
   ],
   "source": [
    "all_atoms = pn.getAtomDict(atom_list=obs.getUniqueAtoms(), NLevels=5)"
   ]
  },
  {
   "cell_type": "code",
   "execution_count": 10,
   "metadata": {},
   "outputs": [
    {
     "data": {
      "text/plain": [
       "{'Ar3': Atom Ar3 from ar_iii_atom_MB09.dat and ar_iii_coll_MB09.dat,\n",
       " 'N2': Atom N2 from n_ii_atom_FFT04.dat and n_ii_coll_T11.dat,\n",
       " 'Ne2': Atom Ne2 from ne_ii_atom_Bal06.dat and ne_ii_coll_GMB01.dat,\n",
       " 'Ne3': Atom Ne3 from ne_iii_atom_GMZ97.dat and ne_iii_coll_McLB00.dat,\n",
       " 'O1': Atom O1 from o_i_atom_WFD96.dat and o_i_coll_BK95.dat,\n",
       " 'O2': Atom O2 from o_ii_atom_FFT04.dat and o_ii_coll_Kal09.dat,\n",
       " 'O3': Atom O3 from o_iii_atom_FFT04-SZ00.dat and o_iii_coll_SSB14.dat,\n",
       " 'S2': Atom S2 from s_ii_atom_PKW09.dat and s_ii_coll_TZ10.dat,\n",
       " 'S3': Atom S3 from s_iii_atom_PKW09.dat and s_iii_coll_TG99.dat,\n",
       " 'S4': Atom S4 from s_iv_atom_JKD86-DHKD82.dat and s_iv_coll_DHKD82.dat}"
      ]
     },
     "execution_count": 10,
     "metadata": {},
     "output_type": "execute_result"
    }
   ],
   "source": [
    "all_atoms"
   ]
  },
  {
   "cell_type": "code",
   "execution_count": 11,
   "metadata": {},
   "outputs": [
    {
     "name": "stdout",
     "output_type": "stream",
     "text": [
      "Ar3_7136A   L    0.187\n",
      "N2_5755A    L    1.855\n",
      "N2_6548A    L    1.962\n",
      "N2_6584A    L    1.846\n",
      "Ne2_12.8m   L    5.055\n",
      "Ne3_15.6m   H   11.084\n",
      "Ne3_3869A   H   12.644\n",
      "Ne3_3968A   H   13.992\n",
      "O2_3726A    L   17.752\n",
      "O2_3729A    L   15.456\n",
      "O3_4363A    H   83.693\n",
      "O3_5007A    H   83.718\n",
      "S2_4069A    L    0.123\n",
      "S2_4076A    L    0.203\n",
      "S2_6716A    L    0.078\n",
      "S2_6731A    L    0.078\n",
      "S3_6312A    L    0.535\n"
     ]
    }
   ],
   "source": [
    "# define a dictionary for the ionic abundances\n",
    "ab_dic = {}\n",
    "# we  use the following lines to determine the ionic abundances\n",
    "ab_labels = ['N2_6584A', 'N2_6548A', 'N2_5755A', 'N3_57.4m', 'N4_1487A', \n",
    "             'O2_3726A', 'O2_3729A', 'O3_5007A', 'O3_4363A', 'O4_25.9m',\n",
    "             'Ne2_12.8m', 'Ne3_3869A', 'Ne3_3968A', 'Ne3_15.6m', 'Ne5_3426A', 'Ne6_7.6m',\n",
    "             'S2_4069A', 'S2_4076A', 'S2_6716A', 'S2_6731A', 'S3_6312A',\n",
    "             'Ar3_7136A']\n",
    "IP_cut = 30.\n",
    "# loop on the observed lines to determine the corresponding ionic abundances\n",
    "for line in obs.getSortedLines():\n",
    "    # this is one way to define temp and dens in each zone\n",
    "    # must be adapted to each case\n",
    "    if (line.atom in all_atoms) and (line.label in ab_labels):\n",
    "        if all_atoms[line.atom].IP > IP_cut:\n",
    "            temp = T_O3\n",
    "            IP_used = 'H'\n",
    "        else:\n",
    "            temp = T_N2\n",
    "            IP_used = 'L'                 \n",
    "        ab = all_atoms[line.atom].getIonAbundance(line.corrIntens, temp, dens, \n",
    "                                                  to_eval=line.to_eval, \n",
    "                                                  Hbeta=100)[0]\n",
    "        print('{0:10s}  {1}   {2:6.3f}'.format(line.label, IP_used, ab * 1e6))\n",
    "        # More than one abundance per ion can be obtained:\n",
    "        if line.atom not in ab_dic:\n",
    "            ab_dic[line.atom] = []\n",
    "        ab_dic[line.atom].append(ab)"
   ]
  },
  {
   "cell_type": "markdown",
   "metadata": {},
   "source": [
    "What is the reason for abundances to differ for a given ion?\n",
    "\n",
    "How could you \"make\" all the abundances for a given ion to agree? Is this the right way? ;-)"
   ]
  },
  {
   "cell_type": "code",
   "execution_count": 12,
   "metadata": {},
   "outputs": [
    {
     "data": {
      "text/plain": [
       "{'Ar3': [1.8667713916845278e-07],\n",
       " 'N2': [1.8550519076697855e-06,\n",
       "  1.9616420611577844e-06,\n",
       "  1.8463752931620493e-06],\n",
       " 'Ne2': [5.055065356847236e-06],\n",
       " 'Ne3': [1.1084335685465835e-05,\n",
       "  1.2644253777845992e-05,\n",
       "  1.3991820434394754e-05],\n",
       " 'O2': [1.7751976407676314e-05, 1.5456295687858322e-05],\n",
       " 'O3': [8.369281763715053e-05, 8.371816771890296e-05],\n",
       " 'S2': [1.2325625970957794e-07,\n",
       "  2.0279358435826837e-07,\n",
       "  7.77208599633049e-08,\n",
       "  7.801611158451579e-08],\n",
       " 'S3': [5.347203668158334e-07]}"
      ]
     },
     "execution_count": 12,
     "metadata": {},
     "output_type": "execute_result"
    }
   ],
   "source": [
    "ab_dic"
   ]
  },
  {
   "cell_type": "markdown",
   "metadata": {},
   "source": [
    "How will you define the \"adopted\" abundance for each ion?"
   ]
  },
  {
   "cell_type": "code",
   "execution_count": 13,
   "metadata": {},
   "outputs": [
    {
     "data": {
      "text/plain": [
       "{'Ar3': 1.8667713916845278e-07,\n",
       " 'N2': 1.8876897539965397e-06,\n",
       " 'Ne2': 5.055065356847236e-06,\n",
       " 'Ne3': 1.2573469965902194e-05,\n",
       " 'O2': 1.6604136047767316e-05,\n",
       " 'O3': 8.370549267802674e-05,\n",
       " 'S2': 1.2044670390391674e-07,\n",
       " 'S3': 5.347203668158334e-07}"
      ]
     },
     "execution_count": 13,
     "metadata": {},
     "output_type": "execute_result"
    }
   ],
   "source": [
    "for atom in ab_dic:\n",
    "    mean = np.mean(np.asarray(ab_dic[atom]))\n",
    "    ab_dic[atom] = mean # It may NOT be the best way\n",
    "ab_dic"
   ]
  },
  {
   "cell_type": "markdown",
   "metadata": {},
   "source": [
    "## Compute the total abundances from the ionic abundances"
   ]
  },
  {
   "cell_type": "markdown",
   "metadata": {},
   "source": [
    "$$ \\frac{X}{H} = \\sum_i \\frac{X^i}{H^+} $$"
   ]
  },
  {
   "cell_type": "markdown",
   "metadata": {},
   "source": [
    "If all the ions are observed, the situation is simple.\n",
    "\n",
    "This is not always the case, for example $N^{++}$ has no observable line in the visible."
   ]
  },
  {
   "cell_type": "markdown",
   "metadata": {},
   "source": [
    "Considere that the IPs of N and O are close:"
   ]
  },
  {
   "cell_type": "code",
   "execution_count": 14,
   "metadata": {},
   "outputs": [
    {
     "name": "stdout",
     "output_type": "stream",
     "text": [
      "H      13.60\n",
      "He     24.59  54.42\n",
      "Li      5.39  75.64\n",
      "Be      9.32  18.21\n",
      "B       8.30  25.15\n",
      "C      11.26  24.38\n",
      "N      14.53  29.60\n",
      "O      13.62  35.12\n"
     ]
    }
   ],
   "source": [
    "pn.print_IPs(N_elems=8, N_ions=2)"
   ]
  },
  {
   "cell_type": "markdown",
   "metadata": {},
   "source": [
    "One can pretend that the ionization of both atoms are also similar: $N^+/N = O^+/O$. \n",
    "\n",
    "This leads to: $$ \\frac{N}{H} = \\frac{N^+}{H^+} . \\frac{N}{N^+} . \\frac{H^+}{H} = \\frac{N^+}{H^+} . \\frac{O}{O^+} = \\frac{N^+}{H^+} . ICF(N^+) $$\n",
    "\n",
    "The ICF is the coefficient by which one ionic abundance (or the sum of the observed ionic abundances) of an element is multiplied to obtain the total (elemental) abundance."
   ]
  },
  {
   "cell_type": "code",
   "execution_count": 15,
   "metadata": {},
   "outputs": [],
   "source": [
    "# Instantiation of the ICF object\n",
    "icf = pn.ICF()"
   ]
  },
  {
   "cell_type": "code",
   "execution_count": 16,
   "metadata": {},
   "outputs": [
    {
     "name": "stdout",
     "output_type": "stream",
     "text": [
      "direct_He.23: elem = He; atom = He2 + He3; type = All\n",
      "direct_N.23: elem = N; atom = N2 + N3; type = All\n",
      "direct_N.234: elem = N; atom = N2 + N3 + N4; type = All\n",
      "direct_N.2345: elem = N; atom = N2 + N3 + N4 + N5; type = All\n",
      "direct_O.23: elem = O; atom = O2 + O3; type = All\n",
      "direct_O.234: elem = O; atom = O2 + O3 + O4; type = All\n",
      "direct_O.2345: elem = O; atom = O2 + O3 + O4 + O5; type = All\n",
      "direct_S.23: elem = S; atom = S2 + S3; type = All\n",
      "direct_S.234: elem = S; atom = S2 + S3 + S4; type = All\n",
      "direct_S.2345: elem = S; atom = S2 + S3 + S4 + S5; type = All\n",
      "direct_Ne.23: elem = Ne; atom = Ne2 + Ne3; type = All\n",
      "direct_Ne.235: elem = Ne; atom = Ne2 + Ne3 + Ne5; type = All\n",
      "direct_Ne.2345: elem = Ne; atom = Ne2 + Ne3 + Ne4 + Ne5; type = All\n",
      "direct_Ne.345: elem = Ne; atom = Ne3 + Ne4 + Ne5; type = All\n",
      "direct_Ne.2356: elem = Ne; atom = Ne2 + Ne3 + Ne5 + Ne6; type = All\n",
      "direct_Mg.45: elem = Mg; atom = Mg4 + Mg5; type = All\n",
      "direct_Ar.23: elem = Ar; atom = Ar2 + Ar3; type = All\n",
      "direct_Ar.234: elem = Ar; atom = Ar2 + Ar3 + Ar4; type = All\n",
      "direct_Ar.345: elem = Ar; atom = Ar3 + Ar4 + Ar5; type = All\n",
      "direct_Cl.23: elem = Cl; atom = Cl2 + Cl3; type = All\n",
      "direct_Cl.34: elem = Cl; atom = Cl3 + Cl4; type = All\n",
      "direct_Cl.234: elem = Cl; atom = Cl2 + Cl3 + Cl4; type = All\n",
      "TPP77_13: elem = O; atom = O2 + O3; type = PNe\n",
      "TPP77_14: elem = N; atom = N2; type = PNe\n",
      "TPP77_15: elem = Ne; atom = Ne3; type = PNe\n",
      "PHCD07_12: elem = Ne; atom = Ne3; type = HII\n",
      "PHCD07_13: elem = Ne; atom = Ne3; type = HII\n",
      "PHCD07_16: elem = Ar; atom = (Ar3 + Ar4); type = HII\n",
      "PHCD07_17: elem = Ar; atom = Ar3; type = HII\n",
      "ITL94_19: elem = Ar; atom = (Ar3 + Ar4); type = HII\n",
      "ITL94_20: elem = Ar; atom = Ar3; type = HII\n",
      "PTPR92_21: elem = He; atom = He2; type = HII\n",
      "KB94_A0: elem = N; atom = N2 + N3 + N4 + N5; type = PNe\n",
      "KB94_A1.6: elem = N; atom = N2; type = PNe\n",
      "KB94_A1.8: elem = N; atom = N2; type = PNe\n",
      "KB94_A1.10: elem = N; atom = N2; type = PNe\n",
      "KB94_A1.10b: elem = N; atom = N2; type = PNe\n",
      "KB94_A6: elem = O; atom = O2 + O3 + O4; type = PNe\n",
      "KB94_A8: elem = O; atom = O2 + O3; type = PNe\n",
      "KB94_A10: elem = O; atom = O2 + O3; type = PNe\n",
      "KB94_A10b: elem = O; atom = O2 + O3; type = PNe\n",
      "KB94_A12: elem = C; atom = C3 + C4; type = PNe\n",
      "KB94_A13.10: elem = C; atom = C3; type = PNe\n",
      "KB94_A13.10b: elem = C; atom = C3; type = PNe\n",
      "KB94_A16: elem = C; atom = C2 + C3 + C4; type = PNe\n",
      "KB94_A19: elem = C; atom = C2 + C3 + C4; type = PNe\n",
      "KB94_A21: elem = C; atom = C2 + C3 + C4; type = PNe\n",
      "KB94_A26: elem = C; atom = C2 + C3 + C4; type = PNe\n",
      "KB94_A27: elem = Ne; atom = Ne3 + Ne5; type = PNe\n",
      "KB94_A28.6: elem = Ne; atom = Ne3; type = PNe\n",
      "KB94_A28.8: elem = Ne; atom = Ne3; type = PNe\n",
      "KB94_A28.10: elem = Ne; atom = Ne3; type = PNe\n",
      "KB94_A28.10b: elem = Ne; atom = Ne3; type = PNe\n",
      "KB94_A30.0: elem = Ar; atom = Ar3 + Ar4 + Ar5; type = PNe\n",
      "KB94_A30.10: elem = Ar; atom = Ar3 + Ar4 + Ar5; type = PNe\n",
      "KB94_A30.10b: elem = Ar; atom = Ar3 + Ar4 + Ar5; type = PNe\n",
      "KB94_A32: elem = Ar; atom = Ar3; type = PNe\n",
      "KB94_A36.6: elem = S; atom = S2 + S3; type = PNe\n",
      "KB94_A36.8: elem = S; atom = S2 + S3; type = PNe\n",
      "KB94_A36.10: elem = S; atom = S2 + S3; type = PNe\n",
      "KB94_A36.10b: elem = S; atom = S2 + S3; type = PNe\n",
      "KH01_4a: elem = He; atom = He2 + He3; type = PNe\n",
      "KH01_4b: elem = O; atom = O2 + O3; type = PNe\n",
      "KH01_4c: elem = N; atom = N2; type = PNe\n",
      "KH01_4d: elem = Ne; atom = Ne3; type = PNe\n",
      "KH01_4e: elem = S; atom = S2 + S3; type = PNe\n",
      "KH01_4f: elem = Cl; atom = Cl3 + Cl4; type = PNe\n",
      "KH01_4g: elem = Ar; atom = Ar3 + Ar4; type = PNe\n",
      "KH01_4txt: elem = Ar; atom = Ar3; type = PNe\n",
      "Ial06_16: elem = O; atom = O2 + O3; type = HII\n",
      "Ial06_17: elem = O; atom = O2 + O3; type = HII\n",
      "PC69_40: elem = Ne; atom = Ne3; type = HII\n",
      "S78_265b: elem = Ne; atom = Ne3; type = HII\n",
      "RR05_2: elem = Fe; atom = Fe3; type = HII\n",
      "RR05_3: elem = Fe; atom = Fe3; type = All\n",
      "RR05_4: elem = Fe; atom = Fe2 + Fe3; type = All\n",
      "GKA07_1.p269: elem = Cl; atom = Cl3; type = PNe\n",
      "mGKA07-PTPR92_p269: elem = Cl; atom = Cl3; type = PNe\n",
      "DIMS14_10: elem = He; atom = He2 + He3; type = PNe\n",
      "DIMS14_12: elem = O; atom = O2 + O3; type = PNe\n",
      "DIMS14_14: elem = N; atom = N2; type = PNe\n",
      "DIMS14_14b: elem = N; atom = N2; type = PNe\n",
      "DIMS14_17a: elem = Ne; atom = Ne3; type = PNe\n",
      "DIMS14_17b: elem = Ne; atom = Ne3; type = PNe\n",
      "DIMS14_17c: elem = Ne; atom = Ne3; type = PNe\n",
      "DIMS14_20: elem = Ne; atom = Ne3+Ne5; type = PNe\n",
      "DIMS14_23: elem = S; atom = S2; type = PNe\n",
      "DIMS14_26: elem = S; atom = S2 + S3; type = PNe\n",
      "DIMS14_29: elem = Cl; atom = Cl3; type = PNe\n",
      "DIMS14_29b: elem = Cl; atom = Cl2 + Cl3; type = PNe\n",
      "DIMS14_32: elem = Cl; atom = Cl2 + Cl3 + Cl4; type = PNe\n",
      "DIMS14_35: elem = Ar; atom = Ar3; type = PNe\n",
      "DIMS14_36: elem = Ar; atom = Ar3; type = PNe\n",
      "DIMS14_39: elem = C; atom = C3; type = PNe\n",
      "Ial06_18a: elem = N; atom = N2; type = HII\n",
      "Ial06_18b: elem = N; atom = N2; type = HII\n",
      "Ial06_18c: elem = N; atom = N2; type = HII\n",
      "Ial06_19a: elem = Ne; atom = Ne3; type = HII\n",
      "Ial06_19b: elem = Ne; atom = Ne3; type = HII\n",
      "Ial06_19c: elem = Ne; atom = Ne3; type = HII\n",
      "Ial06_21a: elem = Cl; atom = Cl3; type = HII\n",
      "Ial06_21b: elem = Cl; atom = Cl3; type = HII\n",
      "Ial06_21c: elem = Cl; atom = Cl3; type = HII\n",
      "Ial06_22a: elem = Ar; atom = Ar3; type = HII\n",
      "Ial06_22b: elem = Ar; atom = Ar3; type = HII\n",
      "Ial06_22c: elem = Ar; atom = Ar3; type = HII\n",
      "Ial06_24a: elem = Fe; atom = Fe3; type = HII\n",
      "Ial06_24b: elem = Fe; atom = Fe3; type = HII\n",
      "Ial06_24c: elem = Fe; atom = Fe3; type = HII\n",
      "Ial06_20a: elem = S; atom = (S2 + S3); type = HII\n",
      "Ial06_20b: elem = S; atom = (S2 + S3); type = HII\n",
      "Ial06_20c: elem = S; atom = (S2 + S3); type = HII\n",
      "Ial06_23a: elem = Ar; atom = (Ar3 + Ar4); type = HII\n",
      "Ial06_23b: elem = Ar; atom = (Ar3 + Ar4); type = HII\n",
      "Ial06_23c: elem = Ar; atom = (Ar3 + Ar4); type = HII\n"
     ]
    }
   ],
   "source": [
    "# The name of the ICF is related to the paper and the equation in the paper. It is used to obtain an elemental abundance, from the sum of some ionic abundances.\n",
    "icf.printAllICFs()"
   ]
  },
  {
   "cell_type": "code",
   "execution_count": 17,
   "metadata": {},
   "outputs": [
    {
     "name": "stdout",
     "output_type": "stream",
     "text": [
      "direct {'ref': 'Direct determination by summing observed ions', 'url': ''}\n",
      "TPP77 {'ref': 'Torres-Peimbert and Peimbert 1977, RMAA, 2, 181', 'url': 'http://adsabs.harvard.edu/abs/1977RMxAA...2..181T'}\n",
      "PHCD07 {'ref': 'Perez-Montero, Haegele, Contini, and Diaz 2007, MNRAS, 381, 125', 'url': 'http://adsabs.harvard.edu/abs/2007MNRAS.381..125P'}\n",
      "KB94 {'ref': 'Kinsburgh & Barlow 1994, MNRAS, 271, 257', 'url': 'http://adsabs.harvard.edu/abs/1994MNRAS.271..257K'}\n",
      "KH01 {'ref': 'Kwitter & Henry 2001, ApJ, 562, 804', 'url': 'http://adsabs.harvard.edu/abs/2001ApJ...562..804K'}\n",
      "ITL94 {'ref': 'Izotov, Thuan & Lipovetsky 1994, ApJ, 435, 647', 'url': 'http://http://adsabs.harvard.edu/abs/1994ApJ...435..647I'}\n",
      "Ial06 {'ref': 'Izotov et al 2006, A&A, 448, 955', 'url': 'http://adsabs.harvard.edu/abs/2006A%26A...448..955I'}\n",
      "PC69 {'ref': 'Peimbert & Costero 1969, BOTT, 5, 3', 'url': 'http://adsabs.harvard.edu/abs/1969BOTT....5....3P'}\n",
      "S78 {'ref': 'Stasinska 1978, A&A, 66, 257', 'url': 'http://adsabs.harvard.edu/abs/1978A%26A....66..257S'}\n",
      "RR05 {'ref': 'Rodriguez & Rubin 2005, ApJ, 626, 900', 'url': 'http://adsabs.harvard.edu/abs/2005ApJ...626..900R'}\n",
      "GKA07 {'ref': 'Girard, Koeppen and Acker 2007, A&A, 463, 265', 'url': 'http://adsabs.harvard.edu/abs/2007A%26A...463..265G'}\n",
      "PTPR92 {'ref': 'Peimbert, Torres-Peimbert and Ruiz 1992, RMAA, 24, 155', 'url': 'http://adsabs.harvard.edu/abs/1992RMxAA..24..155P'}\n",
      "Sal07 {'ref': 'Sharpee et al 2007, MNRAS, 659, 1265', 'url': 'http://adsabs.harvard.edu/abs/2007ApJ...659.1265S'}\n",
      "DIMS14 {'ref': 'Delgado-Inglada, Morisset and Stasinska, 2014, MNRAS', 'url': 'http://arxiv.org/abs/1402.4852'}\n"
     ]
    }
   ],
   "source": [
    "# ICFs are from papers:\n",
    "for type_ in icf.all_icf_refs:\n",
    "    print(type_, icf.all_icf_refs[type_])"
   ]
  },
  {
   "cell_type": "code",
   "execution_count": 18,
   "metadata": {},
   "outputs": [
    {
     "data": {
      "text/plain": [
       "{'Ar': ['direct_Ar.23',\n",
       "  'direct_Ar.234',\n",
       "  'direct_Ar.345',\n",
       "  'PHCD07_16',\n",
       "  'PHCD07_17',\n",
       "  'ITL94_19',\n",
       "  'ITL94_20',\n",
       "  'Ial06_22a',\n",
       "  'Ial06_22b',\n",
       "  'Ial06_22c',\n",
       "  'Ial06_23a',\n",
       "  'Ial06_23b',\n",
       "  'Ial06_23c'],\n",
       " 'Cl': ['direct_Cl.23',\n",
       "  'direct_Cl.34',\n",
       "  'direct_Cl.234',\n",
       "  'Ial06_21a',\n",
       "  'Ial06_21b',\n",
       "  'Ial06_21c'],\n",
       " 'Fe': ['RR05_2', 'RR05_3', 'RR05_4', 'Ial06_24a', 'Ial06_24b', 'Ial06_24c'],\n",
       " 'He': ['direct_He.23', 'PTPR92_21'],\n",
       " 'Mg': ['direct_Mg.45'],\n",
       " 'N': ['direct_N.23',\n",
       "  'direct_N.234',\n",
       "  'direct_N.2345',\n",
       "  'Ial06_18a',\n",
       "  'Ial06_18b',\n",
       "  'Ial06_18c'],\n",
       " 'Ne': ['direct_Ne.23',\n",
       "  'direct_Ne.235',\n",
       "  'direct_Ne.2345',\n",
       "  'direct_Ne.345',\n",
       "  'direct_Ne.2356',\n",
       "  'PHCD07_12',\n",
       "  'PHCD07_13',\n",
       "  'PC69_40',\n",
       "  'S78_265b',\n",
       "  'Ial06_19a',\n",
       "  'Ial06_19b',\n",
       "  'Ial06_19c'],\n",
       " 'O': ['direct_O.23', 'direct_O.234', 'direct_O.2345', 'Ial06_16', 'Ial06_17'],\n",
       " 'S': ['direct_S.23',\n",
       "  'direct_S.234',\n",
       "  'direct_S.2345',\n",
       "  'Ial06_20a',\n",
       "  'Ial06_20b',\n",
       "  'Ial06_20c']}"
      ]
     },
     "execution_count": 18,
     "metadata": {},
     "output_type": "execute_result"
    }
   ],
   "source": [
    "# And they apply to different regions: HII, PNe, both.\n",
    "icf.getAvailableICFs(type_= ('HII', 'All'))"
   ]
  },
  {
   "cell_type": "code",
   "execution_count": 19,
   "metadata": {},
   "outputs": [],
   "source": [
    "# Some ICFs requiere the He ionic fracions. In lack of HeII line, we put He++ abundance to a very low value\n",
    "ab_dic['He1r'] = 0.1\n",
    "ab_dic['He2r'] = 0.00001\n",
    "# Computing the elemental abundances from all ICF rules.\n",
    "\n",
    "# The following computes the elemental abundances from the rules.\n",
    "\n",
    "def pretty_print_icf(icf=None, icf_family='direct'):\n",
    "    if icf is None:\n",
    "        icf = pn.ICF()\n",
    "    elem_abun = icf.getElemAbundance(ab_dic, icf_family=icf_family)\n",
    "    printRule = True\n",
    "    for icf_ref in np.sort(list(elem_abun.keys())):\n",
    "        if np.isfinite(elem_abun[icf_ref]) and np.log10(elem_abun[icf_ref]).all() > -10:\n",
    "            if printRule:\n",
    "                print('{0:12s} {1:2s} = {3:5.2f} using {2}'.format(icf_ref, \n",
    "                                                  icf.all_icfs[icf_ref]['elem'],\n",
    "                                                  icf.getExpression(icf_ref), \n",
    "                                                  np.log10(elem_abun[icf_ref])+12))\n",
    "            else:\n",
    "                print('{0:12s} {1}={2:.3}'.format(icf_ref, \n",
    "                                                  icf.all_icfs[icf_ref]['elem'],\n",
    "                                                  np.log10(elem_abun[icf_ref])+12))\n"
   ]
  },
  {
   "cell_type": "code",
   "execution_count": 20,
   "metadata": {},
   "outputs": [
    {
     "name": "stdout",
     "output_type": "stream",
     "text": [
      "direct_He.23 He = 11.00 using He = He2 + He3\n",
      "direct_Ne.23 Ne =  7.25 using Ne = Ne2 + Ne3\n",
      "direct_O.23  O  =  8.00 using O = O2 + O3\n",
      "direct_S.23  S  =  5.82 using S = S2 + S3\n"
     ]
    }
   ],
   "source": [
    "pretty_print_icf()"
   ]
  },
  {
   "cell_type": "code",
   "execution_count": 21,
   "metadata": {},
   "outputs": [
    {
     "name": "stdout",
     "output_type": "stream",
     "text": [
      "PHCD07_12    Ne =  7.18 using Ne = (Ne3) * (O2 + O3) / O3\n",
      "PHCD07_13    Ne =  7.13 using Ne = (Ne3) * (0.753 + 0.142 * O3 / (O2 + O3) + 0.171 / O3 * (O2 + O3))\n",
      "PHCD07_17    Ar =  5.36 using Ar = (Ar3) * (0.596 + 0.967 * (1 - O3 / (O2 + O3)) + 0.077 / (1 - O3 / (O2 + O3)))\n"
     ]
    }
   ],
   "source": [
    "pretty_print_icf(icf, 'PHCD07')"
   ]
  },
  {
   "cell_type": "code",
   "execution_count": 22,
   "metadata": {},
   "outputs": [
    {
     "name": "stdout",
     "output_type": "stream",
     "text": [
      "Ial06_16     O  =  8.00 using O = O2 + O3\n",
      "Ial06_17     O  =  8.00 using O = (O2 + O3) * 1 + 0.5 * He3 / (He2 + He3)\n",
      "Ial06_18a    N  =  7.03 using N = (N2) * (-0.825 * O2 / (O2 + O3) + 0.718 + 0.853 * (O2 + O3) / O2)\n",
      "Ial06_18b    N  =  7.03 using N = (N2) * (-0.809 * O2 / (O2 + O3) + 0.712 + 0.852 * (O2 + O3) / O2)\n",
      "Ial06_18c    N  =  7.03 using N = (N2) * (-1.476 * O2 / (O2 + O3) + 1.752 + 0.688 * (O2 + O3) / O2)\n",
      "Ial06_19a    Ne =  7.13 using Ne = (Ne3) * (-0.385 * O3 / (O2 + O3) + 1.365 + 0.022 * (O2 + O3) / O3)\n",
      "Ial06_19b    Ne =  7.13 using Ne = (Ne3) * (-0.405 * O3 / (O2 + O3) + 1.382 + 0.021 * (O2 + O3) / O3)\n",
      "Ial06_19c    Ne =  7.14 using Ne = (Ne3) * (-0.591 * O3 / (O2 + O3) + 0.927 + 0.546 * (O2 + O3) / O3)\n",
      "Ial06_20a    S  =  5.99 using S = ((S2 + S3)) * (0.121 * O2 / (O2 + O3) + 0.511 + 0.161 * (O2 + O3) / O2)\n",
      "Ial06_20b    S  =  5.91 using S = ((S2 + S3)) * (0.155 * O2 / (O2 + O3) + 0.849 + 0.062 * (O2 + O3) / O2)\n",
      "Ial06_20c    S  =  6.01 using S = ((S2 + S3)) * (0.178 * O2 / (O2 + O3) + 0.61 + 0.153 * (O2 + O3) / O2)\n",
      "Ial06_22a    Ar =  5.48 using Ar = (Ar3) * (0.278 * O2 / (O2 + O3) + 0.836 + 0.121 * (O2 + O3) / O2)\n",
      "Ial06_22b    Ar =  5.35 using Ar = (Ar3) * (0.285 * O2 / (O2 + O3) + 0.833 + 0.051 * (O2 + O3) / O2)\n",
      "Ial06_22c    Ar =  5.31 using Ar = (Ar3) * (0.517 * O2 / (O2 + O3) + 0.763 + 0.042 * (O2 + O3) / O2)\n"
     ]
    }
   ],
   "source": [
    "pretty_print_icf(icf, 'Ial06')"
   ]
  },
  {
   "cell_type": "markdown",
   "metadata": {},
   "source": [
    "### !!! the following ones are for PNe !!!"
   ]
  },
  {
   "cell_type": "code",
   "execution_count": 23,
   "metadata": {},
   "outputs": [
    {
     "name": "stdout",
     "output_type": "stream",
     "text": [
      "KB94_A1.10   N  =  7.06 using N = (N2) * KB94_A10  / O2\n",
      "KB94_A1.10b  N  =  7.06 using N = (N2) * KB94_A10b  / O2\n",
      "KB94_A10     O  =  8.00 using O = (O2 + O3) * ((He2 + He3) / He2)**(2./3.)\n",
      "KB94_A10b    O  =  8.00 using O = O2 + O3\n",
      "KB94_A28.10  Ne =  7.18 using Ne = (Ne3) * KB94_A10  / O3\n",
      "KB94_A28.10b Ne =  7.18 using Ne = (Ne3) * KB94_A10b  / O3\n",
      "KB94_A32     Ar =  5.54 using Ar = (Ar3) * 1.87\n",
      "KB94_A36.10  S  =  5.94 using S = (S2 + S3) *  (1-(1 - O2/KB94_A10)**3)**(-1./3.)\n",
      "KB94_A36.10b S  =  5.94 using S = (S2 + S3) *  (1-(1 - O2/KB94_A10b)**3)**(-1./3.)\n"
     ]
    }
   ],
   "source": [
    "pretty_print_icf(icf, 'KB94')"
   ]
  },
  {
   "cell_type": "markdown",
   "metadata": {},
   "source": [
    "## Monte Carlo"
   ]
  },
  {
   "cell_type": "code",
   "execution_count": 24,
   "metadata": {},
   "outputs": [],
   "source": [
    "np.random.seed(42)\n",
    "N_MC = 5000 # Take care, 500 needs more then 5 minutes to compute\n",
    "#pn.config.use_multiprocs() # This does not work well from within a Notebooks. But in scripts from termiinal it seems OK.\n",
    "obs = pn.Observation('observations1.dat', fileFormat='lines_in_rows_err_cols', corrected=False)\n",
    "obs.addMonteCarloObs(N_MC)\n",
    "obs.extinction.law = 'CCM89'  # define the extinction law from Cardelli et al.\n",
    "obs.def_EBV(label1=\"H1r_6563A\", label2=\"H1r_4861A\", r_theo=2.85) # Compute the redenning correction\n",
    "obs.correctData(normWave=4861)"
   ]
  },
  {
   "cell_type": "code",
   "execution_count": 25,
   "metadata": {},
   "outputs": [
    {
     "data": {
      "text/plain": [
       "array(['S4_10.5m', 'Ne2_12.8m', 'Ne3_15.6m', 'S3_18.7m', 'O2_3726A',\n",
       "       'O2_3729A', 'Ne3_3869A', 'Ne3_3968A', 'S2_4069A', 'S2_4076A',\n",
       "       'O3_4363A', 'H1r_4861A', 'O3_5007A', 'N2_5755A', 'S3_6312A',\n",
       "       'O1_6300A', 'O1_6364A', 'N2_6548A', 'H1r_6563A', 'N2_6584A',\n",
       "       'S2_6716A', 'S2_6731A', 'Ar3_7136A', 'O2_7319A+', 'O2_7330A+'],\n",
       "      dtype='<U9')"
      ]
     },
     "execution_count": 25,
     "metadata": {},
     "output_type": "execute_result"
    }
   ],
   "source": [
    "obs.lineLabels"
   ]
  },
  {
   "cell_type": "code",
   "execution_count": 26,
   "metadata": {},
   "outputs": [
    {
     "data": {
      "text/plain": [
       "array([0.27875894, 0.21096549, 0.25662566, 0.30490549, 0.25465721,\n",
       "       0.3598357 , 0.29216664, 0.26074655, 0.18492563, 0.24291375])"
      ]
     },
     "execution_count": 26,
     "metadata": {},
     "output_type": "execute_result"
    }
   ],
   "source": [
    "obs.extinction.cHbeta[0:10]"
   ]
  },
  {
   "cell_type": "code",
   "execution_count": 27,
   "metadata": {},
   "outputs": [
    {
     "data": {
      "image/png": "[encoded data removed]",
      "text/plain": [
       "<Figure size 432x288 with 1 Axes>"
      ]
     },
     "metadata": {
      "needs_background": "light"
     },
     "output_type": "display_data"
    }
   ],
   "source": [
    "f, ax = plt.subplots()\n",
    "ax.hist(obs.getIntens(returnObs=True)['O3_5007A'], bins=np.linspace(360, 500, 100), label='Observed');\n",
    "ax.hist(obs.getIntens()['O3_5007A'], bins=np.linspace(360, 500, 100), alpha=0.5,label='Deredenned')\n",
    "ax.legend();"
   ]
  },
  {
   "cell_type": "code",
   "execution_count": 28,
   "metadata": {},
   "outputs": [
    {
     "name": "stdout",
     "output_type": "stream",
     "text": [
      "warng Observation: No line for O2_3727A+ from NoneNone at wavelength None (blend=False)\n"
     ]
    }
   ],
   "source": [
    "diags = pn.Diagnostics()\n",
    "diags.addDiagsFromObs(obs)"
   ]
  },
  {
   "cell_type": "code",
   "execution_count": 29,
   "metadata": {},
   "outputs": [
    {
     "name": "stderr",
     "output_type": "stream",
     "text": [
      "/Users/christophemorisset/Google Drive/Pro/PyNeb_devel/pyneb/core/diags.py:833: RuntimeWarning: invalid value encountered in greater\n",
      "  no_conv = ((abs(den_old - den) / den * 100) > tol_den) | ((abs(tem_old - tem) / tem * 100) > tol_tem)\n"
     ]
    },
    {
     "name": "stdout",
     "output_type": "stream",
     "text": [
      "   None: End in 260.869656085968\n"
     ]
    }
   ],
   "source": [
    "pn.log_.timer('Start', quiet=True, calling='Computing Te Ne')\n",
    "T_O3, dens_S2 = diags.getCrossTemDen(diag_tem='[OIII] 4363/5007', diag_den='[SII] 6731/6716', obs=obs)\n",
    "T_N2, dens_O2 = diags.getCrossTemDen(diag_tem='[NII] 5755/6584', diag_den='[OII] 3726/3729', obs=obs)\n",
    "pn.log_.timer('End')"
   ]
  },
  {
   "cell_type": "code",
   "execution_count": 30,
   "metadata": {},
   "outputs": [
    {
     "name": "stderr",
     "output_type": "stream",
     "text": [
      "/Users/christophemorisset/anaconda3/lib/python3.7/site-packages/ipykernel_launcher.py:1: RuntimeWarning: Mean of empty slice\n",
      "  \"\"\"Entry point for launching an IPython kernel.\n"
     ]
    }
   ],
   "source": [
    "dens = np.nanmean(np.array((dens_S2, dens_O2)), axis=0)"
   ]
  },
  {
   "cell_type": "code",
   "execution_count": 31,
   "metadata": {},
   "outputs": [
    {
     "name": "stderr",
     "output_type": "stream",
     "text": [
      "/Users/christophemorisset/anaconda3/lib/python3.7/site-packages/numpy/lib/histograms.py:839: RuntimeWarning: invalid value encountered in greater_equal\n",
      "  keep = (tmp_a >= first_edge)\n",
      "/Users/christophemorisset/anaconda3/lib/python3.7/site-packages/numpy/lib/histograms.py:840: RuntimeWarning: invalid value encountered in less_equal\n",
      "  keep &= (tmp_a <= last_edge)\n"
     ]
    },
    {
     "data": {
      "image/png": "[encoded data removed]",
      "text/plain": [
       "<Figure size 432x288 with 1 Axes>"
      ]
     },
     "metadata": {
      "needs_background": "light"
     },
     "output_type": "display_data"
    }
   ],
   "source": [
    "f, ax = plt.subplots()\n",
    "ax.hist(T_O3, bins=100);"
   ]
  },
  {
   "cell_type": "markdown",
   "metadata": {},
   "source": [
    "## A very experimental way to determine Te and Ne is using a Neural Network. It is still in development, but very promising. Contact me if you have huge number of data to deal with."
   ]
  },
  {
   "cell_type": "code",
   "execution_count": 32,
   "metadata": {},
   "outputs": [],
   "source": [
    "try:\n",
    "    from ai4neb import manage_RM\n",
    "except:\n",
    "    !pip install -U git+https://github.com/morisset/AI4neb.git\n",
    "    from ai4neb import manage_RM"
   ]
  },
  {
   "cell_type": "code",
   "execution_count": 33,
   "metadata": {},
   "outputs": [],
   "source": [
    "# This transmits the random seed to the ANN\n",
    "diags.ANN_inst_kwargs['random_seed'] = 42"
   ]
  },
  {
   "cell_type": "code",
   "execution_count": 34,
   "metadata": {},
   "outputs": [],
   "source": [
    "pn.atomicData.resetDataFileDict()"
   ]
  },
  {
   "cell_type": "code",
   "execution_count": 35,
   "metadata": {},
   "outputs": [
    {
     "name": "stderr",
     "output_type": "stream",
     "text": [
      "/Users/christophemorisset/anaconda3/lib/python3.7/site-packages/sklearn/neural_network/_multilayer_perceptron.py:470: ConvergenceWarning: lbfgs failed to converge (status=1):\n",
      "STOP: TOTAL NO. of f AND g EVALUATIONS EXCEEDS LIMIT.\n",
      "\n",
      "Increase the number of iterations (max_iter) or scale the data as shown in:\n",
      "    https://scikit-learn.org/stable/modules/preprocessing.html\n",
      "  self.n_iter_ = _check_optimize_result(\"lbfgs\", opt_res, self.max_iter)\n"
     ]
    },
    {
     "name": "stdout",
     "output_type": "stream",
     "text": [
      "   None: End in 21.26448893547058\n"
     ]
    }
   ],
   "source": [
    "pn.log_.timer('Start', quiet=True, calling='Computing Te Ne with ANN')\n",
    "T_O3ANN, dens_S2ANN = diags.getCrossTemDen(diag_tem='[OIII] 4363/5007', diag_den='[SII] 6731/6716', obs=obs, \n",
    "                                           use_ANN=True, limit_res=True, start_tem=3e3, end_den=1e6)\n",
    "T_N2ANN, dens_O2ANN = diags.getCrossTemDen(diag_tem='[NII] 5755/6584', diag_den='[OII] 3726/3729', obs=obs, \n",
    "                                           use_ANN=True, limit_res=True, start_tem=3e3, end_den=1e6)\n",
    "pn.log_.timer('End')"
   ]
  },
  {
   "cell_type": "code",
   "execution_count": 36,
   "metadata": {},
   "outputs": [
    {
     "name": "stderr",
     "output_type": "stream",
     "text": [
      "/Users/christophemorisset/anaconda3/lib/python3.7/site-packages/ipykernel_launcher.py:1: RuntimeWarning: Mean of empty slice\n",
      "  \"\"\"Entry point for launching an IPython kernel.\n"
     ]
    }
   ],
   "source": [
    "densANN = np.nanmean(np.array((dens_S2ANN, dens_O2ANN)), axis=0)"
   ]
  },
  {
   "cell_type": "code",
   "execution_count": 37,
   "metadata": {},
   "outputs": [
    {
     "name": "stderr",
     "output_type": "stream",
     "text": [
      "/Users/christophemorisset/anaconda3/lib/python3.7/site-packages/numpy/lib/histograms.py:839: RuntimeWarning: invalid value encountered in greater_equal\n",
      "  keep = (tmp_a >= first_edge)\n",
      "/Users/christophemorisset/anaconda3/lib/python3.7/site-packages/numpy/lib/histograms.py:840: RuntimeWarning: invalid value encountered in less_equal\n",
      "  keep &= (tmp_a <= last_edge)\n"
     ]
    },
    {
     "data": {
      "image/png": "[encoded data removed]",
      "text/plain": [
       "<Figure size 432x288 with 1 Axes>"
      ]
     },
     "metadata": {
      "needs_background": "light"
     },
     "output_type": "display_data"
    }
   ],
   "source": [
    "f, ax = plt.subplots()\n",
    "ax.hist(T_O3, bins=100, label='direct')\n",
    "ax.hist(T_O3ANN, bins=100, alpha=0.3, label='ANN')\n",
    "ax.legend();"
   ]
  },
  {
   "cell_type": "code",
   "execution_count": 38,
   "metadata": {},
   "outputs": [
    {
     "data": {
      "image/png": "[encoded data removed]",
      "text/plain": [
       "<Figure size 432x288 with 1 Axes>"
      ]
     },
     "metadata": {
      "needs_background": "light"
     },
     "output_type": "display_data"
    }
   ],
   "source": [
    "f, ax = plt.subplots()\n",
    "ax.hist(T_N2, bins=100, label='direct')\n",
    "ax.hist(T_N2ANN, bins=100, alpha=0.3, label='ANN')\n",
    "ax.legend();"
   ]
  },
  {
   "cell_type": "code",
   "execution_count": 39,
   "metadata": {},
   "outputs": [
    {
     "name": "stdout",
     "output_type": "stream",
     "text": [
      "T[NII]      = 12102 +/- 1260\n",
      "T[NII]  ANN = 12124 +/- 1255\n",
      "T[OIII]     = 11873 +/- 723\n",
      "T[OIII] ANN = 11862 +/- 793\n"
     ]
    }
   ],
   "source": [
    "print('T[NII]      = {:.0f} +/- {:.0f}'.format(np.nanmedian(T_N2), np.nanstd(T_N2)))\n",
    "print('T[NII]  ANN = {:.0f} +/- {:.0f}'.format(np.nanmedian(T_N2ANN), np.nanstd(T_N2ANN)))\n",
    "print('T[OIII]     = {:.0f} +/- {:.0f}'.format(np.nanmedian(T_O3), np.nanstd(T_O3)))\n",
    "print('T[OIII] ANN = {:.0f} +/- {:.0f}'.format(np.nanmedian(T_O3ANN), np.nanstd(T_O3ANN)))"
   ]
  },
  {
   "cell_type": "code",
   "execution_count": 40,
   "metadata": {},
   "outputs": [
    {
     "name": "stderr",
     "output_type": "stream",
     "text": [
      "/Users/christophemorisset/Google Drive/Pro/PyNeb_devel/pyneb/core/pynebcore.py:3591: RuntimeWarning: invalid value encountered in less\n",
      "  tt = (logd < log_dens_min)\n",
      "/Users/christophemorisset/Google Drive/Pro/PyNeb_devel/pyneb/core/pynebcore.py:3597: RuntimeWarning: invalid value encountered in greater\n",
      "  tt = (logd > log_dens_max)\n",
      "/Users/christophemorisset/Google Drive/Pro/PyNeb_devel/pyneb/core/pynebcore.py:3606: RuntimeWarning: invalid value encountered in less\n",
      "  if (temg < temp_min).sum() != 0 and self.extrapolate:\n"
     ]
    }
   ],
   "source": [
    "# define a dictionary for the ionic abundances\n",
    "ab_dic = {}\n",
    "ab_dicANN = {}\n",
    "# we  use the following lines to determine the ionic abundances\n",
    "ab_labels = ['N2_6584A', 'N3_57.4m', 'N4_1487A', \n",
    "             'O2_3726A', 'O2_3729A', 'O3_5007A', 'O4_25.9m',\n",
    "             'Ne2_12.8m', 'Ne3_3869A', \n",
    "             'S2_6716A', 'S2_6731A','S3_6312A',\n",
    "             'Ar3_7136A']\n",
    "IP_cut = 30. \n",
    "# loop on the observed lines to determine the corresponding ionic abundances\n",
    "for line in obs.getSortedLines():\n",
    "    # this is one way to define temp and dens in each zone\n",
    "    # must be adapted to each case\n",
    "    if (line.atom in all_atoms) and (line.label in ab_labels):\n",
    "        if all_atoms[line.atom].IP > IP_cut:\n",
    "            temp = T_O3\n",
    "            tempANN = T_O3ANN\n",
    "            IP_used = 'H'\n",
    "        else:\n",
    "            temp = T_N2\n",
    "            tempANN = T_N2ANN\n",
    "            IP_used = 'L'                 \n",
    "        ab = all_atoms[line.atom].getIonAbundance(line.corrIntens, temp, dens, \n",
    "                                                  to_eval=line.to_eval, \n",
    "                                                  Hbeta=100)\n",
    "        abANN = all_atoms[line.atom].getIonAbundance(line.corrIntens, tempANN, densANN, \n",
    "                                                  to_eval=line.to_eval, \n",
    "                                                  Hbeta=100)\n",
    "        # More than one abundance per ion can be obtained:\n",
    "        if line.atom not in ab_dic:\n",
    "            ab_dic[line.atom] = []\n",
    "        if line.atom not in ab_dicANN:\n",
    "            ab_dicANN[line.atom] = []\n",
    "        ab_dic[line.atom].append(ab)\n",
    "        ab_dicANN[line.atom].append(abANN)"
   ]
  },
  {
   "cell_type": "code",
   "execution_count": 41,
   "metadata": {},
   "outputs": [
    {
     "data": {
      "text/plain": [
       "2"
      ]
     },
     "execution_count": 41,
     "metadata": {},
     "output_type": "execute_result"
    }
   ],
   "source": [
    "len(ab_dic['S2'])"
   ]
  },
  {
   "cell_type": "code",
   "execution_count": 42,
   "metadata": {},
   "outputs": [
    {
     "name": "stdout",
     "output_type": "stream",
     "text": [
      "[-6.93934491 -6.96760932]\n",
      "[-6.93542577 -6.96733804]\n"
     ]
    }
   ],
   "source": [
    "print(np.nanmedian(np.log10(ab_dic['S2']), axis=1))\n",
    "print(np.nanmedian(np.log10(ab_dicANN['S2']), axis=1))"
   ]
  },
  {
   "cell_type": "code",
   "execution_count": 43,
   "metadata": {},
   "outputs": [
    {
     "name": "stderr",
     "output_type": "stream",
     "text": [
      "/Users/christophemorisset/anaconda3/lib/python3.7/site-packages/numpy/lib/nanfunctions.py:1116: RuntimeWarning: All-NaN slice encountered\n",
      "  overwrite_input=overwrite_input)\n"
     ]
    }
   ],
   "source": [
    "for ion in ab_dic:\n",
    "    ab_dic[ion] = np.nanmedian(ab_dic[ion], axis=0)\n",
    "for ion in ab_dicANN:\n",
    "    ab_dicANN[ion] = np.nanmedian(ab_dicANN[ion], axis=0)"
   ]
  },
  {
   "cell_type": "code",
   "execution_count": 44,
   "metadata": {},
   "outputs": [],
   "source": [
    "ab_dic['He1r'] = 0.1 * np.ones_like(ab_dic['O2']) + np.random.randn(N_MC+1) * 0.005\n",
    "ab_dic['He2r'] = 0.00001 * np.ones_like(ab_dic['O2'])\n",
    "ab_dicANN['He1r'] = 0.1 * np.ones_like(ab_dicANN['O2']) + np.random.randn(N_MC+1) * 0.005\n",
    "ab_dicANN['He2r'] = 0.00001 * np.ones_like(ab_dicANN['O2'])"
   ]
  },
  {
   "cell_type": "code",
   "execution_count": 45,
   "metadata": {},
   "outputs": [],
   "source": [
    "icf = pn.ICF()"
   ]
  },
  {
   "cell_type": "code",
   "execution_count": 46,
   "metadata": {},
   "outputs": [],
   "source": [
    "elem_abun = icf.getElemAbundance(ab_dic, icf_family='Ial06', use_MC=True)\n",
    "elem_abunANN = icf.getElemAbundance(ab_dicANN, icf_family='Ial06', use_MC=True)"
   ]
  },
  {
   "cell_type": "code",
   "execution_count": 47,
   "metadata": {},
   "outputs": [],
   "source": [
    "from pyneb.utils.misc import get_reduced_dic"
   ]
  },
  {
   "cell_type": "code",
   "execution_count": 60,
   "metadata": {},
   "outputs": [
    {
     "name": "stdout",
     "output_type": "stream",
     "text": [
      "Help on function get_reduced_dic in module pyneb.utils.misc:\n",
      "\n",
      "get_reduced_dic(N_rand, n_obs_ori, dic, value_method='original', error_method='std', abund12=False)\n",
      "    This function returns a dictionary of values (ionic or atomic abundances, temp...) and errors.\n",
      "    It takes as argument a dictionary that is supposed to contains n_obs_ori values from\n",
      "        the original observations, followed (optionaly) by N_rand*n_obs_ori MonteCarlo values.\n",
      "    The new values are computed by returning the original value (default), the mean or the median, \n",
      "        depending on \"value_method\"\n",
      "    The errors are computed by 68% quantiles or standart deviation (Default), depending on on \"error_method\"\n",
      "    \n",
      "    It also transforms the abundances by number into 12+log10(abundances by number)\n",
      "\n"
     ]
    }
   ],
   "source": [
    "help(get_reduced_dic)"
   ]
  },
  {
   "cell_type": "code",
   "execution_count": 61,
   "metadata": {},
   "outputs": [],
   "source": [
    "elem_abun2 = get_reduced_dic(N_MC, obs.n_obs_origin, elem_abun, value_method='median', error_method='quants', abund12=True)   \n",
    "elem_abun2ANN = get_reduced_dic(N_MC, obs.n_obs_origin, elem_abunANN, value_method='median', error_method='quants', abund12=True)    "
   ]
  },
  {
   "cell_type": "code",
   "execution_count": 65,
   "metadata": {},
   "outputs": [
    {
     "name": "stdout",
     "output_type": "stream",
     "text": [
      "  Ial06_16   O  = 8.050 +/- 0.08 using O = O2 + O3\n",
      "ANNIal06_16   O  = 8.052 +/- 0.08 using O = O2 + O3\n",
      "  Ial06_17   O  = 8.050 +/- 0.08 using O = (O2 + O3) * 1 + 0.5 * He3 / (He2 + He3)\n",
      "ANNIal06_17   O  = 8.052 +/- 0.08 using O = (O2 + O3) * 1 + 0.5 * He3 / (He2 + He3)\n",
      "  Ial06_18a  N  = 6.970 +/- 0.09 using N = (N2) * (-0.825 * O2 / (O2 + O3) + 0.718 + 0.853 * (O2 + O3) / O2)\n",
      "ANNIal06_18a  N  = 6.968 +/- 0.10 using N = (N2) * (-0.825 * O2 / (O2 + O3) + 0.718 + 0.853 * (O2 + O3) / O2)\n",
      "  Ial06_18b  N  = 6.969 +/- 0.09 using N = (N2) * (-0.809 * O2 / (O2 + O3) + 0.712 + 0.852 * (O2 + O3) / O2)\n",
      "ANNIal06_18b  N  = 6.968 +/- 0.10 using N = (N2) * (-0.809 * O2 / (O2 + O3) + 0.712 + 0.852 * (O2 + O3) / O2)\n",
      "  Ial06_18c  N  = 6.987 +/- 0.08 using N = (N2) * (-1.476 * O2 / (O2 + O3) + 1.752 + 0.688 * (O2 + O3) / O2)\n",
      "ANNIal06_18c  N  = 6.985 +/- 0.09 using N = (N2) * (-1.476 * O2 / (O2 + O3) + 1.752 + 0.688 * (O2 + O3) / O2)\n",
      "  Ial06_19a  Ne = 7.149 +/- 0.07 using Ne = (Ne3) * (-0.385 * O3 / (O2 + O3) + 1.365 + 0.022 * (O2 + O3) / O3)\n",
      "ANNIal06_19a  Ne = 7.151 +/- 0.07 using Ne = (Ne3) * (-0.385 * O3 / (O2 + O3) + 1.365 + 0.022 * (O2 + O3) / O3)\n",
      "  Ial06_19b  Ne = 7.149 +/- 0.07 using Ne = (Ne3) * (-0.405 * O3 / (O2 + O3) + 1.382 + 0.021 * (O2 + O3) / O3)\n",
      "ANNIal06_19b  Ne = 7.151 +/- 0.07 using Ne = (Ne3) * (-0.405 * O3 / (O2 + O3) + 1.382 + 0.021 * (O2 + O3) / O3)\n",
      "  Ial06_19c  Ne = 7.185 +/- 0.08 using Ne = (Ne3) * (-0.591 * O3 / (O2 + O3) + 0.927 + 0.546 * (O2 + O3) / O3)\n",
      "ANNIal06_19c  Ne = 7.188 +/- 0.08 using Ne = (Ne3) * (-0.591 * O3 / (O2 + O3) + 0.927 + 0.546 * (O2 + O3) / O3)\n",
      "  Ial06_20a  S  = 5.992 +/- 0.11 using S = ((S2 + S3)) * (0.121 * O2 / (O2 + O3) + 0.511 + 0.161 * (O2 + O3) / O2)\n",
      "ANNIal06_20a  S  = 5.990 +/- 0.11 using S = ((S2 + S3)) * (0.121 * O2 / (O2 + O3) + 0.511 + 0.161 * (O2 + O3) / O2)\n",
      "  Ial06_20b  S  = 5.954 +/- 0.14 using S = ((S2 + S3)) * (0.155 * O2 / (O2 + O3) + 0.849 + 0.062 * (O2 + O3) / O2)\n",
      "ANNIal06_20b  S  = 5.953 +/- 0.14 using S = ((S2 + S3)) * (0.155 * O2 / (O2 + O3) + 0.849 + 0.062 * (O2 + O3) / O2)\n",
      "  Ial06_20c  S  = 6.018 +/- 0.12 using S = ((S2 + S3)) * (0.178 * O2 / (O2 + O3) + 0.61 + 0.153 * (O2 + O3) / O2)\n",
      "ANNIal06_20c  S  = 6.015 +/- 0.11 using S = ((S2 + S3)) * (0.178 * O2 / (O2 + O3) + 0.61 + 0.153 * (O2 + O3) / O2)\n",
      "  Ial06_22a  Ar = 5.488 +/- 0.10 using Ar = (Ar3) * (0.278 * O2 / (O2 + O3) + 0.836 + 0.121 * (O2 + O3) / O2)\n",
      "ANNIal06_22a  Ar = 5.483 +/- 0.10 using Ar = (Ar3) * (0.278 * O2 / (O2 + O3) + 0.836 + 0.121 * (O2 + O3) / O2)\n",
      "  Ial06_22b  Ar = 5.377 +/- 0.11 using Ar = (Ar3) * (0.285 * O2 / (O2 + O3) + 0.833 + 0.051 * (O2 + O3) / O2)\n",
      "ANNIal06_22b  Ar = 5.373 +/- 0.10 using Ar = (Ar3) * (0.285 * O2 / (O2 + O3) + 0.833 + 0.051 * (O2 + O3) / O2)\n",
      "  Ial06_22c  Ar = 5.355 +/- 0.11 using Ar = (Ar3) * (0.517 * O2 / (O2 + O3) + 0.763 + 0.042 * (O2 + O3) / O2)\n",
      "ANNIal06_22c  Ar = 5.352 +/- 0.11 using Ar = (Ar3) * (0.517 * O2 / (O2 + O3) + 0.763 + 0.042 * (O2 + O3) / O2)\n"
     ]
    }
   ],
   "source": [
    "for icf_ref in np.sort(list(elem_abun2.keys())):\n",
    "    if icf_ref[-1] != 'e':\n",
    "        if np.log10(elem_abun2[icf_ref]) > -10:\n",
    "            value = elem_abun2[icf_ref][0]\n",
    "            err = elem_abun2[icf_ref+'_e'][0]\n",
    "            print('  {:10s} {:2s} = {:4.3f} +/- {:4.2f} using {}'.format(icf_ref, \n",
    "                                              icf.all_icfs[icf_ref]['elem'],\n",
    "                                                value,\n",
    "                                                err      ,    \n",
    "                                              icf.getExpression(icf_ref), \n",
    "                                              ))\n",
    "            value = elem_abun2ANN[icf_ref][0]\n",
    "            err = elem_abun2ANN[icf_ref+'_e'][0]\n",
    "            print('ANN{:10s} {:2s} = {:4.3f} +/- {:4.2f} using {}'.format(icf_ref, \n",
    "                                              icf.all_icfs[icf_ref]['elem'],\n",
    "                                                value,\n",
    "                                                err      ,    \n",
    "                                              icf.getExpression(icf_ref), \n",
    "                                              ))\n"
   ]
  },
  {
   "cell_type": "markdown",
   "metadata": {},
   "source": [
    "## Atomic data can be changed to see the effects on determining the abundances"
   ]
  },
  {
   "cell_type": "code",
   "execution_count": 51,
   "metadata": {},
   "outputs": [],
   "source": [
    "pn.atomicData.setDataFile('o_iii_coll_MBZ20.dat')\n",
    "pn.atomicData.setDataFile('n_ii_coll_MBZ20.dat')\n",
    "diags2 = pn.Diagnostics()\n",
    "diags2.addDiagsFromObs(obs)\n",
    "# This transmits the random seed to the ANN\n",
    "diags2.ANN_inst_kwargs['random_seed'] = 42\n",
    "T_O3ANN2, dens_S2ANN2 = diags2.getCrossTemDen(diag_tem='[OIII] 4363/5007', diag_den='[SII] 6731/6716', obs=obs, \n",
    "                                           use_ANN=True, limit_res=True, start_tem=3e3, end_den=1e6)\n",
    "T_N2ANN2, dens_O2ANN2 = diags2.getCrossTemDen(diag_tem='[NII] 5755/6584', diag_den='[OII] 3726/3729', obs=obs, \n",
    "                                           use_ANN=True, limit_res=True, start_tem=3e3, end_den=1e6)\n",
    "densANN2 = np.nanmean(np.array((dens_S2ANN2, dens_O2ANN2)), axis=0)"
   ]
  },
  {
   "cell_type": "code",
   "execution_count": 68,
   "metadata": {},
   "outputs": [
    {
     "name": "stdout",
     "output_type": "stream",
     "text": [
      "    Te[NII] = 12160 +/- 1255, Te[OIII] = 11862 +/- 793\n",
      "Mao Te[NII] = 11201 +/- 1078, Te[OIII] = 12691 +/- 1383\n",
      "\n",
      "   Ial06_16   O  = 8.05 +/- 0.08 using O = O2 + O3\n",
      "Mao Ial06_16   O  = 8.04 +/- 0.11 using O = O2 + O3\n",
      "   Ial06_17   O  = 8.05 +/- 0.08 using O = (O2 + O3) * 1 + 0.5 * He3 / (He2 + He3)\n",
      "Mao Ial06_17   O  = 8.04 +/- 0.11 using O = (O2 + O3) * 1 + 0.5 * He3 / (He2 + He3)\n",
      "   Ial06_18a  N  = 6.97 +/- 0.10 using N = (N2) * (-0.825 * O2 / (O2 + O3) + 0.718 + 0.853 * (O2 + O3) / O2)\n",
      "Mao Ial06_18a  N  = 6.90 +/- 0.09 using N = (N2) * (-0.825 * O2 / (O2 + O3) + 0.718 + 0.853 * (O2 + O3) / O2)\n",
      "   Ial06_18b  N  = 6.97 +/- 0.10 using N = (N2) * (-0.809 * O2 / (O2 + O3) + 0.712 + 0.852 * (O2 + O3) / O2)\n",
      "Mao Ial06_18b  N  = 6.90 +/- 0.09 using N = (N2) * (-0.809 * O2 / (O2 + O3) + 0.712 + 0.852 * (O2 + O3) / O2)\n",
      "   Ial06_18c  N  = 6.99 +/- 0.09 using N = (N2) * (-1.476 * O2 / (O2 + O3) + 1.752 + 0.688 * (O2 + O3) / O2)\n",
      "Mao Ial06_18c  N  = 6.95 +/- 0.09 using N = (N2) * (-1.476 * O2 / (O2 + O3) + 1.752 + 0.688 * (O2 + O3) / O2)\n",
      "   Ial06_19a  Ne = 7.15 +/- 0.07 using Ne = (Ne3) * (-0.385 * O3 / (O2 + O3) + 1.365 + 0.022 * (O2 + O3) / O3)\n",
      "Mao Ial06_19a  Ne = 7.07 +/- 0.07 using Ne = (Ne3) * (-0.385 * O3 / (O2 + O3) + 1.365 + 0.022 * (O2 + O3) / O3)\n",
      "   Ial06_19b  Ne = 7.15 +/- 0.07 using Ne = (Ne3) * (-0.405 * O3 / (O2 + O3) + 1.382 + 0.021 * (O2 + O3) / O3)\n",
      "Mao Ial06_19b  Ne = 7.07 +/- 0.07 using Ne = (Ne3) * (-0.405 * O3 / (O2 + O3) + 1.382 + 0.021 * (O2 + O3) / O3)\n",
      "   Ial06_19c  Ne = 7.19 +/- 0.08 using Ne = (Ne3) * (-0.591 * O3 / (O2 + O3) + 0.927 + 0.546 * (O2 + O3) / O3)\n",
      "Mao Ial06_19c  Ne = 7.15 +/- 0.10 using Ne = (Ne3) * (-0.591 * O3 / (O2 + O3) + 0.927 + 0.546 * (O2 + O3) / O3)\n",
      "   Ial06_20a  S  = 5.99 +/- 0.11 using S = ((S2 + S3)) * (0.121 * O2 / (O2 + O3) + 0.511 + 0.161 * (O2 + O3) / O2)\n",
      "Mao Ial06_20a  S  = 6.05 +/- 0.13 using S = ((S2 + S3)) * (0.121 * O2 / (O2 + O3) + 0.511 + 0.161 * (O2 + O3) / O2)\n",
      "   Ial06_20b  S  = 5.95 +/- 0.14 using S = ((S2 + S3)) * (0.155 * O2 / (O2 + O3) + 0.849 + 0.062 * (O2 + O3) / O2)\n",
      "Mao Ial06_20b  S  = 6.06 +/- 0.17 using S = ((S2 + S3)) * (0.155 * O2 / (O2 + O3) + 0.849 + 0.062 * (O2 + O3) / O2)\n",
      "   Ial06_20c  S  = 6.02 +/- 0.11 using S = ((S2 + S3)) * (0.178 * O2 / (O2 + O3) + 0.61 + 0.153 * (O2 + O3) / O2)\n",
      "Mao Ial06_20c  S  = 6.08 +/- 0.14 using S = ((S2 + S3)) * (0.178 * O2 / (O2 + O3) + 0.61 + 0.153 * (O2 + O3) / O2)\n",
      "   Ial06_22a  Ar = 5.48 +/- 0.10 using Ar = (Ar3) * (0.278 * O2 / (O2 + O3) + 0.836 + 0.121 * (O2 + O3) / O2)\n",
      "Mao Ial06_22a  Ar = 5.51 +/- 0.10 using Ar = (Ar3) * (0.278 * O2 / (O2 + O3) + 0.836 + 0.121 * (O2 + O3) / O2)\n",
      "   Ial06_22b  Ar = 5.37 +/- 0.10 using Ar = (Ar3) * (0.285 * O2 / (O2 + O3) + 0.833 + 0.051 * (O2 + O3) / O2)\n",
      "Mao Ial06_22b  Ar = 5.43 +/- 0.11 using Ar = (Ar3) * (0.285 * O2 / (O2 + O3) + 0.833 + 0.051 * (O2 + O3) / O2)\n",
      "   Ial06_22c  Ar = 5.35 +/- 0.11 using Ar = (Ar3) * (0.517 * O2 / (O2 + O3) + 0.763 + 0.042 * (O2 + O3) / O2)\n",
      "Mao Ial06_22c  Ar = 5.43 +/- 0.12 using Ar = (Ar3) * (0.517 * O2 / (O2 + O3) + 0.763 + 0.042 * (O2 + O3) / O2)\n"
     ]
    }
   ],
   "source": [
    "print('    Te[NII] = {:.0f} +/- {:.0f}, Te[OIII] = {:.0f} +/- {:.0f}'.format(np.nanmean(T_N2ANN),\n",
    "                                                                                                  np.nanstd(T_N2ANN),\n",
    "                                                                                                  np.nanmedian(T_O3ANN),\n",
    "                                                                                                  np.nanstd(T_O3ANN)))\n",
    "print('Mao Te[NII] = {:.0f} +/- {:.0f}, Te[OIII] = {:.0f} +/- {:.0f}'.format(np.nanmean(T_N2ANN2),\n",
    "                                                                                                  np.nanstd(T_N2ANN2),\n",
    "                                                                                                  np.nanmedian(T_O3ANN2),\n",
    "                                                                                                  np.nanstd(T_O3ANN2)))\n",
    "print('')\n",
    "# define a dictionary for the ionic abundances\n",
    "ab_dicANN2 = {}\n",
    "# we  use the following lines to determine the ionic abundances\n",
    "ab_labels = ['N2_6584A', 'N3_57.4m', 'N4_1487A', \n",
    "             'O2_3726A', 'O2_3729A', 'O3_5007A', 'O4_25.9m',\n",
    "             'Ne2_12.8m', 'Ne3_3869A', \n",
    "             'S2_6716A', 'S2_6731A','S3_6312A',\n",
    "             'Ar3_7136A']\n",
    "IP_cut = 30. \n",
    "# loop on the observed lines to determine the corresponding ionic abundances\n",
    "for line in obs.getSortedLines():\n",
    "    # this is one way to define temp and dens in each zone\n",
    "    # must be adapted to each case\n",
    "    if (line.atom in all_atoms) and (line.label in ab_labels):\n",
    "        if all_atoms[line.atom].IP > IP_cut:\n",
    "            tempANN2 = T_O3ANN2\n",
    "            IP_used = 'H'\n",
    "        else:\n",
    "            tempANN2 = T_N2ANN2\n",
    "            IP_used = 'L'                 \n",
    "        abANN2 = all_atoms[line.atom].getIonAbundance(line.corrIntens, tempANN2, densANN2, \n",
    "                                                  to_eval=line.to_eval, \n",
    "                                                  Hbeta=100)\n",
    "        # More than one abundance per ion can be obtained:\n",
    "        if line.atom not in ab_dicANN2:\n",
    "            ab_dicANN2[line.atom] = []\n",
    "        ab_dicANN2[line.atom].append(abANN2)\n",
    "for ion in ab_dicANN2:\n",
    "    ab_dicANN2[ion] = np.nanmedian(ab_dicANN2[ion], axis=0)\n",
    "ab_dicANN2['He1r'] = 0.1 * np.ones_like(ab_dicANN2['O2']) + np.random.randn(N_MC+1) * 0.005\n",
    "ab_dicANN2['He2r'] = 0.00001 * np.ones_like(ab_dicANN2['O2'])\n",
    "elem_abunANN2 = icf.getElemAbundance(ab_dicANN2, icf_family='Ial06', use_MC=True)\n",
    "elem_abun2ANN2 = get_reduced_dic(N_MC, obs.n_obs_origin, elem_abunANN2, value_method='median', error_method='quants', abund12=True)\n",
    "for icf_ref in np.sort(list(elem_abun2.keys())):\n",
    "    if icf_ref[-1] != 'e':\n",
    "        if np.log10(elem_abun2[icf_ref]) > -10:\n",
    "            value = elem_abun2ANN[icf_ref][0]\n",
    "            err = elem_abun2ANN[icf_ref+'_e'][0]\n",
    "            print('   {:10s} {:2s} = {:4.2f} +/- {:4.2f} using {}'.format(icf_ref, \n",
    "                                              icf.all_icfs[icf_ref]['elem'],\n",
    "                                                value,\n",
    "                                                err      ,    \n",
    "                                              icf.getExpression(icf_ref), \n",
    "                                              ))\n",
    "            value = elem_abun2ANN2[icf_ref][0]\n",
    "            err = elem_abun2ANN2[icf_ref+'_e'][0]\n",
    "            print('Mao {:10s} {:2s} = {:4.2f} +/- {:4.2f} using {}'.format(icf_ref, \n",
    "                                              icf.all_icfs[icf_ref]['elem'],\n",
    "                                                value,\n",
    "                                                err      ,    \n",
    "                                              icf.getExpression(icf_ref), \n",
    "                                              ))"
   ]
  },
  {
   "cell_type": "markdown",
   "metadata": {},
   "source": [
    "## The effect of changing atomic data is clear. It is not systematically in the same direction for all the element abundances, because the electron temperature decreases for N+ and increases for O++. \n",
    "\n",
    "## O/H is almost not affected N/H and Ne/H decrease while S/H and Ar/H increase, all by values close to 0.05 dex."
   ]
  }
 ],
 "metadata": {
  "kernelspec": {
   "display_name": "Python 3",
   "language": "python",
   "name": "python3"
  },
  "language_info": {
   "codemirror_mode": {
    "name": "ipython",
    "version": 3
   },
   "file_extension": ".py",
   "mimetype": "text/x-python",
   "name": "python",
   "nbconvert_exporter": "python",
   "pygments_lexer": "ipython3",
   "version": "3.7.6"
  }
 },
 "nbformat": 4,
 "nbformat_minor": 4
}
