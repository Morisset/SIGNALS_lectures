{
 "cells": [
  {
   "cell_type": "code",
   "execution_count": null,
   "metadata": {},
   "outputs": [],
   "source": [
    "import matplotlib.pyplot as plt\n",
    "import numpy as np\n",
    "import pyneb as pn"
   ]
  },
  {
   "cell_type": "code",
   "execution_count": null,
   "metadata": {},
   "outputs": [],
   "source": [
    "O3 = pn.Atom('O', 3, NLevels=5)\n",
    "N2 = pn.Atom('N', 2, NLevels=5)\n",
    "O2 = pn.Atom('O', 2, NLevels=5)\n",
    "S2 = pn.Atom('S', 2, NLevels=5)"
   ]
  },
  {
   "cell_type": "markdown",
   "metadata": {},
   "source": [
    "# ABUNDANCES DERIVATIONS WITH THE DIRECT METHOD"
   ]
  },
  {
   "cell_type": "code",
   "execution_count": null,
   "metadata": {},
   "outputs": [],
   "source": [
    "O3 = pn.Atom('O',3)"
   ]
  },
  {
   "cell_type": "code",
   "execution_count": null,
   "metadata": {},
   "outputs": [],
   "source": [
    "print(12 + np.log10(O3.getIonAbundance(int_ratio=125., tem=1e4, den=1e2, wave=5007, Hbeta=100.0)))"
   ]
  },
  {
   "cell_type": "code",
   "execution_count": null,
   "metadata": {},
   "outputs": [],
   "source": [
    "def print_abO(tem = 1e4, den = 1e2, int_ratio = 125., Hbeta = 100.):\n",
    "    print('Te = {:6.0f}, Ne = {:6.0f}, [OIII]/Hb = {:5.1f} -> 12 + log(O++/H+) = {:.2f}'.format(tem, den, int_ratio/Hbeta, \n",
    "                                                                      12 + np.log10(O3.getIonAbundance(int_ratio=int_ratio, \n",
    "                                                                                                       tem=tem, den=den, \n",
    "                                                                                                       wave=5007, \n",
    "                                                                                                       Hbeta=Hbeta))))\n",
    "print_abO(tem = 1e4, den = 1e2, int_ratio = 125.)\n",
    "print_abO(tem = 1e4, den = 1e2, int_ratio = 155.)\n",
    "print_abO(tem = 1.3e4, den = 1e2, int_ratio = 125.)\n",
    "print_abO(tem = 1e4, den = 1e5, int_ratio = 125.)"
   ]
  },
  {
   "cell_type": "markdown",
   "metadata": {},
   "source": [
    "## Let's make the process more efficient"
   ]
  },
  {
   "cell_type": "markdown",
   "metadata": {},
   "source": [
    "Te and Ne are determined, for different regions of the nebula, corresponding to different ions identified by their ionization potentials. It is now possible to determine the ionic abundances that corresponds to each observed emission line."
   ]
  },
  {
   "cell_type": "code",
   "execution_count": null,
   "metadata": {},
   "outputs": [],
   "source": [
    "# Fill the following with values determined in the previous notebook (or whatever value you want)\n",
    "dens = 4600\n",
    "T_N2 = 12800.\n",
    "T_O3 = 11927. "
   ]
  },
  {
   "cell_type": "code",
   "execution_count": null,
   "metadata": {},
   "outputs": [],
   "source": [
    "%%writefile observations2.dat\n",
    "LINE   MYOBJECT errMYOBJECT\n",
    "S4_10.5m   7.00  0.25\n",
    "Ne2_12.8m  8.30  0.25\n",
    "Ne3_15.6m 34.10  0.20\n",
    "S3_18.7m  10.00  0.20\n",
    "O2_3726A  39.70  0.05\n",
    "O2_3729A  18.60  0.05\n",
    "Ne3_3869A 18.90  0.05\n",
    "Ne3_3968A  6.4   0.10\n",
    "S2_4069A   0.85  0.15\n",
    "S2_4076A   0.45  0.15\n",
    "O3_4363A   4.36  0.10\n",
    "H1r_4861A 100.0  0.00\n",
    "O3_5007A 435.09  0.05\n",
    "N2_5755A   0.51  0.15\n",
    "S3_6312A   0.76  0.15\n",
    "O1_6300A   1.69  0.15\n",
    "O1_6364A   0.54  0.15\n",
    "N2_6548A   6.84  0.10\n",
    "H1r_6563A 345.0  0.05\n",
    "N2_6584A  19.00  0.10\n",
    "S2_6716A   1.22  0.15\n",
    "S2_6731A   2.18  0.15\n",
    "Ar3_7136A  4.91  0.15\n",
    "O2_7319A+  6.54  0.10\n",
    "O2_7330A+  5.17  0.10"
   ]
  },
  {
   "cell_type": "code",
   "execution_count": null,
   "metadata": {},
   "outputs": [],
   "source": [
    "obs = pn.Observation('observations1.dat', fileFormat='lines_in_rows_err_cols', corrected=False) \n",
    "obs.extinction.law = 'CCM89'  # define the extinction law from Cardelli et al.\n",
    "obs.def_EBV(label1=\"H1r_6563A\", label2=\"H1r_4861A\", r_theo=2.85) # Compute the redenning correction\n",
    "obs.correctData(normWave=4861)                      # Correct the data from attenuation"
   ]
  },
  {
   "cell_type": "code",
   "execution_count": null,
   "metadata": {},
   "outputs": [],
   "source": [
    "obs.getUniqueAtoms()"
   ]
  },
  {
   "cell_type": "code",
   "execution_count": null,
   "metadata": {},
   "outputs": [],
   "source": [
    "all_atoms = pn.getAtomDict(atom_list=obs.getUniqueAtoms(), NLevels=5)"
   ]
  },
  {
   "cell_type": "code",
   "execution_count": null,
   "metadata": {},
   "outputs": [],
   "source": [
    "all_atoms"
   ]
  },
  {
   "cell_type": "code",
   "execution_count": null,
   "metadata": {},
   "outputs": [],
   "source": [
    "# define a dictionary for the ionic abundances\n",
    "ab_dic = {}\n",
    "# we  use the following lines to determine the ionic abundances\n",
    "ab_labels = ['N2_6584A', 'N3_57.4m', 'N4_1487A', \n",
    "             'O2_3726A', 'O2_3729A', 'O3_5007A', 'O3_4363A', 'O4_25.9m',\n",
    "             'Ne2_12.8m', 'Ne3_3869A', 'Ne3_3968A', 'Ne3_15.6m', 'Ne5_3426A', 'Ne6_7.6m',\n",
    "             'S2_4069A', 'S2_4076A', 'S2_6716A', 'S2_6731A', 'S3_6312A',\n",
    "             'Ar3_7136A']\n",
    "# loop on the observed lines to determine the corresponding ionic abundances\n",
    "for line in obs.getSortedLines():\n",
    "    # this is one way to define temp and dens in each zone\n",
    "    # must be adapted to each case\n",
    "    if (line.atom in all_atoms) and (line.label in ab_labels):\n",
    "        IP_cut = 30. # The IPs have been imported before\n",
    "        if all_atoms[line.atom].IP > IP_cut:\n",
    "            temp = T_O3\n",
    "            IP_used = 'H'\n",
    "        else:\n",
    "            temp = T_N2\n",
    "            IP_used = 'L'                 \n",
    "        ab = all_atoms[line.atom].getIonAbundance(line.corrIntens, temp, dens, \n",
    "                                                  to_eval=line.to_eval, \n",
    "                                                  Hbeta=100)[0]\n",
    "        print('{0:10s}  {1}   {2:6.3f}'.format(line.label, IP_used, ab * 1e6))\n",
    "        # More than one abundance per ion can be obtained:\n",
    "        if line.atom not in ab_dic:\n",
    "            ab_dic[line.atom] = []\n",
    "        ab_dic[line.atom].append(ab)"
   ]
  },
  {
   "cell_type": "markdown",
   "metadata": {},
   "source": [
    "What is the reason for abundaces to differ for a given ion?\n",
    "\n",
    "How could you \"make\" all the abundances for a given ion to agree? Is this the right way? ;-)"
   ]
  },
  {
   "cell_type": "code",
   "execution_count": null,
   "metadata": {},
   "outputs": [],
   "source": [
    "ab_dic"
   ]
  },
  {
   "cell_type": "markdown",
   "metadata": {},
   "source": [
    "How will you define the \"adopted\" abundance for each ion?"
   ]
  },
  {
   "cell_type": "code",
   "execution_count": null,
   "metadata": {},
   "outputs": [],
   "source": [
    "for atom in ab_dic:\n",
    "    mean = np.mean(np.asarray(ab_dic[atom]))\n",
    "    ab_dic[atom] = mean # It may NOT be the best way\n",
    "ab_dic"
   ]
  },
  {
   "cell_type": "markdown",
   "metadata": {},
   "source": [
    "## Compute the total abundances from the ionic abundances"
   ]
  },
  {
   "cell_type": "markdown",
   "metadata": {},
   "source": [
    "$$ \\frac{X}{H} = \\sum_i \\frac{X^i}{H^+} $$"
   ]
  },
  {
   "cell_type": "markdown",
   "metadata": {},
   "source": [
    "If all the ions are observed, the situation is simple.\n",
    "\n",
    "This is not always the case, for example $N^{++}$ has no observable line in the visible."
   ]
  },
  {
   "cell_type": "markdown",
   "metadata": {},
   "source": [
    "Considere that the IPs of N and O are close:"
   ]
  },
  {
   "cell_type": "code",
   "execution_count": null,
   "metadata": {},
   "outputs": [],
   "source": [
    "pn.print_IPs(N_elems=8, N_ions=2)"
   ]
  },
  {
   "cell_type": "markdown",
   "metadata": {},
   "source": [
    "One can pretend that the ionization of both atoms are also similar: $N^+/N = O^+/O$. \n",
    "\n",
    "This leads to: $$ \\frac{N}{H} = \\frac{N^+}{H^+} . \\frac{N}{N^+} . \\frac{H^+}{H} = \\frac{N^+}{H^+} . \\frac{O}{O^+} = \\frac{N^+}{H^+} . ICF(N^+) $$\n",
    "\n",
    "The ICF is the coefficient by which one ionic abundance (or the sum of the observed ionic abundances) of an element is multiplied to obtain the total (elemental) abundance."
   ]
  },
  {
   "cell_type": "code",
   "execution_count": null,
   "metadata": {},
   "outputs": [],
   "source": [
    "# Instantiation of the ICF object\n",
    "icf = pn.ICF()"
   ]
  },
  {
   "cell_type": "code",
   "execution_count": null,
   "metadata": {},
   "outputs": [],
   "source": [
    "# The name of the ICF is related to the paper and the equation in the paper. It is used to obtain an elemental abundance, from the sum of some ionic abundances.\n",
    "icf.printAllICFs()"
   ]
  },
  {
   "cell_type": "code",
   "execution_count": null,
   "metadata": {},
   "outputs": [],
   "source": [
    "# ICFs are from papers:\n",
    "for type_ in icf.all_icf_refs:\n",
    "    print(type_, icf.all_icf_refs[type_])"
   ]
  },
  {
   "cell_type": "code",
   "execution_count": null,
   "metadata": {},
   "outputs": [],
   "source": [
    "# And they apply to different regions: HII, PNe, both.\n",
    "icf.getAvailableICFs(type_= ('HII', 'All'))"
   ]
  },
  {
   "cell_type": "code",
   "execution_count": null,
   "metadata": {},
   "outputs": [],
   "source": [
    "# Some ICFs requiere the He ionic fracions. In lack of HeII line, we put He++ abundance to a very low value\n",
    "ab_dic['He1r'] = 0.1\n",
    "ab_dic['He2r'] = 0.00001\n",
    "# Computing the elemental abundances from all ICF rules.\n",
    "\n",
    "# The following computes the elemental abundances from the rules.\n",
    "\n",
    "def pretty_print_icf(icf=None, icf_family='direct'):\n",
    "    if icf is None:\n",
    "        icf = pn.ICF()\n",
    "    elem_abun = icf.getElemAbundance(ab_dic, icf_family=icf_family)\n",
    "    printRule = True\n",
    "    for icf_ref in np.sort(list(elem_abun.keys())):\n",
    "        if np.isfinite(elem_abun[icf_ref]) and np.log10(elem_abun[icf_ref]).all() > -10:\n",
    "            if printRule:\n",
    "                print('{0:12s} {1}={3:.3} using {2}'.format(icf_ref, \n",
    "                                                  icf.all_icfs[icf_ref]['elem'],\n",
    "                                                  icf.getExpression(icf_ref), \n",
    "                                                  np.log10(elem_abun[icf_ref])+12))\n",
    "            else:\n",
    "                print('{0:12s} {1}={2:.3}'.format(icf_ref, \n",
    "                                                  icf.all_icfs[icf_ref]['elem'],\n",
    "                                                  np.log10(elem_abun[icf_ref])+12))\n"
   ]
  },
  {
   "cell_type": "code",
   "execution_count": null,
   "metadata": {},
   "outputs": [],
   "source": [
    "pretty_print_icf()"
   ]
  },
  {
   "cell_type": "code",
   "execution_count": null,
   "metadata": {},
   "outputs": [],
   "source": [
    "pretty_print_icf(icf, 'PHCD07')"
   ]
  },
  {
   "cell_type": "code",
   "execution_count": null,
   "metadata": {},
   "outputs": [],
   "source": [
    "pretty_print_icf(icf, 'Ial06')"
   ]
  },
  {
   "cell_type": "markdown",
   "metadata": {},
   "source": [
    "### !!! the following ones are for PNe !!!"
   ]
  },
  {
   "cell_type": "code",
   "execution_count": null,
   "metadata": {},
   "outputs": [],
   "source": [
    "pretty_print_icf(icf, 'KB94')"
   ]
  },
  {
   "cell_type": "code",
   "execution_count": null,
   "metadata": {},
   "outputs": [],
   "source": []
  }
 ],
 "metadata": {
  "kernelspec": {
   "display_name": "Python 3",
   "language": "python",
   "name": "python3"
  },
  "language_info": {
   "codemirror_mode": {
    "name": "ipython",
    "version": 3
   },
   "file_extension": ".py",
   "mimetype": "text/x-python",
   "name": "python",
   "nbconvert_exporter": "python",
   "pygments_lexer": "ipython3",
   "version": "3.7.6"
  }
 },
 "nbformat": 4,
 "nbformat_minor": 4
}
